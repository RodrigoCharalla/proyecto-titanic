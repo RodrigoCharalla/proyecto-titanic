{
  "nbformat": 4,
  "nbformat_minor": 0,
  "metadata": {
    "colab": {
      "provenance": [],
      "gpuType": "T4",
      "authorship_tag": "ABX9TyNxHmZemePG+HdgmVQO+adv",
      "include_colab_link": true
    },
    "kernelspec": {
      "name": "ir",
      "display_name": "R"
    },
    "language_info": {
      "name": "R"
    },
    "accelerator": "GPU"
  },
  "cells": [
    {
      "cell_type": "markdown",
      "metadata": {
        "id": "view-in-github",
        "colab_type": "text"
      },
      "source": [
        "<a href=\"https://colab.research.google.com/github/RodrigoCharalla/proyecto-titanic/blob/main/ml_titanic.ipynb\" target=\"_parent\"><img src=\"https://colab.research.google.com/assets/colab-badge.svg\" alt=\"Open In Colab\"/></a>"
      ]
    },
    {
      "cell_type": "markdown",
      "source": [
        "## Instalación y llamado de paquetes"
      ],
      "metadata": {
        "id": "XzjUBwuI0Vta"
      }
    },
    {
      "cell_type": "code",
      "source": [
        " install.packages(c(\"tidyverse\", \"caret\",\"ggpubr\",\n",
        "                  \"titanic\",\"randomForest\",\"doMC\",\"recipes\"))"
      ],
      "metadata": {
        "id": "voUbXVaCydsZ",
        "outputId": "549489fe-36ba-4205-c1f1-825e3fd8d517",
        "colab": {
          "base_uri": "https://localhost:8080/"
        }
      },
      "execution_count": 3,
      "outputs": [
        {
          "output_type": "stream",
          "name": "stderr",
          "text": [
            "Installing packages into ‘/usr/local/lib/R/site-library’\n",
            "(as ‘lib’ is unspecified)\n",
            "\n"
          ]
        }
      ]
    },
    {
      "cell_type": "code",
      "execution_count": null,
      "metadata": {
        "id": "2ws15M1bY4xq",
        "collapsed": true
      },
      "outputs": [],
      "source": [
        "#install.packages(\"caret\")"
      ]
    },
    {
      "cell_type": "code",
      "source": [
        "#install.packages(\"ggpubr\")"
      ],
      "metadata": {
        "id": "uvgQp1xU3twD"
      },
      "execution_count": null,
      "outputs": []
    },
    {
      "cell_type": "code",
      "source": [
        "#install.packages(\"tidyverse\")"
      ],
      "metadata": {
        "id": "rjnAeFBV22wW"
      },
      "execution_count": null,
      "outputs": []
    },
    {
      "cell_type": "code",
      "source": [
        "#install.packages(\"titanic\")"
      ],
      "metadata": {
        "id": "aVowe6y83ESE"
      },
      "execution_count": null,
      "outputs": []
    },
    {
      "cell_type": "code",
      "source": [
        "#install.packages(\"randomForest\")"
      ],
      "metadata": {
        "id": "Wvbzdl4DtYER"
      },
      "execution_count": null,
      "outputs": []
    },
    {
      "cell_type": "code",
      "source": [
        "#install.packages(\"doMC\")"
      ],
      "metadata": {
        "id": "_2tAovFFx2J4"
      },
      "execution_count": null,
      "outputs": []
    },
    {
      "cell_type": "code",
      "source": [
        "#install.packages(\"recipes\")"
      ],
      "metadata": {
        "id": "JifAWxQox_M6"
      },
      "execution_count": null,
      "outputs": []
    },
    {
      "cell_type": "code",
      "source": [
        "packages <- c(\"tidyverse\", \"caret\", \"ggpubr\", \"titanic\", \"randomForest\", \"doMC\", \"recipes\")\n",
        "lapply(packages, library, character.only = TRUE)"
      ],
      "metadata": {
        "collapsed": true,
        "id": "kES9e97s00wD"
      },
      "execution_count": null,
      "outputs": []
    },
    {
      "cell_type": "code",
      "source": [
        "library(caret)"
      ],
      "metadata": {
        "id": "qSpEdN9-ZHdY"
      },
      "execution_count": null,
      "outputs": []
    },
    {
      "cell_type": "markdown",
      "source": [
        "#Dataset Titanic"
      ],
      "metadata": {
        "id": "fINOKlfZcLEb"
      }
    },
    {
      "cell_type": "code",
      "source": [
        "library(tidyverse)\n",
        "library(titanic)\n",
        "datos <- titanic_train"
      ],
      "metadata": {
        "id": "qMOm2iYEh4KW"
      },
      "execution_count": null,
      "outputs": []
    },
    {
      "cell_type": "markdown",
      "source": [
        "#Análisis exploratorio de los datos\n"
      ],
      "metadata": {
        "id": "XxHuC4salGzh"
      }
    },
    {
      "cell_type": "markdown",
      "source": [
        "\n",
        "\n",
        "* **PassengerId:** identificador único del pasajero.\n",
        "\n",
        "* **Survived:** si el pasajero sobrevivió al naufragio, codificada como 0 (no) y 1 (si). Esta es la variable respuesta que interesa predecir.\n",
        "\n",
        "* **Pclass:** clase a la que pertenecía el pasajero: 1, 2 o 3.\n",
        "\n",
        "* **Name:** nombre del pasajero.\n",
        "\n",
        "* **Sex:** sexo del pasajero.\n",
        "\n",
        "* **Age:** edad del pasajero.\n",
        "\n",
        "* **SibSp:** número de hermanos, hermanas, hermanastros o hermanastras en el barco.\n",
        "\n",
        "* **Parch:** número de padres e hijos en el barco.\n",
        "\n",
        "* **Ticket:** identificador del billete.\n",
        "\n",
        "* **Fare:** precio pagado por el billete.\n",
        "\n",
        "* **Cabin:** identificador del camarote asignado al pasajero.\n",
        "\n",
        "* **Embarked:** puerto en el que embarcó el pasajero."
      ],
      "metadata": {
        "id": "LGnYqgixoscC"
      }
    },
    {
      "cell_type": "markdown",
      "source": [
        "## Tipo de variables\n"
      ],
      "metadata": {
        "id": "CdLQ8U9_FxTN"
      }
    },
    {
      "cell_type": "code",
      "source": [
        "# Resumen del set de datos\n",
        "glimpse(datos)"
      ],
      "metadata": {
        "id": "jJ0EnHVIGd3O",
        "outputId": "c594db44-7ce7-4d83-9e99-88c017907cef",
        "colab": {
          "base_uri": "https://localhost:8080/"
        }
      },
      "execution_count": null,
      "outputs": [
        {
          "output_type": "stream",
          "name": "stdout",
          "text": [
            "Rows: 891\n",
            "Columns: 12\n",
            "$ PassengerId \u001b[3m\u001b[90m<int>\u001b[39m\u001b[23m 1, 2, 3, 4, 5, 6, 7, 8, 9, 10, 11, 12, 13, 14, 15, 16, 17,…\n",
            "$ Survived    \u001b[3m\u001b[90m<int>\u001b[39m\u001b[23m 0, 1, 1, 1, 0, 0, 0, 0, 1, 1, 1, 1, 0, 0, 0, 1, 0, 1, 0, 1…\n",
            "$ Pclass      \u001b[3m\u001b[90m<int>\u001b[39m\u001b[23m 3, 1, 3, 1, 3, 3, 1, 3, 3, 2, 3, 1, 3, 3, 3, 2, 3, 2, 3, 3…\n",
            "$ Name        \u001b[3m\u001b[90m<chr>\u001b[39m\u001b[23m \"Braund, Mr. Owen Harris\", \"Cumings, Mrs. John Bradley (Fl…\n",
            "$ Sex         \u001b[3m\u001b[90m<chr>\u001b[39m\u001b[23m \"male\", \"female\", \"female\", \"female\", \"male\", \"male\", \"mal…\n",
            "$ Age         \u001b[3m\u001b[90m<dbl>\u001b[39m\u001b[23m 22, 38, 26, 35, 35, NA, 54, 2, 27, 14, 4, 58, 20, 39, 14, …\n",
            "$ SibSp       \u001b[3m\u001b[90m<int>\u001b[39m\u001b[23m 1, 1, 0, 1, 0, 0, 0, 3, 0, 1, 1, 0, 0, 1, 0, 0, 4, 0, 1, 0…\n",
            "$ Parch       \u001b[3m\u001b[90m<int>\u001b[39m\u001b[23m 0, 0, 0, 0, 0, 0, 0, 1, 2, 0, 1, 0, 0, 5, 0, 0, 1, 0, 0, 0…\n",
            "$ Ticket      \u001b[3m\u001b[90m<chr>\u001b[39m\u001b[23m \"A/5 21171\", \"PC 17599\", \"STON/O2. 3101282\", \"113803\", \"37…\n",
            "$ Fare        \u001b[3m\u001b[90m<dbl>\u001b[39m\u001b[23m 7.2500, 71.2833, 7.9250, 53.1000, 8.0500, 8.4583, 51.8625,…\n",
            "$ Cabin       \u001b[3m\u001b[90m<chr>\u001b[39m\u001b[23m \"\", \"C85\", \"\", \"C123\", \"\", \"\", \"E46\", \"\", \"\", \"\", \"G6\", \"C…\n",
            "$ Embarked    \u001b[3m\u001b[90m<chr>\u001b[39m\u001b[23m \"S\", \"C\", \"S\", \"S\", \"S\", \"Q\", \"S\", \"S\", \"S\", \"C\", \"S\", \"S\"…\n"
          ]
        }
      ]
    },
    {
      "cell_type": "code",
      "source": [
        "datos$Survived <- if_else(datos$Survived == 1, \"Si\", \"No\")\n",
        "datos$Survived <- as.factor(datos$Survived)"
      ],
      "metadata": {
        "id": "yWCO_ams4qsS"
      },
      "execution_count": null,
      "outputs": []
    },
    {
      "cell_type": "code",
      "source": [
        "datos$Pclass <- as.factor(datos$Pclass)"
      ],
      "metadata": {
        "id": "kvGGNk0A4sq7"
      },
      "execution_count": null,
      "outputs": []
    },
    {
      "cell_type": "code",
      "source": [
        "datos$SibSp <- as.factor(datos$SibSp)\n",
        "datos$Parch <- as.factor(datos$Parch)"
      ],
      "metadata": {
        "id": "Kwsl_-Hj4ube"
      },
      "execution_count": null,
      "outputs": []
    },
    {
      "cell_type": "code",
      "source": [
        "datos$Sex      <- as.factor(datos$Sex)\n",
        "datos$Embarked <- as.factor(datos$Embarked)"
      ],
      "metadata": {
        "id": "zhGrWXsq4v5_"
      },
      "execution_count": null,
      "outputs": []
    },
    {
      "cell_type": "code",
      "source": [
        "datos_long <- datos %>% gather(key = \"variable\", value = \"valor\", -PassengerId)\n",
        "head(datos_long)"
      ],
      "metadata": {
        "id": "2sr_qJEI4xTS",
        "outputId": "ad179835-3c5b-48f9-e64d-6504bd956d78",
        "colab": {
          "base_uri": "https://localhost:8080/",
          "height": 320
        }
      },
      "execution_count": null,
      "outputs": [
        {
          "output_type": "stream",
          "name": "stderr",
          "text": [
            "Warning message:\n",
            "“\u001b[1m\u001b[22mattributes are not identical across measure variables; they will be dropped”\n"
          ]
        },
        {
          "output_type": "display_data",
          "data": {
            "text/html": [
              "<table class=\"dataframe\">\n",
              "<caption>A data.frame: 6 × 3</caption>\n",
              "<thead>\n",
              "\t<tr><th></th><th scope=col>PassengerId</th><th scope=col>variable</th><th scope=col>valor</th></tr>\n",
              "\t<tr><th></th><th scope=col>&lt;int&gt;</th><th scope=col>&lt;chr&gt;</th><th scope=col>&lt;chr&gt;</th></tr>\n",
              "</thead>\n",
              "<tbody>\n",
              "\t<tr><th scope=row>1</th><td>1</td><td>Survived</td><td>No</td></tr>\n",
              "\t<tr><th scope=row>2</th><td>2</td><td>Survived</td><td>Si</td></tr>\n",
              "\t<tr><th scope=row>3</th><td>3</td><td>Survived</td><td>Si</td></tr>\n",
              "\t<tr><th scope=row>4</th><td>4</td><td>Survived</td><td>Si</td></tr>\n",
              "\t<tr><th scope=row>5</th><td>5</td><td>Survived</td><td>No</td></tr>\n",
              "\t<tr><th scope=row>6</th><td>6</td><td>Survived</td><td>No</td></tr>\n",
              "</tbody>\n",
              "</table>\n"
            ],
            "text/markdown": "\nA data.frame: 6 × 3\n\n| <!--/--> | PassengerId &lt;int&gt; | variable &lt;chr&gt; | valor &lt;chr&gt; |\n|---|---|---|---|\n| 1 | 1 | Survived | No |\n| 2 | 2 | Survived | Si |\n| 3 | 3 | Survived | Si |\n| 4 | 4 | Survived | Si |\n| 5 | 5 | Survived | No |\n| 6 | 6 | Survived | No |\n\n",
            "text/latex": "A data.frame: 6 × 3\n\\begin{tabular}{r|lll}\n  & PassengerId & variable & valor\\\\\n  & <int> & <chr> & <chr>\\\\\n\\hline\n\t1 & 1 & Survived & No\\\\\n\t2 & 2 & Survived & Si\\\\\n\t3 & 3 & Survived & Si\\\\\n\t4 & 4 & Survived & Si\\\\\n\t5 & 5 & Survived & No\\\\\n\t6 & 6 & Survived & No\\\\\n\\end{tabular}\n",
            "text/plain": [
              "  PassengerId variable valor\n",
              "1 1           Survived No   \n",
              "2 2           Survived Si   \n",
              "3 3           Survived Si   \n",
              "4 4           Survived Si   \n",
              "5 5           Survived No   \n",
              "6 6           Survived No   "
            ]
          },
          "metadata": {}
        }
      ]
    },
    {
      "cell_type": "markdown",
      "source": [
        "## Número de observaciones y valores ausentes"
      ],
      "metadata": {
        "id": "Hwnz76Al65Jy"
      }
    },
    {
      "cell_type": "code",
      "source": [
        "# Número de observaciones del set de datos\n",
        "nrow(datos)"
      ],
      "metadata": {
        "id": "NJuNuqfA4y7K",
        "outputId": "bd7fa498-3656-4a20-f165-c12f08c49dfb",
        "colab": {
          "base_uri": "https://localhost:8080/",
          "height": 34
        }
      },
      "execution_count": null,
      "outputs": [
        {
          "output_type": "display_data",
          "data": {
            "text/html": [
              "891"
            ],
            "text/markdown": "891",
            "text/latex": "891",
            "text/plain": [
              "[1] 891"
            ]
          },
          "metadata": {}
        }
      ]
    },
    {
      "cell_type": "code",
      "source": [
        "# Detección si hay alguna fila incompleta\n",
        "any(!complete.cases(datos))"
      ],
      "metadata": {
        "id": "w9Qg-Pm_429s",
        "outputId": "86394eb0-cf49-4553-d828-07f79758936f",
        "colab": {
          "base_uri": "https://localhost:8080/",
          "height": 34
        }
      },
      "execution_count": null,
      "outputs": [
        {
          "output_type": "display_data",
          "data": {
            "text/html": [
              "TRUE"
            ],
            "text/markdown": "TRUE",
            "text/latex": "TRUE",
            "text/plain": [
              "[1] TRUE"
            ]
          },
          "metadata": {}
        }
      ]
    },
    {
      "cell_type": "code",
      "source": [
        "# Número de datos ausentes por variable\n",
        "map_dbl(datos, .f = function(x){sum(is.na(x))})"
      ],
      "metadata": {
        "id": "tiqo4X9N5R04",
        "outputId": "63e23402-f14d-4bc2-edeb-6218f07c5ef2",
        "colab": {
          "base_uri": "https://localhost:8080/",
          "height": 52
        }
      },
      "execution_count": null,
      "outputs": [
        {
          "output_type": "display_data",
          "data": {
            "text/html": [
              "<style>\n",
              ".dl-inline {width: auto; margin:0; padding: 0}\n",
              ".dl-inline>dt, .dl-inline>dd {float: none; width: auto; display: inline-block}\n",
              ".dl-inline>dt::after {content: \":\\0020\"; padding-right: .5ex}\n",
              ".dl-inline>dt:not(:first-of-type) {padding-left: .5ex}\n",
              "</style><dl class=dl-inline><dt>PassengerId</dt><dd>0</dd><dt>Survived</dt><dd>0</dd><dt>Pclass</dt><dd>0</dd><dt>Name</dt><dd>0</dd><dt>Sex</dt><dd>0</dd><dt>Age</dt><dd>177</dd><dt>SibSp</dt><dd>0</dd><dt>Parch</dt><dd>0</dd><dt>Ticket</dt><dd>0</dd><dt>Fare</dt><dd>0</dd><dt>Cabin</dt><dd>0</dd><dt>Embarked</dt><dd>0</dd></dl>\n"
            ],
            "text/markdown": "PassengerId\n:   0Survived\n:   0Pclass\n:   0Name\n:   0Sex\n:   0Age\n:   177SibSp\n:   0Parch\n:   0Ticket\n:   0Fare\n:   0Cabin\n:   0Embarked\n:   0\n\n",
            "text/latex": "\\begin{description*}\n\\item[PassengerId] 0\n\\item[Survived] 0\n\\item[Pclass] 0\n\\item[Name] 0\n\\item[Sex] 0\n\\item[Age] 177\n\\item[SibSp] 0\n\\item[Parch] 0\n\\item[Ticket] 0\n\\item[Fare] 0\n\\item[Cabin] 0\n\\item[Embarked] 0\n\\end{description*}\n",
            "text/plain": [
              "PassengerId    Survived      Pclass        Name         Sex         Age \n",
              "          0           0           0           0           0         177 \n",
              "      SibSp       Parch      Ticket        Fare       Cabin    Embarked \n",
              "          0           0           0           0           0           0 "
            ]
          },
          "metadata": {}
        }
      ]
    },
    {
      "cell_type": "code",
      "source": [
        "datos %>% map_lgl(.f = function(x){any(!is.na(x) & x == \"\")})"
      ],
      "metadata": {
        "id": "Q2jmoa9m5Txm",
        "outputId": "6989898b-efb9-44fd-a98f-b30e6cbb3cc6",
        "colab": {
          "base_uri": "https://localhost:8080/",
          "height": 52
        }
      },
      "execution_count": null,
      "outputs": [
        {
          "output_type": "display_data",
          "data": {
            "text/html": [
              "<style>\n",
              ".dl-inline {width: auto; margin:0; padding: 0}\n",
              ".dl-inline>dt, .dl-inline>dd {float: none; width: auto; display: inline-block}\n",
              ".dl-inline>dt::after {content: \":\\0020\"; padding-right: .5ex}\n",
              ".dl-inline>dt:not(:first-of-type) {padding-left: .5ex}\n",
              "</style><dl class=dl-inline><dt>PassengerId</dt><dd>FALSE</dd><dt>Survived</dt><dd>FALSE</dd><dt>Pclass</dt><dd>FALSE</dd><dt>Name</dt><dd>FALSE</dd><dt>Sex</dt><dd>FALSE</dd><dt>Age</dt><dd>FALSE</dd><dt>SibSp</dt><dd>FALSE</dd><dt>Parch</dt><dd>FALSE</dd><dt>Ticket</dt><dd>FALSE</dd><dt>Fare</dt><dd>FALSE</dd><dt>Cabin</dt><dd>TRUE</dd><dt>Embarked</dt><dd>TRUE</dd></dl>\n"
            ],
            "text/markdown": "PassengerId\n:   FALSESurvived\n:   FALSEPclass\n:   FALSEName\n:   FALSESex\n:   FALSEAge\n:   FALSESibSp\n:   FALSEParch\n:   FALSETicket\n:   FALSEFare\n:   FALSECabin\n:   TRUEEmbarked\n:   TRUE\n\n",
            "text/latex": "\\begin{description*}\n\\item[PassengerId] FALSE\n\\item[Survived] FALSE\n\\item[Pclass] FALSE\n\\item[Name] FALSE\n\\item[Sex] FALSE\n\\item[Age] FALSE\n\\item[SibSp] FALSE\n\\item[Parch] FALSE\n\\item[Ticket] FALSE\n\\item[Fare] FALSE\n\\item[Cabin] TRUE\n\\item[Embarked] TRUE\n\\end{description*}\n",
            "text/plain": [
              "PassengerId    Survived      Pclass        Name         Sex         Age \n",
              "      FALSE       FALSE       FALSE       FALSE       FALSE       FALSE \n",
              "      SibSp       Parch      Ticket        Fare       Cabin    Embarked \n",
              "      FALSE       FALSE       FALSE       FALSE        TRUE        TRUE "
            ]
          },
          "metadata": {}
        }
      ]
    },
    {
      "cell_type": "code",
      "source": [
        "# La variable Cabin está almacenada como character\n",
        "datos$Cabin[datos$Cabin == \"\"] <- NA"
      ],
      "metadata": {
        "id": "_ypMuIkr5XCl"
      },
      "execution_count": null,
      "outputs": []
    },
    {
      "cell_type": "code",
      "source": [
        "levels(datos$Embarked)"
      ],
      "metadata": {
        "id": "57w8bTCJ5Y3R",
        "outputId": "17873d7e-abe0-4c84-e622-a94a36290b0e",
        "colab": {
          "base_uri": "https://localhost:8080/",
          "height": 34
        }
      },
      "execution_count": null,
      "outputs": [
        {
          "output_type": "display_data",
          "data": {
            "text/html": [
              "<style>\n",
              ".list-inline {list-style: none; margin:0; padding: 0}\n",
              ".list-inline>li {display: inline-block}\n",
              ".list-inline>li:not(:last-child)::after {content: \"\\00b7\"; padding: 0 .5ex}\n",
              "</style>\n",
              "<ol class=list-inline><li>''</li><li>'C'</li><li>'Q'</li><li>'S'</li></ol>\n"
            ],
            "text/markdown": "1. ''\n2. 'C'\n3. 'Q'\n4. 'S'\n\n\n",
            "text/latex": "\\begin{enumerate*}\n\\item ''\n\\item 'C'\n\\item 'Q'\n\\item 'S'\n\\end{enumerate*}\n",
            "text/plain": [
              "[1] \"\"  \"C\" \"Q\" \"S\""
            ]
          },
          "metadata": {}
        }
      ]
    },
    {
      "cell_type": "code",
      "source": [
        "datos$Embarked <- as.character(datos$Embarked)\n",
        "datos$Embarked[datos$Embarked == \"\"] <- NA\n",
        "datos$Embarked <- as.factor(datos$Embarked)\n",
        "levels(datos$Embarked)"
      ],
      "metadata": {
        "id": "mW5YMCOe5v1B",
        "outputId": "e9417419-5682-4a52-c35d-8a8d1dbceabf",
        "colab": {
          "base_uri": "https://localhost:8080/",
          "height": 34
        }
      },
      "execution_count": null,
      "outputs": [
        {
          "output_type": "display_data",
          "data": {
            "text/html": [
              "<style>\n",
              ".list-inline {list-style: none; margin:0; padding: 0}\n",
              ".list-inline>li {display: inline-block}\n",
              ".list-inline>li:not(:last-child)::after {content: \"\\00b7\"; padding: 0 .5ex}\n",
              "</style>\n",
              "<ol class=list-inline><li>'C'</li><li>'Q'</li><li>'S'</li></ol>\n"
            ],
            "text/markdown": "1. 'C'\n2. 'Q'\n3. 'S'\n\n\n",
            "text/latex": "\\begin{enumerate*}\n\\item 'C'\n\\item 'Q'\n\\item 'S'\n\\end{enumerate*}\n",
            "text/plain": [
              "[1] \"C\" \"Q\" \"S\""
            ]
          },
          "metadata": {}
        }
      ]
    },
    {
      "cell_type": "code",
      "source": [
        "# Este cambio también se aplica al dataframe datos_long\n",
        "datos_long$valor[datos_long$valor == \"\"] <- NA"
      ],
      "metadata": {
        "id": "vzZPhExn5xo2"
      },
      "execution_count": null,
      "outputs": []
    },
    {
      "cell_type": "code",
      "source": [
        "# Número de datos ausentes por variable\n",
        "map_dbl(datos, .f = function(x){sum(is.na(x))})"
      ],
      "metadata": {
        "id": "7TaY61a452HO",
        "outputId": "b8b26e9e-6b01-47d4-af03-f657da9929ac",
        "colab": {
          "base_uri": "https://localhost:8080/",
          "height": 52
        }
      },
      "execution_count": null,
      "outputs": [
        {
          "output_type": "display_data",
          "data": {
            "text/html": [
              "<style>\n",
              ".dl-inline {width: auto; margin:0; padding: 0}\n",
              ".dl-inline>dt, .dl-inline>dd {float: none; width: auto; display: inline-block}\n",
              ".dl-inline>dt::after {content: \":\\0020\"; padding-right: .5ex}\n",
              ".dl-inline>dt:not(:first-of-type) {padding-left: .5ex}\n",
              "</style><dl class=dl-inline><dt>PassengerId</dt><dd>0</dd><dt>Survived</dt><dd>0</dd><dt>Pclass</dt><dd>0</dd><dt>Name</dt><dd>0</dd><dt>Sex</dt><dd>0</dd><dt>Age</dt><dd>177</dd><dt>SibSp</dt><dd>0</dd><dt>Parch</dt><dd>0</dd><dt>Ticket</dt><dd>0</dd><dt>Fare</dt><dd>0</dd><dt>Cabin</dt><dd>687</dd><dt>Embarked</dt><dd>2</dd></dl>\n"
            ],
            "text/markdown": "PassengerId\n:   0Survived\n:   0Pclass\n:   0Name\n:   0Sex\n:   0Age\n:   177SibSp\n:   0Parch\n:   0Ticket\n:   0Fare\n:   0Cabin\n:   687Embarked\n:   2\n\n",
            "text/latex": "\\begin{description*}\n\\item[PassengerId] 0\n\\item[Survived] 0\n\\item[Pclass] 0\n\\item[Name] 0\n\\item[Sex] 0\n\\item[Age] 177\n\\item[SibSp] 0\n\\item[Parch] 0\n\\item[Ticket] 0\n\\item[Fare] 0\n\\item[Cabin] 687\n\\item[Embarked] 2\n\\end{description*}\n",
            "text/plain": [
              "PassengerId    Survived      Pclass        Name         Sex         Age \n",
              "          0           0           0           0           0         177 \n",
              "      SibSp       Parch      Ticket        Fare       Cabin    Embarked \n",
              "          0           0           0           0         687           2 "
            ]
          },
          "metadata": {}
        }
      ]
    },
    {
      "cell_type": "code",
      "source": [
        "# Representación gráfica de los datos ausentes\n",
        "datos_long <- datos_long %>%  mutate(ausente = is.na(valor))\n",
        "ggplot(data = datos_long, aes(x = variable,\n",
        "                              y = PassengerId,\n",
        "                              fill = ausente)) +\n",
        "  geom_raster() +\n",
        "  scale_fill_manual(values = c(\"gray60\", \"orangered2\")) +\n",
        "  theme_bw() +\n",
        "  labs(title = \"Valores ausentes por variable\") +\n",
        "  theme(legend.position = \"bottom\")"
      ],
      "metadata": {
        "id": "dxwH-6rR6DAF",
        "outputId": "20c866e7-7842-44b1-c92a-144f0704e55c",
        "colab": {
          "base_uri": "https://localhost:8080/",
          "height": 437
        }
      },
      "execution_count": null,
      "outputs": [
        {
          "output_type": "display_data",
          "data": {
            "text/plain": [
              "plot without title"
            ],
            "image/png": "[encoded data removed]"
          },
          "metadata": {
            "image/png": {
              "width": 420,
              "height": 420
            }
          }
        }
      ]
    },
    {
      "cell_type": "code",
      "source": [
        "datos_long %>%\n",
        "  group_by(variable) %>%\n",
        "  summarize(porcentaje_NA = 100 * sum(is.na(valor)) / length(valor)) %>%\n",
        "  ggplot(aes(x = reorder(variable, desc(porcentaje_NA)), y = porcentaje_NA)) +\n",
        "    geom_col() +\n",
        "    labs(title = \"Porcentaje valores ausentes por variable\",\n",
        "         x = \"Variable\", y = \"Porcentaje NAs\") +\n",
        "    theme_bw()"
      ],
      "metadata": {
        "id": "4kA_eCSz6sQZ",
        "outputId": "71226207-3375-43bc-955d-a74a6ed51349",
        "colab": {
          "base_uri": "https://localhost:8080/",
          "height": 437
        }
      },
      "execution_count": null,
      "outputs": [
        {
          "output_type": "display_data",
          "data": {
            "text/plain": [
              "plot without title"
            ],
            "image/png": "[encoded data removed]"
          },
          "metadata": {
            "image/png": {
              "width": 420,
              "height": 420
            }
          }
        }
      ]
    },
    {
      "cell_type": "markdown",
      "source": [
        "## Distribución de variables respuesta"
      ],
      "metadata": {
        "id": "QRQW7g9C79gh"
      }
    },
    {
      "cell_type": "code",
      "source": [
        "ggplot(data = datos, aes(x = Survived, y = ..count.., fill = Survived)) +\n",
        "  geom_bar() +\n",
        "  scale_fill_manual(values = c(\"gray50\", \"orangered2\")) +\n",
        "  labs(title = \"Supervivencia\") +\n",
        "  theme_bw() +\n",
        "  theme(legend.position = \"bottom\")"
      ],
      "metadata": {
        "id": "6gfNfCzJ8Hkb",
        "outputId": "8cc7e4a8-bbf1-4c7f-9ceb-6efc2c8a4f24",
        "colab": {
          "base_uri": "https://localhost:8080/",
          "height": 489
        }
      },
      "execution_count": null,
      "outputs": [
        {
          "output_type": "stream",
          "name": "stderr",
          "text": [
            "Warning message:\n",
            "“\u001b[1m\u001b[22mThe dot-dot notation (`..count..`) was deprecated in ggplot2 3.4.0.\n",
            "\u001b[36mℹ\u001b[39m Please use `after_stat(count)` instead.”\n"
          ]
        },
        {
          "output_type": "display_data",
          "data": {
            "text/plain": [
              "plot without title"
            ],
            "image/png": "[encoded data removed]"
          },
          "metadata": {
            "image/png": {
              "width": 420,
              "height": 420
            }
          }
        }
      ]
    },
    {
      "cell_type": "code",
      "source": [
        "# Tabla de frecuencias\n",
        "table(datos$Survived)"
      ],
      "metadata": {
        "id": "jHn_3RT-8LtI",
        "outputId": "de9841f3-ff8b-43b8-bd04-f41be10b95c1",
        "colab": {
          "base_uri": "https://localhost:8080/",
          "height": 69
        }
      },
      "execution_count": null,
      "outputs": [
        {
          "output_type": "display_data",
          "data": {
            "text/plain": [
              "\n",
              " No  Si \n",
              "549 342 "
            ]
          },
          "metadata": {}
        }
      ]
    },
    {
      "cell_type": "code",
      "source": [
        "prop.table(table(datos$Survived)) %>% round(digits = 2)"
      ],
      "metadata": {
        "id": "Qq1dnYHd8k2x",
        "outputId": "0599f1e1-6afc-4cf8-8d36-29eadcb46e7f",
        "colab": {
          "base_uri": "https://localhost:8080/",
          "height": 69
        }
      },
      "execution_count": null,
      "outputs": [
        {
          "output_type": "display_data",
          "data": {
            "text/plain": [
              "\n",
              "  No   Si \n",
              "0.62 0.38 "
            ]
          },
          "metadata": {}
        }
      ]
    },
    {
      "cell_type": "code",
      "source": [
        "# Porcentaje de aciertos si se predice para todas las observaciones que\n",
        "#no sobrevivieron.\n",
        "n_observaciones <- nrow(datos)\n",
        "predicciones <- rep(x = \"No\",  n_observaciones)\n",
        "mean(predicciones == datos$Survived) * 100"
      ],
      "metadata": {
        "id": "cLfo7R498-ie",
        "outputId": "528c9db9-8271-4467-9b69-056cccef50ba",
        "colab": {
          "base_uri": "https://localhost:8080/",
          "height": 34
        }
      },
      "execution_count": null,
      "outputs": [
        {
          "output_type": "display_data",
          "data": {
            "text/html": [
              "61.6161616161616"
            ],
            "text/markdown": "61.6161616161616",
            "text/latex": "61.6161616161616",
            "text/plain": [
              "[1] 61.61616"
            ]
          },
          "metadata": {}
        }
      ]
    },
    {
      "cell_type": "markdown",
      "source": [
        "## Distribución de variables continuas"
      ],
      "metadata": {
        "id": "d6tuuPw89IpH"
      }
    },
    {
      "cell_type": "code",
      "source": [
        "library(ggpubr)\n",
        "p1 <- ggplot(data = datos, aes(x = Age, fill = Survived)) +\n",
        "      geom_density(alpha = 0.5) +\n",
        "      scale_fill_manual(values = c(\"gray50\", \"orangered2\")) +\n",
        "      geom_rug(aes(color = Survived), alpha = 0.5) +\n",
        "      scale_color_manual(values = c(\"gray50\", \"orangered2\")) +\n",
        "      theme_bw()\n",
        "p2 <- ggplot(data = datos, aes(x = Survived, y = Age, color = Survived)) +\n",
        "      geom_boxplot(outlier.shape = NA) +\n",
        "      geom_jitter(alpha = 0.3, width = 0.15) +\n",
        "      scale_color_manual(values = c(\"gray50\", \"orangered2\")) +\n",
        "      theme_bw()\n",
        "final_plot <- ggarrange(p1, p2, legend = \"top\")\n",
        "final_plot <- annotate_figure(final_plot, top = text_grob(\"Age\", size = 15))\n",
        "final_plot"
      ],
      "metadata": {
        "id": "PW-nFsjp9H6w",
        "outputId": "23a71295-c367-4798-e047-6c6f7cc73f90",
        "colab": {
          "base_uri": "https://localhost:8080/",
          "height": 106
        }
      },
      "execution_count": null,
      "outputs": [
        {
          "output_type": "error",
          "ename": "ERROR",
          "evalue": "Error in library(ggpubr): there is no package called ‘ggpubr’\n",
          "traceback": [
            "Error in library(ggpubr): there is no package called ‘ggpubr’\nTraceback:\n",
            "1. library(ggpubr)"
          ]
        }
      ]
    },
    {
      "cell_type": "code",
      "source": [
        "# Estadísticos de la edad de los supervivientes y fallecidos\n",
        "datos %>% filter(!is.na(Age)) %>% group_by(Survived) %>%\n",
        "          summarise(media = mean(Age),\n",
        "                    mediana = median(Age),\n",
        "                    min = min(Age),\n",
        "                    max = max(Age))"
      ],
      "metadata": {
        "id": "rw1VXqym-BKh"
      },
      "execution_count": null,
      "outputs": []
    },
    {
      "cell_type": "code",
      "source": [
        "datos <- datos %>%\n",
        "         mutate(Age_grupo = case_when(Age <= 10  ~ \"niño\",\n",
        "                                      Age > 10 & Age <= 60  ~ \"adulto\",\n",
        "                                      Age > 60 ~ \"anciano\"))\n",
        "datos$Age_grupo <- as.factor(datos$Age_grupo)"
      ],
      "metadata": {
        "id": "9J4nH9_C-D9n"
      },
      "execution_count": null,
      "outputs": []
    },
    {
      "cell_type": "code",
      "source": [
        "p1 <- ggplot(data = datos, aes(x = Fare, fill = Survived)) +\n",
        "      geom_density(alpha = 0.5) +\n",
        "      scale_fill_manual(values = c(\"gray50\", \"orangered2\")) +\n",
        "      geom_rug(aes(color = Survived), alpha = 0.5) +\n",
        "      scale_color_manual(values = c(\"gray50\", \"orangered2\")) +\n",
        "      theme_bw()\n",
        "p2 <- ggplot(data = datos, aes(x = Survived, y = Fare, color = Survived)) +\n",
        "      geom_boxplot(outlier.shape = NA) +\n",
        "      geom_jitter(alpha = 0.3, width = 0.15) +\n",
        "      scale_color_manual(values = c(\"gray50\", \"orangered2\")) +\n",
        "      theme_bw()\n",
        "final_plot <- ggarrange(p1, p2, legend = \"top\")\n",
        "final_plot <- annotate_figure(final_plot, top = text_grob(\"Fare\", size = 15))\n",
        "final_plot"
      ],
      "metadata": {
        "id": "bAXjA1ke-LNf"
      },
      "execution_count": null,
      "outputs": []
    },
    {
      "cell_type": "code",
      "source": [
        "# Estadísticos del precio del billete de los supervivientes y fallecidos\n",
        "datos %>% filter(!is.na(Fare)) %>% group_by(Survived) %>%\n",
        "          summarise(media = mean(Fare),\n",
        "                    mediana = median(Fare),\n",
        "                    min = min(Fare),\n",
        "                    max = max(Fare))"
      ],
      "metadata": {
        "id": "y6nkBAAg-N6r"
      },
      "execution_count": null,
      "outputs": []
    },
    {
      "cell_type": "code",
      "source": [
        "p1 <- ggplot(data = datos, aes(x = log(Fare), fill = Survived)) +\n",
        "      geom_density(alpha = 0.5) +\n",
        "      scale_fill_manual(values = c(\"gray50\", \"orangered2\")) +\n",
        "      geom_rug(aes(color = Survived), alpha = 0.5) +\n",
        "      scale_color_manual(values = c(\"gray50\", \"orangered2\")) +\n",
        "      theme_bw()\n",
        "p2 <- ggplot(data = datos, aes(x = Survived, y = log(Fare), color = Survived)) +\n",
        "      geom_boxplot(outlier.shape = NA) +\n",
        "      geom_jitter(alpha = 0.3, width = 0.15) +\n",
        "      scale_color_manual(values = c(\"gray50\", \"orangered2\")) +\n",
        "      theme_bw()\n",
        "final_plot <- ggarrange(p1, p2, legend = \"top\")\n",
        "final_plot <- annotate_figure(final_plot, top = text_grob(\"Log(Fare)\", size =15))\n",
        "final_plot"
      ],
      "metadata": {
        "id": "9BlruUhG-l0M"
      },
      "execution_count": null,
      "outputs": []
    },
    {
      "cell_type": "markdown",
      "source": [
        "## Distribución de variables cualitativas"
      ],
      "metadata": {
        "id": "97yfgBmL-rMG"
      }
    },
    {
      "cell_type": "code",
      "source": [
        "ggplot(data = datos, aes(x = Pclass, y = ..count.., fill = Survived)) +\n",
        "  geom_bar() +\n",
        "  scale_fill_manual(values = c(\"gray50\", \"orangered2\")) +\n",
        "  labs(title = \"Pclass\") +\n",
        "  theme_bw() +\n",
        "  theme(legend.position = \"bottom\")"
      ],
      "metadata": {
        "id": "qyhWk2nS-pTI"
      },
      "execution_count": null,
      "outputs": []
    },
    {
      "cell_type": "code",
      "source": [
        "# Tabla de frecuencias relativas de supervivientes por clase\n",
        "prop.table(table(datos$Pclass, datos$Survived), margin = 1) %>% round(digits = 2)"
      ],
      "metadata": {
        "id": "nyFfoLIU-0vK"
      },
      "execution_count": null,
      "outputs": []
    },
    {
      "cell_type": "code",
      "source": [
        "ggplot(data = datos, aes(x = Sex, y = ..count.., fill = Survived)) +\n",
        "  geom_bar() +\n",
        "  labs(title = \"Sex\") +\n",
        "  scale_fill_manual(values = c(\"gray50\", \"orangered2\")) +\n",
        "  theme_bw() +\n",
        "  theme(legend.position = \"bottom\")"
      ],
      "metadata": {
        "id": "8yUFdwYh-4w2"
      },
      "execution_count": null,
      "outputs": []
    },
    {
      "cell_type": "code",
      "source": [
        "# Tabla de frecuencias relativas de supervivientes por sexo\n",
        "prop.table(table(datos$Sex, datos$Survived), margin = 1) %>% round(digits = 2)"
      ],
      "metadata": {
        "id": "cV3p1jAX-7D2"
      },
      "execution_count": null,
      "outputs": []
    },
    {
      "cell_type": "code",
      "source": [
        "ggplot(data = datos, aes(x = SibSp, y = ..count.., fill = Survived)) +\n",
        "  geom_bar() +\n",
        "  scale_fill_manual(values = c(\"gray50\", \"orangered2\")) +\n",
        "  labs(title = \"SibSp\") +\n",
        "  theme_bw() +\n",
        "  theme(legend.position = \"bottom\")"
      ],
      "metadata": {
        "id": "8Cl98FyV-9CV"
      },
      "execution_count": null,
      "outputs": []
    },
    {
      "cell_type": "code",
      "source": [
        "# Tabla de frecuencias relativas de supervivientes por número de familiares\n",
        "prop.table(table(datos$SibSp, datos$Survived), margin = 1) %>% round(digits = 2)"
      ],
      "metadata": {
        "id": "RjSmkExY-_1t"
      },
      "execution_count": null,
      "outputs": []
    },
    {
      "cell_type": "code",
      "source": [
        "ggplot(data = datos, aes(x = Parch, y = ..count.., fill = Survived)) +\n",
        "  geom_bar() +\n",
        "  scale_fill_manual(values = c(\"gray50\", \"orangered2\")) +\n",
        "  labs(title = \"Parch\") +\n",
        "  theme_bw() +\n",
        "  theme(legend.position = \"bottom\")"
      ],
      "metadata": {
        "id": "e3h1bFMo_B5k"
      },
      "execution_count": null,
      "outputs": []
    },
    {
      "cell_type": "code",
      "source": [
        "# Tabla de frecuencias relativas de supervivientes por Parch\n",
        "prop.table(table(datos$Parch, datos$Survived), margin = 1) %>% round(digits = 2)"
      ],
      "metadata": {
        "id": "nSJzzA62_C4C"
      },
      "execution_count": null,
      "outputs": []
    },
    {
      "cell_type": "code",
      "source": [
        "# Para pasar de factor a numeric primero se convierte a character\n",
        "datos$SibSp <- as.character(datos$SibSp)\n",
        "datos$SibSp <- as.numeric(datos$SibSp)\n",
        "datos$Parch <- as.character(datos$Parch)\n",
        "datos$Parch <- as.numeric(datos$Parch)"
      ],
      "metadata": {
        "id": "NY7barhj_G4V"
      },
      "execution_count": null,
      "outputs": []
    },
    {
      "cell_type": "code",
      "source": [
        "ggplot(data = datos, aes(x = Embarked, y = ..count.., fill = Survived)) +\n",
        "  geom_bar() +\n",
        "  scale_fill_manual(values = c(\"gray50\", \"orangered2\")) +\n",
        "  labs(title = \"Embarked\") +\n",
        "  theme_bw() +\n",
        "  theme(legend.position = \"bottom\")"
      ],
      "metadata": {
        "id": "Uh562TYp_LjW"
      },
      "execution_count": null,
      "outputs": []
    },
    {
      "cell_type": "code",
      "source": [
        "# Tabla de frecuencias relativas de supervivientes por puerto de embarque\n",
        "prop.table(table(datos$Embarked, datos$Survived), margin = 1) %>% round(digits = 2)"
      ],
      "metadata": {
        "id": "f85gKJVg_PNS"
      },
      "execution_count": null,
      "outputs": []
    },
    {
      "cell_type": "code",
      "source": [
        "ggplot(data = datos, aes(x = Age_grupo, y = ..count.., fill = Survived)) +\n",
        "  geom_bar() +\n",
        "  scale_fill_manual(values = c(\"gray50\", \"orangered2\")) +\n",
        "  labs(title = \"Age_grupo\") +\n",
        "  theme_bw() +\n",
        "  theme(legend.position = \"bottom\")"
      ],
      "metadata": {
        "id": "Xx2sT0pL_Q3R"
      },
      "execution_count": null,
      "outputs": []
    },
    {
      "cell_type": "code",
      "source": [
        "# Tabla de frecuencias relativas de supervivientes por grupo de edad\n",
        "prop.table(table(datos$Age_grupo, datos$Survived), margin = 1) %>% round(digits = 2)"
      ],
      "metadata": {
        "id": "pW45LAHD_R2Y"
      },
      "execution_count": null,
      "outputs": []
    },
    {
      "cell_type": "markdown",
      "source": [
        "## Importancia de las variables"
      ],
      "metadata": {
        "id": "ELl5XzzV_Vqx"
      }
    },
    {
      "cell_type": "markdown",
      "source": [
        "### Correlación entre variables continuas"
      ],
      "metadata": {
        "id": "C9fS_c5H_nOJ"
      }
    },
    {
      "cell_type": "code",
      "source": [
        "cor.test(x = datos$Age, y = datos$Fare, method = \"pearson\")"
      ],
      "metadata": {
        "id": "e50tCfOZ_Zpk"
      },
      "execution_count": null,
      "outputs": []
    },
    {
      "cell_type": "code",
      "source": [
        "ggplot(data = datos, aes(x = Age, y = log(Fare))) +\n",
        "  geom_point(color = \"gray30\") +\n",
        "  geom_smooth(color = \"firebrick\") +\n",
        "  theme_bw()"
      ],
      "metadata": {
        "id": "dzQmyjh6_yne"
      },
      "execution_count": null,
      "outputs": []
    },
    {
      "cell_type": "markdown",
      "source": [
        "\n",
        "### Contraste de proporciones"
      ],
      "metadata": {
        "id": "j88ddCP0_09I"
      }
    },
    {
      "cell_type": "code",
      "source": [
        "ggplot(data = datos, aes(x = Age_grupo, y = ..count.., fill = Survived)) +\n",
        "  geom_bar() +\n",
        "  scale_fill_manual(values = c(\"gray50\", \"orangered2\")) +\n",
        "  labs(title = \"Age_grupo\") +\n",
        "  theme_bw() +\n",
        "  theme(legend.position = \"bottom\")"
      ],
      "metadata": {
        "id": "P7UOH_pY_0Cc"
      },
      "execution_count": null,
      "outputs": []
    },
    {
      "cell_type": "code",
      "source": [
        "# Se excluyen las variables continuas y las cualitativas que no agrupan a los\n",
        "# pasajeros. También la variable Cabin por su alto % de valores NA.\n",
        "datos_cualitativos <- datos %>%\n",
        "                      select(-Age, -Fare, -Name, -Ticket, -Cabin, -PassengerId)\n",
        "\n",
        "datos_cualitativos_tidy <- datos_cualitativos %>%\n",
        "                           gather(key = \"variable\", value = \"grupo\",-Survived)\n",
        "\n",
        "# Se eliminan los valores NA para que no se interpreten como un grupo\n",
        "datos_cualitativos_tidy <- datos_cualitativos_tidy %>% filter(!is.na(grupo))\n",
        "\n",
        "# Se añade un identificador formado por el nombre de la variable y el grupo\n",
        "datos_cualitativos_tidy <- datos_cualitativos_tidy %>%\n",
        "                           mutate(variable_grupo = paste(variable, grupo, sep = \"_\"))"
      ],
      "metadata": {
        "id": "mdn8ly-3APYO"
      },
      "execution_count": null,
      "outputs": []
    },
    {
      "cell_type": "code",
      "source": [
        "# Función que calcula el test de proporciones para la columna \"Survived\" de un df\n",
        "test_proporcion <- function(df){\n",
        "  n_supervivientes <- sum(df$Survived == \"Si\")\n",
        "  n_fallecidos     <- sum(df$Survived == \"No\")\n",
        "  n_total <- n_supervivientes + n_fallecidos\n",
        "  test <- prop.test(x = n_supervivientes, n = n_total, p = 0.3838)\n",
        "  prop_supervivientes <- n_supervivientes / n_total\n",
        "  return(data.frame(p_value = test$p.value, prop_supervivientes))\n",
        "}\n",
        "\n",
        "# Se agrupan los datos por \"variable_grupo\" y se aplica a cada grupo la función\n",
        "# test_proporcion()\n",
        "analisis_prop <- datos_cualitativos_tidy %>%\n",
        "                 group_by(variable_grupo) %>%\n",
        "                 nest() %>%\n",
        "                 arrange(variable_grupo) %>%\n",
        "                 mutate(prop_test = map(.x = data, .f = test_proporcion)) %>%\n",
        "                 unnest(prop_test) %>%\n",
        "                 arrange(p_value) %>%\n",
        "                 select(variable_grupo,p_value, prop_supervivientes)\n",
        "analisis_prop"
      ],
      "metadata": {
        "id": "s2o8N3ljAQg8"
      },
      "execution_count": null,
      "outputs": []
    },
    {
      "cell_type": "code",
      "source": [
        "# Representación gráfica de la distribución de los 6 grupos con menor p-value\n",
        "top6_grupos <- analisis_prop %>% pull(variable_grupo) %>% head(6)\n",
        "\n",
        "# Se crea una función que, dados un dataframe y el nombre de un grupo, genere la\n",
        "# representación gráfica de supervivientes y no supervivientes.\n",
        "plot_grupo <- function(grupo, df, threshold_line = 0.3838){\n",
        "\n",
        "  p <- ggplot(data = df, aes(x = 1, y = ..count.., fill = Survived)) +\n",
        "            geom_bar() +\n",
        "            scale_fill_manual(values = c(\"gray50\", \"orangered2\")) +\n",
        "            # Se añade una línea horizontal en el nivel basal\n",
        "            geom_hline(yintercept = nrow(df) * threshold_line,\n",
        "                       linetype = \"dashed\") +\n",
        "            labs(title = grupo) +\n",
        "            theme_bw() +\n",
        "            theme(legend.position = \"bottom\",\n",
        "                  axis.text.x = element_blank(),\n",
        "                  axis.title.x = element_blank(),\n",
        "                  axis.ticks.x = element_blank())\n",
        "  return(p)\n",
        "}\n",
        "\n",
        "datos_graficos <- datos_cualitativos_tidy %>%\n",
        "                  filter(variable_grupo %in% top6_grupos) %>%\n",
        "                  group_by(variable_grupo) %>%\n",
        "                  nest() %>%\n",
        "                  arrange(variable_grupo)\n",
        "\n",
        "plots <- map2(datos_graficos$variable_grupo, .y = datos_graficos$data,\n",
        "              .f = plot_grupo)\n",
        "\n",
        "ggarrange(plotlist = plots, common.legend = TRUE)"
      ],
      "metadata": {
        "id": "arGBfpJRATvO"
      },
      "execution_count": null,
      "outputs": []
    },
    {
      "cell_type": "markdown",
      "source": [
        "\n",
        "\n",
        "### Random forest"
      ],
      "metadata": {
        "id": "W1Wh_BAwAYg3"
      }
    },
    {
      "cell_type": "code",
      "source": [
        "library(randomForest)\n",
        "datos_rf <- datos %>%\n",
        "            select(-PassengerId, -Name, -Ticket, -Cabin, -Age, -Age_grupo) %>%\n",
        "            na.omit()\n",
        "datos_rf <- map_if(.x = datos_rf, .p = is.character, .f = as.factor) %>%\n",
        "            as.data.frame()\n",
        "modelo_randforest <- randomForest(formula = Survived ~ . ,\n",
        "                                  data = na.omit(datos_rf),\n",
        "                                  mtry = 5,\n",
        "                                  importance = TRUE,\n",
        "                                  ntree = 1000)\n",
        "importancia <- as.data.frame(modelo_randforest$importance)\n",
        "importancia <- rownames_to_column(importancia,var = \"variable\")\n",
        "\n",
        "p1 <- ggplot(data = importancia, aes(x = reorder(variable, MeanDecreaseAccuracy),\n",
        "                               y = MeanDecreaseAccuracy,\n",
        "                               fill = MeanDecreaseAccuracy)) +\n",
        "      labs(x = \"variable\", title = \"Reducción de Accuracy\") +\n",
        "      geom_col() +\n",
        "      coord_flip() +\n",
        "      theme_bw() +\n",
        "      theme(legend.position = \"bottom\")\n",
        "\n",
        "p2 <- ggplot(data = importancia, aes(x = reorder(variable, MeanDecreaseGini),\n",
        "                               y = MeanDecreaseGini,\n",
        "                               fill = MeanDecreaseGini)) +\n",
        "      labs(x = \"variable\", title = \"Reducción de pureza (Gini)\") +\n",
        "      geom_col() +\n",
        "      coord_flip() +\n",
        "      theme_bw() +\n",
        "      theme(legend.position = \"bottom\")\n",
        "ggarrange(p1, p2)"
      ],
      "metadata": {
        "id": "sx2BdRN9AWs4"
      },
      "execution_count": null,
      "outputs": []
    },
    {
      "cell_type": "markdown",
      "source": [
        "# División de los datos en entrenamiento y test"
      ],
      "metadata": {
        "id": "Wm3iwUShc0lO"
      }
    },
    {
      "cell_type": "code",
      "source": [
        "set.seed(123)\n",
        "# Se crean los índices de las observaciones de entrenamiento\n",
        "train <- createDataPartition(y = datos$Survived, p = 0.8, list = FALSE, times = 1)\n",
        "datos_train <- datos[train, ]\n",
        "datos_test  <- datos[-train, ]"
      ],
      "metadata": {
        "id": "buffGjYVd-Ak"
      },
      "execution_count": null,
      "outputs": []
    },
    {
      "cell_type": "code",
      "source": [
        "prop.table(table(datos_train$Survived))"
      ],
      "metadata": {
        "id": "685rFXVgeClf"
      },
      "execution_count": null,
      "outputs": []
    },
    {
      "cell_type": "code",
      "source": [
        "prop.table(table(datos_test$Survived))"
      ],
      "metadata": {
        "id": "amm8EuDie1Yq"
      },
      "execution_count": null,
      "outputs": []
    },
    {
      "cell_type": "markdown",
      "source": [
        "# Preprocesado de los datos\n"
      ],
      "metadata": {
        "id": "sr5bzz8hffma"
      }
    },
    {
      "cell_type": "markdown",
      "source": [
        "## Imputación de valores ausentes\n"
      ],
      "metadata": {
        "id": "bSMbvHKMgJy2"
      }
    },
    {
      "cell_type": "code",
      "source": [
        "nrow(datos)"
      ],
      "metadata": {
        "id": "LfltwKlYe9-j"
      },
      "execution_count": null,
      "outputs": []
    },
    {
      "cell_type": "code",
      "source": [
        "nrow(na.omit(datos))"
      ],
      "metadata": {
        "id": "35pmB2SYgVFm"
      },
      "execution_count": null,
      "outputs": []
    },
    {
      "cell_type": "code",
      "source": [
        "datos_train <- datos_train %>%\n",
        "               mutate(Embarked = replace(Embarked, is.na(Embarked), \"C\"))\n",
        "datos_test <-  datos_test %>%\n",
        "               mutate(Embarked = replace(Embarked, is.na(Embarked), \"C\"))"
      ],
      "metadata": {
        "id": "kQeeAloYgYwQ"
      },
      "execution_count": null,
      "outputs": []
    },
    {
      "cell_type": "code",
      "source": [
        "library(recipes)\n",
        "# Se crea un objeto recipe() con la variable respuesta y los predictores.\n",
        "# Las variables *PassengerId*, *Name*, *Ticket* no parecen aportar información\n",
        "# relevante sobre la supervivencia de los pasajeros. Excluyendo todas estas\n",
        "# variables, se propone como modelo inicial el formado por los predictores:\n",
        "#  Pclass + Sex + SibSp + Parch + Fare + Embarked + Age_grupo.\n",
        "\n",
        "objeto_recipe <- recipe(formula = Survived ~ Pclass + Sex + SibSp + Parch +\n",
        "                                  Fare + Embarked + Age_grupo,\n",
        "                        data =  datos_train)\n",
        "objeto_recipe"
      ],
      "metadata": {
        "id": "DBhqWZVMgatQ"
      },
      "execution_count": null,
      "outputs": []
    },
    {
      "cell_type": "code",
      "source": [
        "objeto_recipe <- objeto_recipe %>% step_bagimpute(Age_grupo)\n",
        "objeto_recipe"
      ],
      "metadata": {
        "id": "pYLNUpaygcmM"
      },
      "execution_count": null,
      "outputs": []
    },
    {
      "cell_type": "markdown",
      "source": [
        "## Variables con varianza próxima a cero"
      ],
      "metadata": {
        "id": "4bW_WX3gge2g"
      }
    },
    {
      "cell_type": "code",
      "source": [
        "datos %>% select(Pclass, Sex, SibSp, Parch, Fare, Embarked, Age_grupo) %>%\n",
        "          nearZeroVar(saveMetrics = TRUE)"
      ],
      "metadata": {
        "id": "FcD5TERUgge3"
      },
      "execution_count": null,
      "outputs": []
    },
    {
      "cell_type": "code",
      "source": [
        "objeto_recipe <- objeto_recipe %>% step_nzv(all_predictors())"
      ],
      "metadata": {
        "id": "Rqxl2YxKhIPc"
      },
      "execution_count": null,
      "outputs": []
    },
    {
      "cell_type": "markdown",
      "source": [
        "## Estandarización y escalado"
      ],
      "metadata": {
        "id": "FWY0k9-WhKHj"
      }
    },
    {
      "cell_type": "code",
      "source": [
        "objeto_recipe <- objeto_recipe %>% step_center(all_numeric())\n",
        "objeto_recipe <- objeto_recipe %>% step_scale(all_numeric())"
      ],
      "metadata": {
        "id": "WFPXkFvZhMHs"
      },
      "execution_count": null,
      "outputs": []
    },
    {
      "cell_type": "markdown",
      "source": [
        "## Binarización de variables cualitativas"
      ],
      "metadata": {
        "id": "8sLmO_xQhczt"
      }
    },
    {
      "cell_type": "code",
      "source": [
        "objeto_recipe <- objeto_recipe %>% step_dummy(all_nominal(), -all_outcomes())"
      ],
      "metadata": {
        "id": "vEAWxZ7HhbmQ"
      },
      "execution_count": null,
      "outputs": []
    },
    {
      "cell_type": "code",
      "source": [
        "# Se entrena el objeto recipe\n",
        "trained_recipe <- prep(objeto_recipe, training = datos_train)\n",
        "trained_recipe"
      ],
      "metadata": {
        "id": "y1QtKe0WhkEw"
      },
      "execution_count": null,
      "outputs": []
    },
    {
      "cell_type": "code",
      "source": [
        "# Se aplican las transformaciones al conjunto de entrenamiento y de test\n",
        "datos_train_prep <- bake(trained_recipe, new_data = datos_train)\n",
        "datos_test_prep  <- bake(trained_recipe, new_data = datos_test)\n",
        "\n",
        "glimpse(datos_train_prep)"
      ],
      "metadata": {
        "id": "Q9KQ3JNaiGVl"
      },
      "execution_count": null,
      "outputs": []
    },
    {
      "cell_type": "markdown",
      "source": [
        "## Selección de predictores"
      ],
      "metadata": {
        "id": "Va4fOe5LiMkf"
      }
    },
    {
      "cell_type": "markdown",
      "source": [
        "### Métodos wrapper"
      ],
      "metadata": {
        "id": "riuhevGliRld"
      }
    },
    {
      "cell_type": "markdown",
      "source": [
        "#### Eliminación recursiva de variables"
      ],
      "metadata": {
        "id": "nr2XhT4Di9r3"
      }
    },
    {
      "cell_type": "code",
      "source": [
        "# ELIMINACIÓN RECURSIVA MEDIANTE RANDOM FOREST Y BOOTSTRAPPING\n",
        "# =============================================================================\n",
        "\n",
        "# Se paraleliza el proceso para que sea más rápido. El número de cores debe\n",
        "# seleccionarse en función del ordenador que se está empleando.\n",
        "library(doMC)\n",
        "registerDoMC(cores = 4)\n",
        "\n",
        "# Tamaño de los conjuntos de predictores analizados\n",
        "subsets <- c(3:11)\n",
        "\n",
        "# Número de resamples para el proceso de bootstrapping\n",
        "repeticiones <- 30\n",
        "\n",
        "# Se crea una semilla para cada repetición de validación. Esto solo es necesario si\n",
        "# se quiere asegurar la reproducibilidad de los resultados, ya que la validación\n",
        "# cruzada y el bootstrapping implican selección aleatoria.\n",
        "\n",
        "# El número de semillas necesarias depende del número total de repeticiones:\n",
        "# Se necesitan B+1 elementos donde B es el número total de particiones (CV) o\n",
        "# resampling (bootstrapping). Los primeros B elementos deben ser vectores formados\n",
        "# por M números enteros, donde M es el número de modelos ajustados, que en este caso\n",
        "# se corresponde con el número de tamaños. El último elemento solo necesita un único\n",
        "# número para ajustar el modelo final.\n",
        "set.seed(123)\n",
        "seeds <- vector(mode = \"list\", length = repeticiones + 1)\n",
        "for (i in 1:repeticiones) {\n",
        "  seeds[[i]] <- sample.int(1000, length(subsets))\n",
        "}\n",
        "seeds[[repeticiones + 1]] <- sample.int(1000, 1)\n",
        "\n",
        "# Se crea un control de entrenamiento donde se define el tipo de modelo empleado\n",
        "# para la selección de variables, en este caso random forest, la estrategia de\n",
        "# resampling, en este caso bootstrapping con 30 repeticiones, y las semillas para\n",
        "# cada repetición. Con el argumento returnResamp = \"all\" se especifica que se\n",
        "# almacene la información de todos los modelos generados en todas las repeticiones.\n",
        "ctrl_rfe <- rfeControl(functions = rfFuncs, method = \"boot\", number = repeticiones,\n",
        "                       returnResamp = \"all\", allowParallel = TRUE, verbose = FALSE,\n",
        "                       seeds = seeds)\n",
        "\n",
        "# Se ejecuta la eliminación recursiva de predictores\n",
        "set.seed(342)\n",
        "rf_rfe <- rfe(Survived ~ ., data = datos_train_prep,\n",
        "              sizes = subsets,\n",
        "              metric = \"Accuracy\",\n",
        "              # El accuracy es la proporción de clasificaciones correctas\n",
        "              rfeControl = ctrl_rfe,\n",
        "              ntree = 500)\n",
        "# Dentro de rfe() se pueden especificar argumentos para el modelo empleado, por\n",
        "# ejemplo, el hiperparámetro ntree=500."
      ],
      "metadata": {
        "id": "BRLB36m8irlm"
      },
      "execution_count": null,
      "outputs": []
    },
    {
      "cell_type": "code",
      "source": [
        "# Se muestra una tabla resumen con los resultados\n",
        "rf_rfe"
      ],
      "metadata": {
        "id": "88lb_RfUjwaB"
      },
      "execution_count": null,
      "outputs": []
    },
    {
      "cell_type": "code",
      "source": [
        "# El objeto rf_rfe almacena en optVariables las variables del mejor modelo.\n",
        "rf_rfe$optVariables"
      ],
      "metadata": {
        "id": "aftiKUd9j0TD"
      },
      "execution_count": null,
      "outputs": []
    },
    {
      "cell_type": "code",
      "source": [
        "# Valores de accuracy y kappa para cada tamaño de modelo en cada resample.\n",
        "rf_rfe$resample %>% select(1, 2, 3, 8) %>% head(8)"
      ],
      "metadata": {
        "id": "YDDd3LDlj4pI"
      },
      "execution_count": null,
      "outputs": []
    },
    {
      "cell_type": "code",
      "source": [
        "# Métricas promedio de cada tamaño\n",
        "rf_rfe$resample %>% group_by(Variables) %>%\n",
        "                    summarise(media_accuracy = mean(Accuracy),\n",
        "                              media_kappa = mean(Kappa)) %>%\n",
        "                    arrange(desc(media_accuracy))\n"
      ],
      "metadata": {
        "id": "eZaSqiPvj_Dg"
      },
      "execution_count": null,
      "outputs": []
    },
    {
      "cell_type": "code",
      "source": [
        "ggplot(data = rf_rfe$results, aes(x = Variables, y = Accuracy)) +\n",
        "  geom_line() +\n",
        "  scale_x_continuous(breaks  = unique(rf_rfe$results$Variables)) +\n",
        "  geom_point() +\n",
        "  geom_errorbar(aes(ymin = Accuracy - AccuracySD, ymax = Accuracy + AccuracySD),\n",
        "                width = 0.2) +\n",
        "  geom_point(data = rf_rfe$results %>% slice(which.max(Accuracy)),\n",
        "             color = \"red\") +\n",
        "  theme_bw()"
      ],
      "metadata": {
        "id": "1te5RPbOkBuH"
      },
      "execution_count": null,
      "outputs": []
    },
    {
      "cell_type": "code",
      "source": [
        "head(rf_rfe$variables, 10)"
      ],
      "metadata": {
        "id": "vMu3Uno3kLCd"
      },
      "execution_count": null,
      "outputs": []
    },
    {
      "cell_type": "code",
      "source": [
        "rf_rfe$variables %>% filter(Variables == 10) %>% group_by(var) %>%\n",
        "                     summarise(media_influencia = mean(Overall),\n",
        "                               sd_influencia = sd(Overall)) %>%\n",
        "                     arrange(desc(media_influencia))"
      ],
      "metadata": {
        "id": "rMR3oEyhkORU"
      },
      "execution_count": null,
      "outputs": []
    },
    {
      "cell_type": "markdown",
      "source": [
        "#### Algoritmo genético"
      ],
      "metadata": {
        "id": "o0BXcy1qm80R"
      }
    },
    {
      "cell_type": "code",
      "source": [
        "# Paralelización\n",
        "# =============================================================================\n",
        "library(doMC)\n",
        "registerDoMC(cores = 4)\n",
        "\n",
        "# Control de entrenamiento\n",
        "# =============================================================================\n",
        "ga_ctrl <- gafsControl(functions = rfGA,\n",
        "                       method = \"cv\",\n",
        "                       number = 5,\n",
        "                       allowParallel = TRUE,\n",
        "                       genParallel = TRUE,\n",
        "                       verbose = FALSE)\n",
        "\n",
        "# Selección de predictores\n",
        "# =============================================================================\n",
        "set.seed(10)\n",
        "rf_ga <- gafs(x = datos_train_prep %>% select(-Survived),\n",
        "              y = datos_train_prep$Survived,\n",
        "              iters = 10,\n",
        "              popSize = 10,\n",
        "              gafsControl = ga_ctrl,\n",
        "              ntree = 100)"
      ],
      "metadata": {
        "id": "3gRoyiVvnMdp"
      },
      "execution_count": null,
      "outputs": []
    },
    {
      "cell_type": "code",
      "source": [
        "rf_ga"
      ],
      "metadata": {
        "id": "ssd4D2r6nRO8"
      },
      "execution_count": null,
      "outputs": []
    },
    {
      "cell_type": "code",
      "source": [
        "rf_ga$optVariables"
      ],
      "metadata": {
        "id": "-I0hdKPJnbXC"
      },
      "execution_count": null,
      "outputs": []
    },
    {
      "cell_type": "code",
      "source": [
        "# Accuracy media en cada generación\n",
        "rf_ga$external %>% group_by(Iter) %>% summarize(accuracy_media = mean(Accuracy))"
      ],
      "metadata": {
        "id": "NTPp1BkoneGC"
      },
      "execution_count": null,
      "outputs": []
    },
    {
      "cell_type": "code",
      "source": [
        "crear_poblacion <- function(popSize, n_variables, n_max){\n",
        "  # Esta función crea una matriz binaria en la que el número de 1s por\n",
        "  # fila no supera un valor máximo.\n",
        "  # Argumentos:\n",
        "  #   popSize:     número total de individuos (número de filas de la matriz).\n",
        "  #   n_variables: longitud de los individuos (número de columnas de la matriz).\n",
        "  #   n_max:       número máximo de 1 que puede contener un individuo.\n",
        "\n",
        "  # Matriz donde almacenar los individuos generados.\n",
        "  poblacion <- matrix(data = NA, nrow = popSize, ncol = n_variables)\n",
        "\n",
        "  # Bucle para crear cada individuo.\n",
        "  for(i in 1:popSize){\n",
        "    # Se selecciona con (igual probabilidad ) el número de valores = 1 que puede\n",
        "    # tener el individuo.\n",
        "    numero_1s <- sample(x = 1:n_max, size = 1)\n",
        "\n",
        "    # Se crea un vector con todo ceros que representa el individuo.\n",
        "    individuo <- rep(0, times = n_variables)\n",
        "\n",
        "    # Se sustituyen (numero_1s) posiciones aleatorias por unos.\n",
        "    individuo[sample(x = 1:n_variables, size = numero_1s)] <- 1\n",
        "\n",
        "    # Se añade el nuevo individuo a la población.\n",
        "    poblacion[i,] <- individuo\n",
        "  }\n",
        "    return(poblacion)\n",
        "}"
      ],
      "metadata": {
        "id": "6V6IY9M0nhuj"
      },
      "execution_count": null,
      "outputs": []
    },
    {
      "cell_type": "code",
      "source": [
        "poblacion_inicial <- crear_poblacion(popSize = 10,\n",
        "                                     n_variables = ncol(datos_train_prep) - 1 ,\n",
        "                                     n_max = 4)\n",
        "poblacion_inicial"
      ],
      "metadata": {
        "id": "KArexJiQnpU4"
      },
      "execution_count": null,
      "outputs": []
    },
    {
      "cell_type": "code",
      "source": [
        "set.seed(10)\n",
        "rf_ga <- gafs(x = datos_train_prep %>% select(-Survived),\n",
        "              y = datos_train_prep$Survived,\n",
        "              iters = 10,\n",
        "              popSize = 10,\n",
        "              suggestions = poblacion_inicial,\n",
        "              gafsControl = ga_ctrl,\n",
        "              ntree = 100)\n",
        "rf_ga"
      ],
      "metadata": {
        "id": "hIzpcngTnp2J"
      },
      "execution_count": null,
      "outputs": []
    },
    {
      "cell_type": "markdown",
      "source": [
        "### Métodos de filtrado"
      ],
      "metadata": {
        "id": "2q3fvRmroJvm"
      }
    },
    {
      "cell_type": "code",
      "source": [
        "# FILTRADO DE PREDICTORES MEDIANTE ANOVA, RANDOM FOREST Y CV-REPETIDA\n",
        "# =============================================================================\n",
        "\n",
        "# Se paraleliza para que sea más rápido\n",
        "library(doMC)\n",
        "registerDoMC(cores = 4)\n",
        "\n",
        "# Se crea una semilla para cada partición y cada repetición: el vector debe\n",
        "# tener B+1 semillas donde B = particiones * repeticiones.\n",
        "particiones = 10\n",
        "repeticiones = 5\n",
        "set.seed(123)\n",
        "seeds <- sample.int(1000, particiones * repeticiones + 1)\n",
        "\n",
        "# Control del filtrado\n",
        "ctrl_filtrado <- sbfControl(functions = rfSBF, method = \"repeatedcv\",\n",
        "                            number = particiones, repeats = repeticiones,\n",
        "                            seeds = seeds, verbose = FALSE,\n",
        "                            saveDetails = TRUE, allowParallel = TRUE)\n",
        "set.seed(234)\n",
        "rf_sbf <- sbf(Survived ~ ., data = datos_train_prep,\n",
        "              sbfControl = ctrl_filtrado,\n",
        "              # argumentos para el modelo de evaluación\n",
        "              ntree = 500)"
      ],
      "metadata": {
        "id": "S6hPkKhvogm3"
      },
      "execution_count": null,
      "outputs": []
    },
    {
      "cell_type": "code",
      "source": [
        "rf_sbf"
      ],
      "metadata": {
        "id": "b5nSpoxAon7L"
      },
      "execution_count": null,
      "outputs": []
    },
    {
      "cell_type": "code",
      "source": [
        "rf_sbf$optVariables"
      ],
      "metadata": {
        "id": "qwvltSatouMI"
      },
      "execution_count": null,
      "outputs": []
    },
    {
      "cell_type": "code",
      "source": [
        "predictores_filtrados <- rf_sbf$optVariables"
      ],
      "metadata": {
        "id": "far9aHzHoy-Y"
      },
      "execution_count": null,
      "outputs": []
    },
    {
      "cell_type": "markdown",
      "source": [
        "## Creación de un modelo predictivo"
      ],
      "metadata": {
        "id": "cEvf5fwHs-zJ"
      }
    },
    {
      "cell_type": "markdown",
      "source": [
        "### Entrenamiento del modelo"
      ],
      "metadata": {
        "id": "Izrw-tztRqdu"
      }
    },
    {
      "cell_type": "code",
      "source": [
        "# Predictores: Survived, SibSp, Parch, Fare, Pclass_X2, Pclass_X3, Sex_male, Embarked_Q,\n",
        "#              Embarked_S, Age_grupo_anciano, Age_grupo_niño\n",
        "modelo_svmlineal <- train(Survived ~ ., method = \"svmLinear\", data = datos_train_prep)"
      ],
      "metadata": {
        "id": "hCfeHvJQVEFk"
      },
      "execution_count": null,
      "outputs": []
    },
    {
      "cell_type": "code",
      "source": [
        "modelo_svmlineal$finalModel"
      ],
      "metadata": {
        "id": "VTTf9LxvVFwg"
      },
      "execution_count": null,
      "outputs": []
    },
    {
      "cell_type": "markdown",
      "source": [
        "### Evaluación del modelo mediante resampling"
      ],
      "metadata": {
        "id": "fhLAp_I0Rtts"
      }
    },
    {
      "cell_type": "code",
      "source": [
        "# PARALELIZACIÓN DE PROCESO\n",
        "#===============================================================================\n",
        "# Se paraleliza para que sea más rápido. El número de cores activados depende del\n",
        "# las características del ordenador donde se ejecute el código.\n",
        "library(doMC)\n",
        "registerDoMC(cores = 4)\n",
        "\n",
        "# NÚMERO DE REPETICIONES Y SEMILLAS PARA CADA REPETICIÓN\n",
        "#===============================================================================\n",
        "# Es este caso se recurre a validación cruzada repetida como método de validación.\n",
        "# Número de particiones y repeticiones\n",
        "particiones  <- 10\n",
        "repeticiones <- 5\n",
        "\n",
        "# Las semillas solo son necesarias si se quiere asegurar la reproducibilidad de\n",
        "# los resultados, ya que la validación cruzada y el bootstrapping implican selección\n",
        "# aleatoria. Las semillas se almacenan en una lista con B+1 elementos donde B depende\n",
        "# del método de validación empleado:\n",
        "#\n",
        "#   \"cv\": B es el número total de particiones\n",
        "#   \"repeatedcv\": B es el número de particiones por el número de repeticiones.\n",
        "#   \"boot\": B es el número de resamples.\n",
        "#   \"LOGOCV\":   B es el número de repeticiones.\n",
        "#\n",
        "# Los primeros B elementos deben ser vectores formados por M números enteros,\n",
        "# donde M es el número de modelos ajustados en cada partición o repetición,\n",
        "# es decir, el total de hiperparámetros comparados. El último elemento (B+1) solo\n",
        "# necesita un único número para ajustar el modelo final.\n",
        "\n",
        "set.seed(123)\n",
        "seeds <- vector(mode = \"list\", length = (particiones * repeticiones) + 1)\n",
        "for (i in 1:(particiones * repeticiones)) {\n",
        "  # Cada elemento de la lista, excepto el último tiene que tener tantas semillas\n",
        "  # como hiperparámetros analizados. En este caso, se emplea el valor por\n",
        "  # defecto C = 1, por lo que cada elemento de seeds está formada por un\n",
        "  # único valor.\n",
        "  seeds[[i]] <- sample.int(1000, 1)\n",
        "}\n",
        "# La última semilla se emplea para ajustar el modelo final con todas las observaciones.\n",
        "seeds[[(particiones * repeticiones) + 1]] <- sample.int(1000, 1)\n",
        "\n",
        "# DEFINICIÓN DEL ENTRENAMIENTO\n",
        "#===============================================================================\n",
        "control_train <- trainControl(method = \"repeatedcv\", number = particiones,\n",
        "                              repeats = repeticiones, seeds = seeds,\n",
        "                              returnResamp = \"all\", verboseIter = FALSE,\n",
        "                              allowParallel = TRUE)\n",
        "\n",
        "# AJUSTE DEL MODELO\n",
        "# ==============================================================================\n",
        "set.seed(342)\n",
        "modelo_svmlineal <- train(Survived ~ ., data = datos_train_prep,\n",
        "                          method = \"svmLinear\",\n",
        "                          metric = \"Accuracy\",\n",
        "                          trControl = control_train)\n",
        "modelo_svmlineal"
      ],
      "metadata": {
        "id": "RiMYOOUus-NJ"
      },
      "execution_count": null,
      "outputs": []
    },
    {
      "cell_type": "code",
      "source": [
        "# Valores de validación (Accuracy y Kappa) obtenidos en cada partición y repetición.\n",
        "modelo_svmlineal$resample %>% head(10)"
      ],
      "metadata": {
        "id": "ykViCFDDVLVt"
      },
      "execution_count": null,
      "outputs": []
    },
    {
      "cell_type": "code",
      "source": [
        "summary(modelo_svmlineal$resample$Accuracy)"
      ],
      "metadata": {
        "id": "KDhcdRjwVNJD"
      },
      "execution_count": null,
      "outputs": []
    },
    {
      "cell_type": "code",
      "source": [
        "p1 <- ggplot(data = modelo_svmlineal$resample, aes(x = Accuracy)) +\n",
        "      geom_density(alpha = 0.5, fill = \"gray50\") +\n",
        "      geom_vline(xintercept = mean(modelo_svmlineal$resample$Accuracy),\n",
        "                 linetype = \"dashed\") +\n",
        "      theme_bw()\n",
        "p2 <- ggplot(data = modelo_svmlineal$resample, aes(x = 1, y = Accuracy)) +\n",
        "      geom_boxplot(outlier.shape = NA, alpha = 0.5, fill = \"gray50\") +\n",
        "      geom_jitter(width = 0.05) +\n",
        "      labs(x = \"\") +\n",
        "      theme_bw() +\n",
        "      theme(axis.text.x = element_blank(), axis.ticks.x = element_blank())\n",
        "\n",
        "final_plot <- ggarrange(p1, p2)\n",
        "final_plot <- annotate_figure(\n",
        "                final_plot,\n",
        "                top = text_grob(\"Accuracy obtenido en la validación\", size = 15))\n",
        "final_plot"
      ],
      "metadata": {
        "id": "_Zp2heLe06mk"
      },
      "execution_count": null,
      "outputs": []
    },
    {
      "cell_type": "markdown",
      "source": [
        "### Optimización de hiperparámetros (parameter tuning)\n"
      ],
      "metadata": {
        "id": "o7B4IxuB19ZX"
      }
    },
    {
      "cell_type": "code",
      "source": [
        "# PARALELIZACIÓN DE PROCESO\n",
        "#===============================================================================\n",
        "library(doMC)\n",
        "registerDoMC(cores = 4)\n",
        "\n",
        "# HIPERPARÁMETROS, NÚMERO DE REPETICIONES Y SEMILLAS PARA CADA REPETICIÓN\n",
        "#===============================================================================\n",
        "particiones  <- 10\n",
        "repeticiones <- 5\n",
        "\n",
        "hiperparametros <- data.frame(C = c(0.001, 0.01, 0.1, 0.5, 1, 10))\n",
        "\n",
        "set.seed(123)\n",
        "seeds <- vector(mode = \"list\", length = (particiones * repeticiones) + 1)\n",
        "for (i in 1:(particiones * repeticiones)) {\n",
        "  seeds[[i]] <- sample.int(1000, nrow(hiperparametros))\n",
        "}\n",
        "seeds[[(particiones * repeticiones) + 1]] <- sample.int(1000, 1)\n",
        "\n",
        "# DEFINICIÓN DEL ENTRENAMIENTO\n",
        "#===============================================================================\n",
        "control_train <- trainControl(method = \"repeatedcv\", number = particiones,\n",
        "                              repeats = repeticiones, seeds = seeds,\n",
        "                              returnResamp = \"all\", verboseIter = FALSE,\n",
        "                              allowParallel = TRUE)\n",
        "\n",
        "# AJUSTE DEL MODELO\n",
        "# ==============================================================================\n",
        "set.seed(342)\n",
        "modelo_svmlineal <- train(Survived ~ ., data = datos_train_prep,\n",
        "                          method = \"svmLinear\",\n",
        "                          tuneGrid = hiperparametros,\n",
        "                          metric = \"Accuracy\",\n",
        "                          trControl = control_train)\n",
        "modelo_svmlineal"
      ],
      "metadata": {
        "id": "u35MpEpz2C7L"
      },
      "execution_count": null,
      "outputs": []
    },
    {
      "cell_type": "code",
      "source": [
        "modelo_svmlineal$resample %>% head()"
      ],
      "metadata": {
        "id": "ZjNN0rUP3NPm"
      },
      "execution_count": null,
      "outputs": []
    },
    {
      "cell_type": "code",
      "source": [
        "ggplot(data = modelo_svmlineal$resample,\n",
        "       aes(x = as.factor(C), y = Accuracy, color = as.factor(C))) +\n",
        "  geom_boxplot(outlier.shape = NA, alpha = 0.6) +\n",
        "  geom_jitter(width = 0.2, alpha = 0.6) +\n",
        "  # Línea horizontal en el accuracy basal\n",
        "  geom_hline(yintercept = 0.62, linetype = \"dashed\") +\n",
        "  labs(x = \"C\") +\n",
        "  theme_bw() + theme(legend.position = \"none\")"
      ],
      "metadata": {
        "id": "cUPFIgJn3PUR"
      },
      "execution_count": null,
      "outputs": []
    },
    {
      "cell_type": "code",
      "source": [
        "ggplot(modelo_svmlineal, highlight = TRUE) +\n",
        "  labs(title = \"Evolución del accuracy del modelo en función de C\") +\n",
        "  theme_bw()"
      ],
      "metadata": {
        "id": "jH7Q2FnW5kdl"
      },
      "execution_count": null,
      "outputs": []
    },
    {
      "cell_type": "markdown",
      "source": [
        "#### Búsqueda de hiperparámetros"
      ],
      "metadata": {
        "id": "2_sx7NxS6cOB"
      }
    },
    {
      "cell_type": "markdown",
      "source": [
        "*Random search*"
      ],
      "metadata": {
        "id": "B2ORZWR2hejG"
      }
    },
    {
      "cell_type": "code",
      "source": [
        "# PARALELIZACIÓN DE PROCESO\n",
        "#===============================================================================\n",
        "library(doMC)\n",
        "registerDoMC(cores = 4)\n",
        "\n",
        "# HIPERPARÁMETROS, NÚMERO DE REPETICIONES Y SEMILLAS PARA CADA REPETICIÓN\n",
        "#===============================================================================\n",
        "particiones  <- 10\n",
        "repeticiones <- 5\n",
        "\n",
        "# Hiperparámetros aleatorios\n",
        "set.seed(123)\n",
        "hiperparametros <- data.frame(C = runif(n = 5, min = 0.001, max = 20))\n",
        "\n",
        "set.seed(123)\n",
        "seeds <- vector(mode = \"list\", length = (particiones * repeticiones) + 1)\n",
        "for (i in 1:(particiones * repeticiones)) {\n",
        "  seeds[[i]] <- sample.int(1000, nrow(hiperparametros))\n",
        "}\n",
        "seeds[[(particiones * repeticiones) + 1]] <- sample.int(1000, 1)\n",
        "\n",
        "# DEFINICIÓN DEL ENTRENAMIENTO\n",
        "#===============================================================================\n",
        "control_train <- trainControl(method = \"repeatedcv\", number = particiones,\n",
        "                              repeats = repeticiones, seeds = seeds,\n",
        "                              returnResamp = \"all\", verboseIter = FALSE,\n",
        "                              allowParallel = TRUE)\n",
        "\n",
        "# AJUSTE DEL MODELO\n",
        "# ==============================================================================\n",
        "set.seed(342)\n",
        "modelo_svmlineal_random <- train(Survived ~ ., data = datos_train_prep,\n",
        "                               method = \"svmLinear\",\n",
        "                               tuneGrid = hiperparametros,\n",
        "                               metric = \"Accuracy\",\n",
        "                               trControl = control_train)"
      ],
      "metadata": {
        "id": "vmh327_6eUXt"
      },
      "execution_count": null,
      "outputs": []
    },
    {
      "cell_type": "code",
      "source": [
        "modelo_svmlineal_random"
      ],
      "metadata": {
        "id": "1FyhdHTkhBCj"
      },
      "execution_count": null,
      "outputs": []
    },
    {
      "cell_type": "markdown",
      "source": [
        "*Adaptive Resampling*\n",
        "\n"
      ],
      "metadata": {
        "id": "gENdSYqjiGkl"
      }
    },
    {
      "cell_type": "code",
      "source": [
        "# PARALELIZACIÓN DE PROCESO\n",
        "#===============================================================================\n",
        "library(doMC)\n",
        "registerDoMC(cores = 4)\n",
        "\n",
        "# HIPERPARÁMETROS, NÚMERO DE REPETICIONES Y SEMILLAS PARA CADA REPETICIÓN\n",
        "#===============================================================================\n",
        "particiones  <- 10\n",
        "repeticiones <- 5\n",
        "\n",
        "# Número de hiperparámetros aleatorios\n",
        "n_hiperparametros <- 10\n",
        "\n",
        "set.seed(123)\n",
        "seeds <- vector(mode = \"list\", length = (particiones * repeticiones) + 1)\n",
        "for (i in 1:(particiones * repeticiones)) {\n",
        "  seeds[[i]] <- sample.int(1000, n_hiperparametros)\n",
        "}\n",
        "seeds[[(particiones * repeticiones) + 1]] <- sample.int(1000, 1)\n",
        "\n",
        "# DEFINICIÓN DEL ENTRENAMIENTO\n",
        "#===============================================================================\n",
        "control_train <- trainControl(method = \"adaptive_cv\", number = particiones,\n",
        "                              repeats = repeticiones,\n",
        "                              adaptive = list(min = 5, alpha = 0.05,\n",
        "                                             method = \"gls\", complete = TRUE),\n",
        "                              returnResamp = \"all\", verboseIter = FALSE,\n",
        "                              allowParallel = TRUE, search = \"random\")\n",
        "\n",
        "# AJUSTE DEL MODELO\n",
        "# ==============================================================================\n",
        "set.seed(342)\n",
        "modelo_svmlineal_adaptative <- train(Survived ~ ., data = datos_train_prep,\n",
        "                                 method = \"svmLinear\", trControl = control_train,\n",
        "                                 tuneLength = 5)"
      ],
      "metadata": {
        "id": "fFJ8KaF1hDIA"
      },
      "execution_count": null,
      "outputs": []
    },
    {
      "cell_type": "code",
      "source": [
        "modelo_svmlineal_adaptative"
      ],
      "metadata": {
        "id": "tW4Ton7eiQEX"
      },
      "execution_count": null,
      "outputs": []
    },
    {
      "cell_type": "markdown",
      "source": [
        "### Predicción"
      ],
      "metadata": {
        "id": "iH_nkBikihRg"
      }
    },
    {
      "cell_type": "code",
      "source": [
        "predicciones_raw <- predict(modelo_svmlineal, newdata = datos_test_prep,\n",
        "                            type = \"raw\")\n",
        "predicciones_raw"
      ],
      "metadata": {
        "id": "SKEWX24Mi5RB"
      },
      "execution_count": null,
      "outputs": []
    },
    {
      "cell_type": "code",
      "source": [
        "# El algoritmo svmLinear no calcula de forma nativa probabilidades, para obtenerlas\n",
        "# se reajusta el modelo indicando `classProbs = TRUE`.\n",
        "particiones  <- 10\n",
        "repeticiones <- 5\n",
        "hiperparametros <- expand.grid(C = c(1))\n",
        "\n",
        "set.seed(123)\n",
        "seeds <- vector(mode = \"list\", length = (particiones * repeticiones) + 1)\n",
        "for (i in 1:(particiones * repeticiones)) {\n",
        "  seeds[[i]] <- sample.int(1000, nrow(hiperparametros))\n",
        "}\n",
        "seeds[[(particiones * repeticiones) + 1]] <- sample.int(1000, 1)\n",
        "\n",
        "control_train <- trainControl(method = \"repeatedcv\", number = particiones,\n",
        "                              repeats = repeticiones, seeds = seeds,\n",
        "                              returnResamp = \"all\", verboseIter = FALSE,\n",
        "                              classProbs = TRUE, allowParallel = TRUE)\n",
        "\n",
        "set.seed(342)\n",
        "modelo_svmlineal <- train(Survived ~ ., data = datos_train_prep,\n",
        "                          method = \"svmLinear\",\n",
        "                          tuneGrid = hiperparametros,\n",
        "                          metric = \"Accuracy\",\n",
        "                          trControl = control_train)\n",
        "\n",
        "predicciones_prob <- predict(modelo_svmlineal, newdata = datos_test_prep,\n",
        "                             type = \"prob\")\n",
        "predicciones_prob %>% head()"
      ],
      "metadata": {
        "id": "x14Ze_qQi60T"
      },
      "execution_count": null,
      "outputs": []
    },
    {
      "cell_type": "code",
      "source": [
        "predicciones <- extractPrediction(\n",
        "                  models = list(svm = modelo_svmlineal),\n",
        "                  testX = datos_test_prep %>% select(-Survived),\n",
        "                  testY = datos_test_prep$Survived\n",
        "                  )\n",
        "predicciones %>% head()"
      ],
      "metadata": {
        "id": "2TjoQ2e5i-ON"
      },
      "execution_count": null,
      "outputs": []
    },
    {
      "cell_type": "markdown",
      "source": [
        "### Error de test"
      ],
      "metadata": {
        "id": "JPZ6eahRjDDs"
      }
    },
    {
      "cell_type": "code",
      "source": [
        "confusionMatrix(data = predicciones_raw, reference = datos_test_prep$Survived,\n",
        "                positive = \"Si\")"
      ],
      "metadata": {
        "id": "kuCZwQDLjLzS"
      },
      "execution_count": null,
      "outputs": []
    },
    {
      "cell_type": "code",
      "source": [
        "# Error de test\n",
        "error_test <- mean(predicciones_raw != datos_test_prep$Survived)\n",
        "paste(\"El error de test del modelo:\", round(error_test*100, 2), \"%\")"
      ],
      "metadata": {
        "id": "FgLqgfl0jvqA"
      },
      "execution_count": null,
      "outputs": []
    },
    {
      "cell_type": "markdown",
      "source": [
        "## Modelos"
      ],
      "metadata": {
        "id": "_FF4BG7qnJiq"
      }
    },
    {
      "cell_type": "markdown",
      "source": [
        "### K-Nearest Neighbor (kNN)"
      ],
      "metadata": {
        "id": "c53qVTthoG-z"
      }
    },
    {
      "cell_type": "code",
      "source": [
        "# PARALELIZACIÓN DE PROCESO\n",
        "#===============================================================================\n",
        "library(doMC)\n",
        "registerDoMC(cores = 4)\n",
        "\n",
        "# HIPERPARÁMETROS, NÚMERO DE REPETICIONES Y SEMILLAS PARA CADA REPETICIÓN\n",
        "#===============================================================================\n",
        "particiones  <- 10\n",
        "repeticiones <- 5\n",
        "\n",
        "# Hiperparámetros\n",
        "hiperparametros <- data.frame(k = c(1, 2, 5, 10, 15, 20, 30, 50))\n",
        "\n",
        "set.seed(123)\n",
        "seeds <- vector(mode = \"list\", length = (particiones * repeticiones) + 1)\n",
        "for (i in 1:(particiones * repeticiones)) {\n",
        "  seeds[[i]] <- sample.int(1000, nrow(hiperparametros))\n",
        "}\n",
        "seeds[[(particiones * repeticiones) + 1]] <- sample.int(1000, 1)\n",
        "\n",
        "# DEFINICIÓN DEL ENTRENAMIENTO\n",
        "#===============================================================================\n",
        "control_train <- trainControl(method = \"repeatedcv\", number = particiones,\n",
        "                              repeats = repeticiones, seeds = seeds,\n",
        "                              returnResamp = \"final\", verboseIter = FALSE,\n",
        "                              allowParallel = TRUE)\n",
        "\n",
        "# AJUSTE DEL MODELO\n",
        "# ==============================================================================\n",
        "set.seed(342)\n",
        "modelo_knn <- train(Survived ~ ., data = datos_train_prep,\n",
        "                    method = \"knn\",\n",
        "                    tuneGrid = hiperparametros,\n",
        "                    metric = \"Accuracy\",\n",
        "                    trControl = control_train)\n",
        "modelo_knn"
      ],
      "metadata": {
        "id": "5ACQO302nPJK"
      },
      "execution_count": null,
      "outputs": []
    },
    {
      "cell_type": "code",
      "source": [
        "# REPRESENTACIÓN GRÁFICA\n",
        "# ==============================================================================\n",
        "ggplot(modelo_knn, highlight = TRUE) +\n",
        "  scale_x_continuous(breaks = hiperparametros$k) +\n",
        "  labs(title = \"Evolución del accuracy del modelo KNN\", x = \"K\") +\n",
        "  theme_bw()"
      ],
      "metadata": {
        "id": "6VL2ZOnan4ZE"
      },
      "execution_count": null,
      "outputs": []
    },
    {
      "cell_type": "markdown",
      "source": [
        "### Naive Bayes"
      ],
      "metadata": {
        "id": "3tVfXb-YoxQ9"
      }
    },
    {
      "cell_type": "code",
      "source": [
        "# PARALELIZACIÓN DE PROCESO\n",
        "#===============================================================================\n",
        "library(doMC)\n",
        "registerDoMC(cores = 4)\n",
        "\n",
        "# HIPERPARÁMETROS, NÚMERO DE REPETICIONES Y SEMILLAS PARA CADA REPETICIÓN\n",
        "#===============================================================================\n",
        "particiones  <- 10\n",
        "repeticiones <- 5\n",
        "\n",
        "# Hiperparámetros\n",
        "hiperparametros <- data.frame(usekernel = FALSE, fL = 0 , adjust = 0)\n",
        "\n",
        "set.seed(123)\n",
        "seeds <- vector(mode = \"list\", length = (particiones * repeticiones) + 1)\n",
        "for (i in 1:(particiones * repeticiones)) {\n",
        "  seeds[[i]] <- sample.int(1000, nrow(hiperparametros))\n",
        "}\n",
        "seeds[[(particiones * repeticiones) + 1]] <- sample.int(1000, 1)\n",
        "\n",
        "# DEFINICIÓN DEL ENTRENAMIENTO\n",
        "#===============================================================================\n",
        "control_train <- trainControl(method = \"repeatedcv\", number = particiones,\n",
        "                              repeats = repeticiones, seeds = seeds,\n",
        "                              returnResamp = \"final\", verboseIter = FALSE,\n",
        "                              allowParallel = TRUE)\n",
        "\n",
        "# AJUSTE DEL MODELO\n",
        "# ==============================================================================\n",
        "set.seed(342)\n",
        "modelo_nb <- train(Survived ~ ., data = datos_train_prep,\n",
        "                   method = \"nb\",\n",
        "                   tuneGrid = hiperparametros,\n",
        "                   metric = \"Accuracy\",\n",
        "                   trControl = control_train)\n",
        "modelo_nb"
      ],
      "metadata": {
        "id": "qarAUNyBo2r5"
      },
      "execution_count": null,
      "outputs": []
    },
    {
      "cell_type": "markdown",
      "source": [
        "### Regresión logística\n"
      ],
      "metadata": {
        "id": "72PFVzfupSr-"
      }
    },
    {
      "cell_type": "code",
      "source": [
        "# PARALELIZACIÓN DE PROCESO\n",
        "#===============================================================================\n",
        "library(doMC)\n",
        "registerDoMC(cores = 4)\n",
        "\n",
        "# HIPERPARÁMETROS, NÚMERO DE REPETICIONES Y SEMILLAS PARA CADA REPETICIÓN\n",
        "#===============================================================================\n",
        "particiones  <- 10\n",
        "repeticiones <- 5\n",
        "\n",
        "# Hiperparámetros\n",
        "hiperparametros <- data.frame(parameter = \"none\")\n",
        "\n",
        "set.seed(123)\n",
        "seeds <- vector(mode = \"list\", length = (particiones * repeticiones) + 1)\n",
        "for (i in 1:(particiones * repeticiones)) {\n",
        "  seeds[[i]] <- sample.int(1000, nrow(hiperparametros))\n",
        "}\n",
        "seeds[[(particiones * repeticiones) + 1]] <- sample.int(1000, 1)\n",
        "\n",
        "# DEFINICIÓN DEL ENTRENAMIENTO\n",
        "#===============================================================================\n",
        "control_train <- trainControl(method = \"repeatedcv\", number = particiones,\n",
        "                              repeats = repeticiones, seeds = seeds,\n",
        "                              returnResamp = \"final\", verboseIter = FALSE,\n",
        "                              allowParallel = TRUE)\n",
        "\n",
        "# AJUSTE DEL MODELO\n",
        "# ==============================================================================\n",
        "set.seed(342)\n",
        "modelo_logistic <- train(Survived ~ ., data = datos_train_prep,\n",
        "                         method = \"glm\",\n",
        "                         tuneGrid = hiperparametros,\n",
        "                         metric = \"Accuracy\",\n",
        "                         trControl = control_train,\n",
        "                         family = \"binomial\")\n",
        "modelo_logistic"
      ],
      "metadata": {
        "id": "9_EdrzdqpYnX"
      },
      "execution_count": null,
      "outputs": []
    },
    {
      "cell_type": "code",
      "source": [
        "summary(modelo_logistic$finalModel)"
      ],
      "metadata": {
        "id": "Rx-s0tDXppO7"
      },
      "execution_count": null,
      "outputs": []
    },
    {
      "cell_type": "markdown",
      "source": [
        "### LDA"
      ],
      "metadata": {
        "id": "aJfsFH_rpu4w"
      }
    },
    {
      "cell_type": "code",
      "source": [
        "# PARALELIZACIÓN DE PROCESO\n",
        "#===============================================================================\n",
        "library(doMC)\n",
        "registerDoMC(cores = 4)\n",
        "\n",
        "# HIPERPARÁMETROS, NÚMERO DE REPETICIONES Y SEMILLAS PARA CADA REPETICIÓN\n",
        "#===============================================================================\n",
        "particiones  <- 10\n",
        "repeticiones <- 5\n",
        "\n",
        "# Hiperparámetros\n",
        "hiperparametros <- data.frame(parameter = \"none\")\n",
        "\n",
        "set.seed(123)\n",
        "seeds <- vector(mode = \"list\", length = (particiones * repeticiones) + 1)\n",
        "for (i in 1:(particiones * repeticiones)) {\n",
        "  seeds[[i]] <- sample.int(1000, nrow(hiperparametros))\n",
        "}\n",
        "seeds[[(particiones * repeticiones) + 1]] <- sample.int(1000, 1)\n",
        "\n",
        "# DEFINICIÓN DEL ENTRENAMIENTO\n",
        "#===============================================================================\n",
        "control_train <- trainControl(method = \"repeatedcv\", number = particiones,\n",
        "                              repeats = repeticiones, seeds = seeds,\n",
        "                              returnResamp = \"final\", verboseIter = FALSE,\n",
        "                              allowParallel = TRUE)\n",
        "\n",
        "# AJUSTE DEL MODELO\n",
        "# ==============================================================================\n",
        "set.seed(342)\n",
        "modelo_lda <- train(Survived ~ ., data = datos_train_prep,\n",
        "                    method = \"lda\",\n",
        "                    tuneGrid = hiperparametros,\n",
        "                    metric = \"Accuracy\",\n",
        "                    trControl = control_train)\n",
        "modelo_lda"
      ],
      "metadata": {
        "id": "WRsOolT-pzHZ"
      },
      "execution_count": null,
      "outputs": []
    },
    {
      "cell_type": "code",
      "source": [
        "modelo_lda$finalModel"
      ],
      "metadata": {
        "id": "FClGp3mhp3iZ"
      },
      "execution_count": null,
      "outputs": []
    },
    {
      "cell_type": "markdown",
      "source": [
        "### Árbol de clasificación simple"
      ],
      "metadata": {
        "id": "ThGnT5lnp6_t"
      }
    },
    {
      "cell_type": "code",
      "source": [
        "# PARALELIZACIÓN DE PROCESO\n",
        "#===============================================================================\n",
        "library(doMC)\n",
        "registerDoMC(cores = 4)\n",
        "\n",
        "# HIPERPARÁMETROS, NÚMERO DE REPETICIONES Y SEMILLAS PARA CADA REPETICIÓN\n",
        "#===============================================================================\n",
        "particiones  <- 10\n",
        "repeticiones <- 5\n",
        "\n",
        "# Hiperparámetros\n",
        "hiperparametros <- data.frame(parameter = \"none\")\n",
        "\n",
        "set.seed(123)\n",
        "seeds <- vector(mode = \"list\", length = (particiones * repeticiones) + 1)\n",
        "for (i in 1:(particiones * repeticiones)) {\n",
        "  seeds[[i]] <- sample.int(1000, nrow(hiperparametros))\n",
        "}\n",
        "seeds[[(particiones * repeticiones) + 1]] <- sample.int(1000, 1)\n",
        "\n",
        "# DEFINICIÓN DEL ENTRENAMIENTO\n",
        "#===============================================================================\n",
        "control_train <- trainControl(method = \"repeatedcv\", number = particiones,\n",
        "                              repeats = repeticiones, seeds = seeds,\n",
        "                              returnResamp = \"final\", verboseIter = FALSE,\n",
        "                              allowParallel = TRUE)\n",
        "\n",
        "# AJUSTE DEL MODELO\n",
        "# ==============================================================================\n",
        "set.seed(342)\n",
        "modelo_C50Tree <- train(Survived ~ ., data = datos_train_prep,\n",
        "                    method = \"C5.0Tree\",\n",
        "                    tuneGrid = hiperparametros,\n",
        "                    metric = \"Accuracy\",\n",
        "                    trControl = control_train)\n",
        "modelo_C50Tree"
      ],
      "metadata": {
        "id": "S3qfYSJ0p-7r"
      },
      "execution_count": null,
      "outputs": []
    },
    {
      "cell_type": "code",
      "source": [
        "summary(modelo_C50Tree$finalModel)"
      ],
      "metadata": {
        "id": "F0B2RTZ0qSPr"
      },
      "execution_count": null,
      "outputs": []
    },
    {
      "cell_type": "markdown",
      "source": [
        "### RandomForest"
      ],
      "metadata": {
        "id": "Egn_JQjBqWRQ"
      }
    },
    {
      "cell_type": "code",
      "source": [
        "# PARALELIZACIÓN DE PROCESO\n",
        "#===============================================================================\n",
        "library(doMC)\n",
        "registerDoMC(cores = 4)\n",
        "\n",
        "# HIPERPARÁMETROS, NÚMERO DE REPETICIONES Y SEMILLAS PARA CADA REPETICIÓN\n",
        "#===============================================================================\n",
        "particiones  <- 10\n",
        "repeticiones <- 5\n",
        "\n",
        "# Hiperparámetros\n",
        "hiperparametros <- expand.grid(mtry = c(3, 4, 5, 7),\n",
        "                               min.node.size = c(2, 3, 4, 5, 10, 15, 20, 30),\n",
        "                               splitrule = \"gini\")\n",
        "\n",
        "set.seed(123)\n",
        "seeds <- vector(mode = \"list\", length = (particiones * repeticiones) + 1)\n",
        "for (i in 1:(particiones * repeticiones)) {\n",
        "  seeds[[i]] <- sample.int(1000, nrow(hiperparametros))\n",
        "}\n",
        "seeds[[(particiones * repeticiones) + 1]] <- sample.int(1000, 1)\n",
        "\n",
        "# DEFINICIÓN DEL ENTRENAMIENTO\n",
        "#===============================================================================\n",
        "control_train <- trainControl(method = \"repeatedcv\", number = particiones,\n",
        "                              repeats = repeticiones, seeds = seeds,\n",
        "                              returnResamp = \"final\", verboseIter = FALSE,\n",
        "                              allowParallel = TRUE)\n",
        "\n",
        "# AJUSTE DEL MODELO\n",
        "# ==============================================================================\n",
        "set.seed(342)\n",
        "modelo_rf <- train(Survived ~ ., data = datos_train_prep,\n",
        "                   method = \"ranger\",\n",
        "                   tuneGrid = hiperparametros,\n",
        "                   metric = \"Accuracy\",\n",
        "                   trControl = control_train,\n",
        "                   # Número de árboles ajustados\n",
        "                   num.trees = 500)\n",
        "modelo_rf"
      ],
      "metadata": {
        "id": "sHm0xZJSqZd0"
      },
      "execution_count": null,
      "outputs": []
    },
    {
      "cell_type": "code",
      "source": [
        "modelo_rf$finalModel"
      ],
      "metadata": {
        "id": "hFk4kQeLqge2"
      },
      "execution_count": null,
      "outputs": []
    },
    {
      "cell_type": "code",
      "source": [
        "# REPRESENTACIÓN GRÁFICA\n",
        "# ==============================================================================\n",
        "ggplot(modelo_rf, highlight = TRUE) +\n",
        "  scale_x_continuous(breaks = 1:30) +\n",
        "  labs(title = \"Evolución del accuracy del modelo Random Forest\") +\n",
        "  guides(color = guide_legend(title = \"mtry\"),\n",
        "         shape = guide_legend(title = \"mtry\")) +\n",
        "  theme_bw()"
      ],
      "metadata": {
        "id": "x2jcGFOpqjnT"
      },
      "execution_count": null,
      "outputs": []
    },
    {
      "cell_type": "markdown",
      "source": [
        "### Gradient Boosting"
      ],
      "metadata": {
        "id": "aSOL_Y7AqnvI"
      }
    },
    {
      "cell_type": "code",
      "source": [
        "# PARALELIZACIÓN DE PROCESO\n",
        "#===============================================================================\n",
        "library(doMC)\n",
        "registerDoMC(cores = 4)\n",
        "\n",
        "# HIPERPARÁMETROS, NÚMERO DE REPETICIONES Y SEMILLAS PARA CADA REPETICIÓN\n",
        "#===============================================================================\n",
        "particiones  <- 10\n",
        "repeticiones <- 5\n",
        "\n",
        "# Hiperparámetros\n",
        "hiperparametros <- expand.grid(interaction.depth = c(1, 2),\n",
        "                               n.trees = c(500, 1000, 2000),\n",
        "                               shrinkage = c(0.001, 0.01, 0.1),\n",
        "                               n.minobsinnode = c(2, 5, 15))\n",
        "\n",
        "set.seed(123)\n",
        "seeds <- vector(mode = \"list\", length = (particiones * repeticiones) + 1)\n",
        "for (i in 1:(particiones * repeticiones)) {\n",
        "  seeds[[i]] <- sample.int(1000, nrow(hiperparametros))\n",
        "}\n",
        "seeds[[(particiones * repeticiones) + 1]] <- sample.int(1000, 1)\n",
        "\n",
        "# DEFINICIÓN DEL ENTRENAMIENTO\n",
        "#===============================================================================\n",
        "control_train <- trainControl(method = \"repeatedcv\", number = particiones,\n",
        "                              repeats = repeticiones, seeds = seeds,\n",
        "                              returnResamp = \"final\", verboseIter = FALSE,\n",
        "                              allowParallel = TRUE)\n",
        "\n",
        "# AJUSTE DEL MODELO\n",
        "# ==============================================================================\n",
        "set.seed(342)\n",
        "modelo_boost <- train(Survived ~ ., data = datos_train_prep,\n",
        "                   method = \"gbm\",\n",
        "                   tuneGrid = hiperparametros,\n",
        "                   metric = \"Accuracy\",\n",
        "                   trControl = control_train,\n",
        "                   # Número de árboles ajustados\n",
        "                   distribution = \"adaboost\",\n",
        "                   verbose = FALSE)\n",
        "modelo_boost"
      ],
      "metadata": {
        "id": "HNelT_3Kq3CN"
      },
      "execution_count": null,
      "outputs": []
    },
    {
      "cell_type": "code",
      "source": [
        "# REPRESENTACIÓN GRÁFICA\n",
        "# ==============================================================================\n",
        "ggplot(modelo_boost, highlight = TRUE) +\n",
        "  labs(title = \"Evolución del accuracy del modelo Gradient Boosting\") +\n",
        "    guides(color = guide_legend(title = \"shrinkage\"),\n",
        "           shape = guide_legend(title = \"shrinkage\")) +\n",
        "  theme_bw() +\n",
        "  theme(legend.position = \"bottom\")"
      ],
      "metadata": {
        "id": "-szOzdD4q4xs"
      },
      "execution_count": null,
      "outputs": []
    },
    {
      "cell_type": "markdown",
      "source": [
        "### SVM"
      ],
      "metadata": {
        "id": "qD0gvDu5q9Iu"
      }
    },
    {
      "cell_type": "code",
      "source": [
        "# PARALELIZACIÓN DE PROCESO\n",
        "#===============================================================================\n",
        "library(doMC)\n",
        "registerDoMC(cores = 4)\n",
        "\n",
        "# HIPERPARÁMETROS, NÚMERO DE REPETICIONES Y SEMILLAS PARA CADA REPETICIÓN\n",
        "#===============================================================================\n",
        "particiones  <- 10\n",
        "repeticiones <- 5\n",
        "\n",
        "# Hiperparámetros\n",
        "hiperparametros <- expand.grid(sigma = c(0.001, 0.01, 0.1, 0.5, 1),\n",
        "                               C = c(1 , 20, 50, 100, 200, 500, 700))\n",
        "\n",
        "set.seed(123)\n",
        "seeds <- vector(mode = \"list\", length = (particiones * repeticiones) + 1)\n",
        "for (i in 1:(particiones * repeticiones)) {\n",
        "  seeds[[i]] <- sample.int(1000, nrow(hiperparametros))\n",
        "}\n",
        "seeds[[(particiones * repeticiones) + 1]] <- sample.int(1000, 1)\n",
        "\n",
        "# DEFINICIÓN DEL ENTRENAMIENTO\n",
        "#===============================================================================\n",
        "control_train <- trainControl(method = \"repeatedcv\", number = particiones,\n",
        "                              repeats = repeticiones, seeds = seeds,\n",
        "                              returnResamp = \"final\", verboseIter = FALSE,\n",
        "                              allowParallel = TRUE)\n",
        "\n",
        "# AJUSTE DEL MODELO\n",
        "# ==============================================================================\n",
        "set.seed(342)\n",
        "modelo_svmrad <- train(Survived ~ ., data = datos_train_prep,\n",
        "                   method = \"svmRadial\",\n",
        "                   tuneGrid = hiperparametros,\n",
        "                   metric = \"Accuracy\",\n",
        "                   trControl = control_train)\n",
        "modelo_svmrad"
      ],
      "metadata": {
        "id": "qYvsK4e9rDGE"
      },
      "execution_count": null,
      "outputs": []
    },
    {
      "cell_type": "code",
      "source": [
        "modelo_svmrad$finalModel"
      ],
      "metadata": {
        "id": "RZbOih9erH0p"
      },
      "execution_count": null,
      "outputs": []
    },
    {
      "cell_type": "code",
      "source": [
        "# REPRESENTACIÓN GRÁFICA\n",
        "# ==============================================================================\n",
        "ggplot(modelo_svmrad, highlight = TRUE) +\n",
        "  labs(title = \"Evolución del accuracy del modelo SVM Radial\") +\n",
        "  theme_bw()"
      ],
      "metadata": {
        "id": "FNBAl6JHrJai"
      },
      "execution_count": null,
      "outputs": []
    },
    {
      "cell_type": "markdown",
      "source": [
        "### Redes neuronales (NNET)"
      ],
      "metadata": {
        "id": "i8Mq7V9orM3J"
      }
    },
    {
      "cell_type": "code",
      "source": [
        "# PARALELIZACIÓN DE PROCESO\n",
        "#===============================================================================\n",
        "library(doMC)\n",
        "registerDoMC(cores = 4)\n",
        "\n",
        "# HIPERPARÁMETROS, NÚMERO DE REPETICIONES Y SEMILLAS PARA CADA REPETICIÓN\n",
        "#===============================================================================\n",
        "particiones  <- 10\n",
        "repeticiones <- 5\n",
        "\n",
        "# Hiperparámetros\n",
        "hiperparametros <- expand.grid(size = c(10, 20, 50, 80, 100, 120),\n",
        "                               decay = c(0.0001, 0.1, 0.5))\n",
        "\n",
        "set.seed(123)\n",
        "seeds <- vector(mode = \"list\", length = (particiones * repeticiones) + 1)\n",
        "for (i in 1:(particiones * repeticiones)) {\n",
        "  seeds[[i]] <- sample.int(1000, nrow(hiperparametros))\n",
        "}\n",
        "seeds[[(particiones * repeticiones) + 1]] <- sample.int(1000, 1)\n",
        "\n",
        "# DEFINICIÓN DEL ENTRENAMIENTO\n",
        "#===============================================================================\n",
        "control_train <- trainControl(method = \"repeatedcv\", number = particiones,\n",
        "                              repeats = repeticiones, seeds = seeds,\n",
        "                              returnResamp = \"final\", verboseIter = FALSE,\n",
        "                              allowParallel = TRUE)\n",
        "\n",
        "# AJUSTE DEL MODELO\n",
        "# ==============================================================================\n",
        "set.seed(342)\n",
        "modelo_nnet <- train(Survived ~ ., data = datos_train_prep,\n",
        "                   method = \"nnet\",\n",
        "                   tuneGrid = hiperparametros,\n",
        "                   metric = \"Accuracy\",\n",
        "                   trControl = control_train,\n",
        "                   # Rango de inicialización de los pesos\n",
        "                   rang = c(-0.7, 0.7),\n",
        "                   # Número máximo de pesos\n",
        "                   # se aumenta para poder incluir más meuronas\n",
        "                   MaxNWts = 2000,\n",
        "                   # Para que no se muestre cada iteración por pantalla\n",
        "                   trace = FALSE)\n",
        "modelo_nnet"
      ],
      "metadata": {
        "id": "EPStnAGVrR2f"
      },
      "execution_count": null,
      "outputs": []
    },
    {
      "cell_type": "code",
      "source": [
        "# REPRESENTACIÓN GRÁFICA\n",
        "# ==============================================================================\n",
        "ggplot(modelo_nnet, highlight = TRUE) +\n",
        "  labs(title = \"Evolución del accuracy del modelo NNET\") +\n",
        "  theme_bw()"
      ],
      "metadata": {
        "id": "oUhHsITCrTPt"
      },
      "execution_count": null,
      "outputs": []
    },
    {
      "cell_type": "markdown",
      "source": [
        "## Comparación de Modelos"
      ],
      "metadata": {
        "id": "ajtwX1WRDNik"
      }
    },
    {
      "cell_type": "markdown",
      "source": [
        "#### Metricas de Validación\n"
      ],
      "metadata": {
        "id": "l5Qe6Z-3DS0i"
      }
    },
    {
      "cell_type": "code",
      "source": [
        "modelos <- list(KNN = modelo_knn, NB = modelo_nb, logistic = modelo_logistic,\n",
        "                LDA = modelo_lda, arbol = modelo_C50Tree, rf = modelo_rf,\n",
        "                boosting = modelo_boost, SVMradial = modelo_svmrad,\n",
        "                NNET = modelo_nnet)\n",
        "\n",
        "resultados_resamples <- resamples(modelos)\n",
        "resultados_resamples$values %>% head(10)"
      ],
      "metadata": {
        "id": "AhM_xeLBG2e1"
      },
      "execution_count": null,
      "outputs": []
    },
    {
      "cell_type": "code",
      "source": [
        "# Se trasforma el dataframe devuelto por resamples() para separar el nombre del\n",
        "# modelo y las métricas en columnas distintas.\n",
        "metricas_resamples <- resultados_resamples$values %>%\n",
        "                         gather(key = \"modelo\", value = \"valor\", -Resample) %>%\n",
        "                         separate(col = \"modelo\", into = c(\"modelo\", \"metrica\"),\n",
        "                                  sep = \"~\", remove = TRUE)\n",
        "metricas_resamples %>% head()"
      ],
      "metadata": {
        "id": "BGuhnRZXG-MP"
      },
      "execution_count": null,
      "outputs": []
    },
    {
      "cell_type": "markdown",
      "source": [
        "*Accuracy y Kappa promedio de cada modelo*"
      ],
      "metadata": {
        "id": "4PFrPb0oHC9a"
      }
    },
    {
      "cell_type": "code",
      "source": [
        "metricas_resamples %>%\n",
        "  group_by(modelo, metrica) %>%\n",
        "  summarise(media = mean(valor)) %>%\n",
        "  spread(key = metrica, value = media) %>%\n",
        "  arrange(desc(Accuracy))"
      ],
      "metadata": {
        "id": "WvzmUsOoHQII"
      },
      "execution_count": null,
      "outputs": []
    },
    {
      "cell_type": "code",
      "source": [
        "metricas_resamples %>%\n",
        "  filter(metrica == \"Accuracy\") %>%\n",
        "  group_by(modelo) %>%\n",
        "  summarise(media = mean(valor)) %>%\n",
        "  ggplot(aes(x = reorder(modelo, media), y = media, label = round(media, 2))) +\n",
        "    geom_segment(aes(x = reorder(modelo, media), y = 0,\n",
        "                     xend = modelo, yend = media),\n",
        "                     color = \"grey50\") +\n",
        "    geom_point(size = 7, color = \"firebrick\") +\n",
        "    geom_text(color = \"white\", size = 2.5) +\n",
        "    scale_y_continuous(limits = c(0, 1)) +\n",
        "    # Accuracy basal\n",
        "    geom_hline(yintercept = 0.62, linetype = \"dashed\") +\n",
        "    annotate(geom = \"text\", y = 0.72, x = 8.5, label = \"Accuracy basal\") +\n",
        "    labs(title = \"Validación: Accuracy medio repeated-CV\",\n",
        "         subtitle = \"Modelos ordenados por media\",\n",
        "         x = \"modelo\") +\n",
        "    coord_flip() +\n",
        "    theme_bw()"
      ],
      "metadata": {
        "id": "4BQYNxrxHcZ6"
      },
      "execution_count": null,
      "outputs": []
    },
    {
      "cell_type": "code",
      "source": [
        "metricas_resamples %>% filter(metrica == \"Accuracy\") %>%\n",
        "  group_by(modelo) %>%\n",
        "  mutate(media = mean(valor)) %>%\n",
        "  ungroup() %>%\n",
        "  ggplot(aes(x = reorder(modelo, media), y = valor, color = modelo)) +\n",
        "    geom_boxplot(alpha = 0.6, outlier.shape = NA) +\n",
        "    geom_jitter(width = 0.1, alpha = 0.6) +\n",
        "    scale_y_continuous(limits = c(0, 1)) +\n",
        "    # Accuracy basal\n",
        "    geom_hline(yintercept = 0.62, linetype = \"dashed\") +\n",
        "    annotate(geom = \"text\", y = 0.65, x = 8.5, label = \"Accuracy basal\") +\n",
        "    theme_bw() +\n",
        "    labs(title = \"Validación: Accuracy medio repeated-CV\",\n",
        "         subtitle = \"Modelos ordenados por media\") +\n",
        "    coord_flip() +\n",
        "    theme(legend.position = \"none\")"
      ],
      "metadata": {
        "id": "_5hm66TIIV7v"
      },
      "execution_count": null,
      "outputs": []
    },
    {
      "cell_type": "markdown",
      "source": [
        "*Test de Friedman para comparar el accuracy de los modelos*"
      ],
      "metadata": {
        "id": "1Ue4Sxa3K5d4"
      }
    },
    {
      "cell_type": "code",
      "source": [
        "matriz_metricas <- metricas_resamples %>% filter(metrica == \"Accuracy\") %>%\n",
        "                   spread(key = modelo, value = valor) %>%\n",
        "                   select(-Resample, -metrica) %>% as.matrix()\n",
        "friedman.test(y = matriz_metricas)"
      ],
      "metadata": {
        "id": "9_qDri23K3iG"
      },
      "execution_count": null,
      "outputs": []
    },
    {
      "cell_type": "code",
      "source": [
        "# Comparaciones múltiples con un test suma de rangos de Wilcoxon\n",
        "# ==============================================================================\n",
        "\n",
        "metricas_accuracy <- metricas_resamples %>% filter(metrica == \"Accuracy\")\n",
        "comparaciones  <- pairwise.wilcox.test(x = metricas_accuracy$valor,\n",
        "                                        g = metricas_accuracy$modelo,\n",
        "                                        paired = TRUE,\n",
        "                                        p.adjust.method = \"holm\")\n",
        "\n",
        "# Se almacenan los p_values en forma de dataframe\n",
        "comparaciones <- comparaciones$p.value %>%\n",
        "  as.data.frame() %>%\n",
        "  rownames_to_column(var = \"modeloA\") %>%\n",
        "  gather(key = \"modeloB\", value = \"p_value\", -modeloA) %>%\n",
        "  na.omit() %>%\n",
        "  arrange(modeloA)\n",
        "\n",
        "comparaciones"
      ],
      "metadata": {
        "id": "FlxDBmdyLZGA"
      },
      "execution_count": null,
      "outputs": []
    },
    {
      "cell_type": "markdown",
      "source": [
        "### Error de test\n"
      ],
      "metadata": {
        "id": "25jFs4QkLipi"
      }
    },
    {
      "cell_type": "code",
      "source": [
        "predicciones <- extractPrediction(\n",
        "                  models = modelos,\n",
        "                  testX = datos_test_prep %>% select(-Survived),\n",
        "                  testY = datos_test_prep$Survived\n",
        "                )\n",
        "predicciones %>% head()"
      ],
      "metadata": {
        "id": "5OUxo66XLqcZ"
      },
      "execution_count": null,
      "outputs": []
    },
    {
      "cell_type": "code",
      "source": [
        "metricas_predicciones <- predicciones %>%\n",
        "                         mutate(acierto = ifelse(obs == pred, TRUE, FALSE)) %>%\n",
        "                         group_by(object, dataType) %>%\n",
        "                         summarise(accuracy = mean(acierto))\n",
        "\n",
        "metricas_predicciones %>%\n",
        "  spread(key = dataType, value = accuracy) %>%\n",
        "  arrange(desc(Test))"
      ],
      "metadata": {
        "id": "aBR1dnXjLrpK"
      },
      "execution_count": null,
      "outputs": []
    },
    {
      "cell_type": "code",
      "source": [
        "ggplot(data = metricas_predicciones,\n",
        "       aes(x = reorder(object, accuracy), y = accuracy,\n",
        "           color = dataType, label = round(accuracy, 2))) +\n",
        "  geom_point(size = 8) +\n",
        "  scale_color_manual(values = c(\"orangered2\", \"gray50\")) +\n",
        "  geom_text(color = \"white\", size = 3) +\n",
        "  scale_y_continuous(limits = c(0, 1)) +\n",
        "  # Accuracy basal\n",
        "  geom_hline(yintercept = 0.62, linetype = \"dashed\") +\n",
        "  annotate(geom = \"text\", y = 0.66, x = 8.5, label = \"Accuracy basal\") +\n",
        "  coord_flip() +\n",
        "  labs(title = \"Accuracy de entrenamiento y test\",\n",
        "       x = \"modelo\") +\n",
        "  theme_bw() +\n",
        "  theme(legend.position = \"bottom\")"
      ],
      "metadata": {
        "id": "1SMfbElFLufu"
      },
      "execution_count": null,
      "outputs": []
    },
    {
      "cell_type": "code",
      "source": [
        "comparaciones %>% filter((modeloA == \"rf\") | (modeloA == \"SVMradial\" & modeloB == \"rf\"))"
      ],
      "metadata": {
        "id": "BJ1Udy70LxYG"
      },
      "execution_count": null,
      "outputs": []
    },
    {
      "cell_type": "markdown",
      "source": [
        "## Model ensembling (stacking)\n"
      ],
      "metadata": {
        "id": "zvkB-GJbOTbk"
      }
    },
    {
      "cell_type": "code",
      "source": [
        "moda <- function(x, indice_mejor_modelo){\n",
        "  tabla_freq <- table(x)\n",
        "  freq_maxima <- max(tabla_freq)\n",
        "  if(sum(tabla_freq == freq_maxima) > 1) {\n",
        "    # En caso de empate, se devuelve la predicción que\n",
        "    # ocupa el índice del mejor modelo\n",
        "    return(x[indice_mejor_modelo])\n",
        "  }\n",
        "  return(names(which.max(table(x))))\n",
        "}\n",
        "\n",
        "predicciones_ensemble <- predicciones %>%\n",
        "  filter(dataType == \"Test\", object %in% c(\"rf\", \"SVMradial\", \"NNET\")) %>%\n",
        "  select(pred, modelo = object) %>%\n",
        "  group_by(modelo) %>%\n",
        "  # Se añade un id único por observación para poder pivotar\n",
        "  mutate(id = 1:n()) %>%\n",
        "  ungroup() %>%\n",
        "  spread(key = modelo, value = pred)\n",
        "\n",
        "predicciones_ensemble <- predicciones_ensemble %>%\n",
        "                         mutate(moda = apply(X = predicciones_ensemble,\n",
        "                                             MARGIN = 1,\n",
        "                                             FUN = moda,\n",
        "                                             indice_mejor_modelo = 2))\n",
        "predicciones_ensemble %>% head()"
      ],
      "metadata": {
        "id": "Cw-LmyDEOaUf"
      },
      "execution_count": null,
      "outputs": []
    },
    {
      "cell_type": "code",
      "source": [
        "# Accuracy de test del ensemble\n",
        "mean(datos_test_prep$Survived == predicciones_ensemble$moda)"
      ],
      "metadata": {
        "id": "rof-4YsiOiFS"
      },
      "execution_count": null,
      "outputs": []
    },
    {
      "cell_type": "markdown",
      "source": [
        "## Entrenar múltiples modelos simultáneamente"
      ],
      "metadata": {
        "id": "u7mU0ug7Olht"
      }
    },
    {
      "cell_type": "markdown",
      "source": [
        "### Definir el grid de modelos"
      ],
      "metadata": {
        "id": "m_OsE7NPSANc"
      }
    },
    {
      "cell_type": "code",
      "source": [
        "library(modelgrid)"
      ],
      "metadata": {
        "id": "HjOINurtcH6b"
      },
      "execution_count": null,
      "outputs": []
    },
    {
      "cell_type": "code",
      "source": [
        "grid_modelos <- model_grid()\n",
        "grid_modelos"
      ],
      "metadata": {
        "id": "V2VyfSoWcMzW"
      },
      "execution_count": null,
      "outputs": []
    },
    {
      "cell_type": "code",
      "source": [
        "grid_modelos <- grid_modelos %>%\n",
        "                share_settings(\n",
        "                  y = datos_train_prep$Survived,\n",
        "                  x = datos_train_prep %>% select(-Survived),\n",
        "                  metric = \"Accuracy\",\n",
        "                  trControl = trainControl(method = \"repeatedcv\",\n",
        "                                           number = 10,\n",
        "                                           repeats = 5,\n",
        "                                           returnResamp = \"final\",\n",
        "                                           verboseIter = FALSE,\n",
        "                                           allowParallel = TRUE\n",
        "                                           )\n",
        "                )"
      ],
      "metadata": {
        "id": "LS2blfLYcTTq"
      },
      "execution_count": null,
      "outputs": []
    },
    {
      "cell_type": "code",
      "source": [
        "grid_modelos <- grid_modelos %>%\n",
        "                  add_model(\n",
        "                    model_name = \"Reg_logistica\",\n",
        "                    method     = \"glm\",\n",
        "                    family     = binomial(link = \"logit\")\n",
        "                  ) %>%\n",
        "                  add_model(\n",
        "                    model_name = \"RandomForest\",\n",
        "                    method     = \"ranger\",\n",
        "                    num.trees  = 500,\n",
        "                    tuneGrid   = expand.grid(\n",
        "                                  mtry = c(3, 4, 5, 7),\n",
        "                                  min.node.size = c(2, 3, 4, 5, 10, 15, 20, 30),\n",
        "                                  splitrule = \"gini\"\n",
        "                                 )\n",
        "                  ) %>%\n",
        "                  add_model(\n",
        "                    model_name = \"SVM\",\n",
        "                    method = \"svmRadial\",\n",
        "                    tuneGrid   = expand.grid(\n",
        "                                  sigma = c(0.001, 0.01, 0.1, 0.5, 1),\n",
        "                                  C = c(1 , 20, 50, 100, 200, 500, 700)\n",
        "                                 )\n",
        "                  )\n",
        "grid_modelos$models"
      ],
      "metadata": {
        "id": "W-DPh8TJcYeD"
      },
      "execution_count": null,
      "outputs": []
    },
    {
      "cell_type": "markdown",
      "source": [
        "### Entrenar el grid de modelos\n"
      ],
      "metadata": {
        "id": "bS9O7mlQcYKc"
      }
    },
    {
      "cell_type": "code",
      "source": [
        "# Se emplean 4 cores en paralelo.\n",
        "library(doMC)\n",
        "registerDoMC(cores = 4)\n",
        "\n",
        "grid_modelos <- train(grid_modelos, train_all = FALSE, resample_seed = 123)\n",
        "grid_modelos$model_fits"
      ],
      "metadata": {
        "id": "bzL8wSx6dd_A"
      },
      "execution_count": null,
      "outputs": []
    },
    {
      "cell_type": "markdown",
      "source": [
        "### Extracción de información"
      ],
      "metadata": {
        "id": "-9ylIS9edh8H"
      }
    },
    {
      "cell_type": "code",
      "source": [
        "# Extracción de las métricas de validación cruzada.\n",
        "metricas_cv <- caret::resamples(x = grid_modelos$model_fits)\n",
        "metricas_cv$values %>% head()"
      ],
      "metadata": {
        "id": "yN77xcbIdfh7"
      },
      "execution_count": null,
      "outputs": []
    },
    {
      "cell_type": "code",
      "source": [
        "# Predicción\n",
        "predicciones <- extractPrediction(\n",
        "                  models = grid_modelos$model_fits,\n",
        "                  testX = datos_test_prep %>% select(-Survived),\n",
        "                  testY = datos_test_prep$Survived\n",
        "                  )\n",
        "predicciones %>% head()"
      ],
      "metadata": {
        "id": "nCJTJfNBdt7G"
      },
      "execution_count": null,
      "outputs": []
    },
    {
      "cell_type": "markdown",
      "source": [
        "### Modificar o eliminar modelos"
      ],
      "metadata": {
        "id": "FV1PzrHxdwcP"
      }
    },
    {
      "cell_type": "code",
      "source": [
        "grid_modelos <- grid_modelos %>%\n",
        "                edit_model(model_name = \"RandomForest\",\n",
        "                           num.trees = 200)\n",
        "grid_modelos$models$RandomForest$num.trees"
      ],
      "metadata": {
        "id": "RoYD4Dzsd0c7"
      },
      "execution_count": null,
      "outputs": []
    },
    {
      "cell_type": "code",
      "source": [
        "grid_modelos <- grid_modelos %>%\n",
        "                remove_model(model_name = \"RandomForest\")\n",
        "names(grid_modelos$models)"
      ],
      "metadata": {
        "id": "tQoIcTRDd5b0"
      },
      "execution_count": null,
      "outputs": []
    }
  ]
}
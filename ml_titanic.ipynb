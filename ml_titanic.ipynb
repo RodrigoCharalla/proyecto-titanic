{
  "nbformat": 4,
  "nbformat_minor": 0,
  "metadata": {
    "colab": {
      "provenance": [],
      "toc_visible": true,
      "authorship_tag": "ABX9TyMlWrUjSZPdPX2kdEIYwVcJ",
      "include_colab_link": true
    },
    "kernelspec": {
      "name": "ir",
      "display_name": "R"
    },
    "language_info": {
      "name": "R"
    }
  },
  "cells": [
    {
      "cell_type": "markdown",
      "metadata": {
        "id": "view-in-github",
        "colab_type": "text"
      },
      "source": [
        "<a href=\"https://colab.research.google.com/github/RodrigoCharalla/proyecto-titanic/blob/main/ml_titanic.ipynb\" target=\"_parent\"><img src=\"https://colab.research.google.com/assets/colab-badge.svg\" alt=\"Open In Colab\"/></a>"
      ]
    },
    {
      "cell_type": "code",
      "execution_count": null,
      "metadata": {
        "colab": {
          "base_uri": "https://localhost:8080/"
        },
        "id": "2ws15M1bY4xq",
        "outputId": "d69fbf0d-5479-4317-c45c-907041a171e6",
        "collapsed": true
      },
      "outputs": [
        {
          "output_type": "stream",
          "name": "stderr",
          "text": [
            "Installing package into ‘/usr/local/lib/R/site-library’\n",
            "(as ‘lib’ is unspecified)\n",
            "\n",
            "also installing the dependencies ‘listenv’, ‘parallelly’, ‘future’, ‘globals’, ‘shape’, ‘future.apply’, ‘numDeriv’, ‘progressr’, ‘SQUAREM’, ‘diagram’, ‘lava’, ‘prodlim’, ‘proxy’, ‘iterators’, ‘Rcpp’, ‘clock’, ‘gower’, ‘hardhat’, ‘ipred’, ‘timeDate’, ‘e1071’, ‘foreach’, ‘ModelMetrics’, ‘plyr’, ‘pROC’, ‘recipes’, ‘reshape2’\n",
            "\n",
            "\n"
          ]
        }
      ],
      "source": [
        "# Instalación de los paquetes que unifica caret. Esta instalación puede tardar.\n",
        "# Solo es necesario ejecutarla si no se dispone de los paquetes.\n",
        "install.packages(\"caret\")"
      ]
    },
    {
      "cell_type": "code",
      "source": [
        "library(caret)"
      ],
      "metadata": {
        "id": "qSpEdN9-ZHdY",
        "colab": {
          "base_uri": "https://localhost:8080/",
          "height": 106
        },
        "outputId": "a8399ae9-13b8-4300-a6af-8f95d6e2c083"
      },
      "execution_count": null,
      "outputs": [
        {
          "output_type": "error",
          "ename": "ERROR",
          "evalue": "Error in library(caret): there is no package called ‘caret’\n",
          "traceback": [
            "Error in library(caret): there is no package called ‘caret’\nTraceback:\n",
            "1. library(caret)"
          ]
        }
      ]
    },
    {
      "cell_type": "markdown",
      "source": [
        "#Dataset Titanic"
      ],
      "metadata": {
        "id": "fINOKlfZcLEb"
      }
    },
    {
      "cell_type": "code",
      "source": [
        "library(tidyverse)\n",
        "library(titanic)\n",
        "datos <- titanic_train"
      ],
      "metadata": {
        "id": "qMOm2iYEh4KW",
        "colab": {
          "base_uri": "https://localhost:8080/",
          "height": 297
        },
        "outputId": "7fa17886-a0fd-40e5-b391-ed880a903dd6"
      },
      "execution_count": null,
      "outputs": [
        {
          "output_type": "stream",
          "name": "stderr",
          "text": [
            "── \u001b[1mAttaching core tidyverse packages\u001b[22m ──────────────────────── tidyverse 2.0.0 ──\n",
            "\u001b[32m✔\u001b[39m \u001b[34mdplyr    \u001b[39m 1.1.4     \u001b[32m✔\u001b[39m \u001b[34mreadr    \u001b[39m 2.1.5\n",
            "\u001b[32m✔\u001b[39m \u001b[34mforcats  \u001b[39m 1.0.0     \u001b[32m✔\u001b[39m \u001b[34mstringr  \u001b[39m 1.5.1\n",
            "\u001b[32m✔\u001b[39m \u001b[34mlubridate\u001b[39m 1.9.3     \u001b[32m✔\u001b[39m \u001b[34mtibble   \u001b[39m 3.2.1\n",
            "\u001b[32m✔\u001b[39m \u001b[34mpurrr    \u001b[39m 1.0.2     \u001b[32m✔\u001b[39m \u001b[34mtidyr    \u001b[39m 1.3.1\n",
            "── \u001b[1mConflicts\u001b[22m ────────────────────────────────────────── tidyverse_conflicts() ──\n",
            "\u001b[31m✖\u001b[39m \u001b[34mpurrr\u001b[39m::\u001b[32m%||%()\u001b[39m   masks \u001b[34mbase\u001b[39m::%||%()\n",
            "\u001b[31m✖\u001b[39m \u001b[34mdplyr\u001b[39m::\u001b[32mfilter()\u001b[39m masks \u001b[34mstats\u001b[39m::filter()\n",
            "\u001b[31m✖\u001b[39m \u001b[34mdplyr\u001b[39m::\u001b[32mlag()\u001b[39m    masks \u001b[34mstats\u001b[39m::lag()\n",
            "\u001b[31m✖\u001b[39m \u001b[34mpurrr\u001b[39m::\u001b[32mlift()\u001b[39m   masks \u001b[34mcaret\u001b[39m::lift()\n",
            "\u001b[36mℹ\u001b[39m Use the conflicted package (\u001b[3m\u001b[34m<http://conflicted.r-lib.org/>\u001b[39m\u001b[23m) to force all conflicts to become errors\n"
          ]
        },
        {
          "output_type": "error",
          "ename": "ERROR",
          "evalue": "Error in library(titanic): there is no package called ‘titanic’\n",
          "traceback": [
            "Error in library(titanic): there is no package called ‘titanic’\nTraceback:\n",
            "1. library(titanic)"
          ]
        }
      ]
    },
    {
      "cell_type": "markdown",
      "source": [
        "#Análisis exploratorio de los datos\n"
      ],
      "metadata": {
        "id": "XxHuC4salGzh"
      }
    },
    {
      "cell_type": "markdown",
      "source": [
        "\n",
        "\n",
        "* **PassengerId:** identificador único del pasajero.\n",
        "\n",
        "* **Survived:** si el pasajero sobrevivió al naufragio, codificada como 0 (no) y 1 (si). Esta es la variable respuesta que interesa predecir.\n",
        "\n",
        "* **Pclass:** clase a la que pertenecía el pasajero: 1, 2 o 3.\n",
        "\n",
        "* **Name:** nombre del pasajero.\n",
        "\n",
        "* **Sex:** sexo del pasajero.\n",
        "\n",
        "* **Age:** edad del pasajero.\n",
        "\n",
        "* **SibSp:** número de hermanos, hermanas, hermanastros o hermanastras en el barco.\n",
        "\n",
        "* **Parch:** número de padres e hijos en el barco.\n",
        "\n",
        "* **Ticket:** identificador del billete.\n",
        "\n",
        "* **Fare:** precio pagado por el billete.\n",
        "\n",
        "* **Cabin:** identificador del camarote asignado al pasajero.\n",
        "\n",
        "* **Embarked:** puerto en el que embarcó el pasajero."
      ],
      "metadata": {
        "id": "LGnYqgixoscC"
      }
    },
    {
      "cell_type": "markdown",
      "source": [
        "## Tipo de variables\n"
      ],
      "metadata": {
        "id": "CdLQ8U9_FxTN"
      }
    },
    {
      "cell_type": "code",
      "source": [
        "# Resumen del set de datos\n",
        "glimpse(datos)"
      ],
      "metadata": {
        "id": "jJ0EnHVIGd3O",
        "outputId": "18dd7978-7f81-4e88-975f-79d920744046",
        "colab": {
          "base_uri": "https://localhost:8080/",
          "height": 72
        }
      },
      "execution_count": null,
      "outputs": [
        {
          "output_type": "error",
          "ename": "ERROR",
          "evalue": "Error in glimpse(datos): could not find function \"glimpse\"\n",
          "traceback": [
            "Error in glimpse(datos): could not find function \"glimpse\"\nTraceback:\n"
          ]
        }
      ]
    },
    {
      "cell_type": "code",
      "source": [
        "datos$Survived <- if_else(datos$Survived == 1, \"Si\", \"No\")\n",
        "datos$Survived <- as.factor(datos$Survived)"
      ],
      "metadata": {
        "colab": {
          "base_uri": "https://localhost:8080/",
          "height": 72
        },
        "id": "yWCO_ams4qsS",
        "outputId": "240d86f8-d769-4f1e-ea63-2ce9a01e8d2c"
      },
      "execution_count": null,
      "outputs": [
        {
          "output_type": "error",
          "ename": "ERROR",
          "evalue": "Error in if_else(datos$Survived == 1, \"Si\", \"No\"): could not find function \"if_else\"\n",
          "traceback": [
            "Error in if_else(datos$Survived == 1, \"Si\", \"No\"): could not find function \"if_else\"\nTraceback:\n"
          ]
        }
      ]
    },
    {
      "cell_type": "code",
      "source": [
        "datos$Pclass <- as.factor(datos$Pclass)"
      ],
      "metadata": {
        "id": "kvGGNk0A4sq7"
      },
      "execution_count": null,
      "outputs": []
    },
    {
      "cell_type": "code",
      "source": [
        "datos$SibSp <- as.factor(datos$SibSp)\n",
        "datos$Parch <- as.factor(datos$Parch)"
      ],
      "metadata": {
        "id": "Kwsl_-Hj4ube"
      },
      "execution_count": null,
      "outputs": []
    },
    {
      "cell_type": "code",
      "source": [
        "datos$Sex      <- as.factor(datos$Sex)\n",
        "datos$Embarked <- as.factor(datos$Embarked)"
      ],
      "metadata": {
        "id": "zhGrWXsq4v5_"
      },
      "execution_count": null,
      "outputs": []
    },
    {
      "cell_type": "code",
      "source": [
        "datos_long <- datos %>% gather(key = \"variable\", value = \"valor\", -PassengerId)\n",
        "head(datos_long)"
      ],
      "metadata": {
        "id": "2sr_qJEI4xTS"
      },
      "execution_count": null,
      "outputs": []
    },
    {
      "cell_type": "markdown",
      "source": [
        "## Número de observaciones y valores ausentes"
      ],
      "metadata": {
        "id": "Hwnz76Al65Jy"
      }
    },
    {
      "cell_type": "code",
      "source": [
        "# Número de observaciones del set de datos\n",
        "nrow(datos)"
      ],
      "metadata": {
        "id": "NJuNuqfA4y7K"
      },
      "execution_count": null,
      "outputs": []
    },
    {
      "cell_type": "code",
      "source": [
        "# Detección si hay alguna fila incompleta\n",
        "any(!complete.cases(datos))"
      ],
      "metadata": {
        "id": "w9Qg-Pm_429s"
      },
      "execution_count": null,
      "outputs": []
    },
    {
      "cell_type": "code",
      "source": [
        "# Número de datos ausentes por variable\n",
        "map_dbl(datos, .f = function(x){sum(is.na(x))})"
      ],
      "metadata": {
        "id": "tiqo4X9N5R04"
      },
      "execution_count": null,
      "outputs": []
    },
    {
      "cell_type": "code",
      "source": [
        "datos %>% map_lgl(.f = function(x){any(!is.na(x) & x == \"\")})"
      ],
      "metadata": {
        "id": "Q2jmoa9m5Txm"
      },
      "execution_count": null,
      "outputs": []
    },
    {
      "cell_type": "code",
      "source": [
        "# La variable Cabin está almacenada como character\n",
        "datos$Cabin[datos$Cabin == \"\"] <- NA"
      ],
      "metadata": {
        "id": "_ypMuIkr5XCl"
      },
      "execution_count": null,
      "outputs": []
    },
    {
      "cell_type": "code",
      "source": [
        "levels(datos$Embarked)"
      ],
      "metadata": {
        "id": "57w8bTCJ5Y3R"
      },
      "execution_count": null,
      "outputs": []
    },
    {
      "cell_type": "code",
      "source": [
        "datos$Embarked <- as.character(datos$Embarked)\n",
        "datos$Embarked[datos$Embarked == \"\"] <- NA\n",
        "datos$Embarked <- as.factor(datos$Embarked)\n",
        "levels(datos$Embarked)"
      ],
      "metadata": {
        "id": "mW5YMCOe5v1B"
      },
      "execution_count": null,
      "outputs": []
    },
    {
      "cell_type": "code",
      "source": [
        "# Este cambio también se aplica al dataframe datos_long\n",
        "datos_long$valor[datos_long$valor == \"\"] <- NA"
      ],
      "metadata": {
        "id": "vzZPhExn5xo2"
      },
      "execution_count": null,
      "outputs": []
    },
    {
      "cell_type": "code",
      "source": [
        "# Número de datos ausentes por variable\n",
        "map_dbl(datos, .f = function(x){sum(is.na(x))})"
      ],
      "metadata": {
        "id": "7TaY61a452HO"
      },
      "execution_count": null,
      "outputs": []
    },
    {
      "cell_type": "code",
      "source": [
        "# Representación gráfica de los datos ausentes\n",
        "datos_long <- datos_long %>%  mutate(ausente = is.na(valor))\n",
        "ggplot(data = datos_long, aes(x = variable,\n",
        "                              y = PassengerId,\n",
        "                              fill = ausente)) +\n",
        "  geom_raster() +\n",
        "  scale_fill_manual(values = c(\"gray60\", \"orangered2\")) +\n",
        "  theme_bw() +\n",
        "  labs(title = \"Valores ausentes por variable\") +\n",
        "  theme(legend.position = \"bottom\")"
      ],
      "metadata": {
        "id": "dxwH-6rR6DAF"
      },
      "execution_count": null,
      "outputs": []
    },
    {
      "cell_type": "code",
      "source": [
        "datos_long %>%\n",
        "  group_by(variable) %>%\n",
        "  summarize(porcentaje_NA = 100 * sum(is.na(valor)) / length(valor)) %>%\n",
        "  ggplot(aes(x = reorder(variable, desc(porcentaje_NA)), y = porcentaje_NA)) +\n",
        "    geom_col() +\n",
        "    labs(title = \"Porcentaje valores ausentes por variable\",\n",
        "         x = \"Variable\", y = \"Porcentaje NAs\") +\n",
        "    theme_bw()"
      ],
      "metadata": {
        "id": "4kA_eCSz6sQZ"
      },
      "execution_count": null,
      "outputs": []
    },
    {
      "cell_type": "markdown",
      "source": [
        "## Distribución de variables respuesta"
      ],
      "metadata": {
        "id": "QRQW7g9C79gh"
      }
    },
    {
      "cell_type": "code",
      "source": [
        "ggplot(data = datos, aes(x = Survived, y = ..count.., fill = Survived)) +\n",
        "  geom_bar() +\n",
        "  scale_fill_manual(values = c(\"gray50\", \"orangered2\")) +\n",
        "  labs(title = \"Supervivencia\") +\n",
        "  theme_bw() +\n",
        "  theme(legend.position = \"bottom\")"
      ],
      "metadata": {
        "id": "6gfNfCzJ8Hkb"
      },
      "execution_count": null,
      "outputs": []
    },
    {
      "cell_type": "code",
      "source": [
        "# Tabla de frecuencias\n",
        "table(datos$Survived)"
      ],
      "metadata": {
        "id": "jHn_3RT-8LtI"
      },
      "execution_count": null,
      "outputs": []
    },
    {
      "cell_type": "code",
      "source": [
        "prop.table(table(datos$Survived)) %>% round(digits = 2)"
      ],
      "metadata": {
        "id": "Qq1dnYHd8k2x"
      },
      "execution_count": null,
      "outputs": []
    },
    {
      "cell_type": "code",
      "source": [
        "# Porcentaje de aciertos si se predice para todas las observaciones que\n",
        "#no sobrevivieron.\n",
        "n_observaciones <- nrow(datos)\n",
        "predicciones <- rep(x = \"No\",  n_observaciones)\n",
        "mean(predicciones == datos$Survived) * 100"
      ],
      "metadata": {
        "id": "cLfo7R498-ie"
      },
      "execution_count": null,
      "outputs": []
    },
    {
      "cell_type": "markdown",
      "source": [
        "## Distribución de variables continuas"
      ],
      "metadata": {
        "id": "d6tuuPw89IpH"
      }
    },
    {
      "cell_type": "code",
      "source": [
        "library(ggpubr)\n",
        "p1 <- ggplot(data = datos, aes(x = Age, fill = Survived)) +\n",
        "      geom_density(alpha = 0.5) +\n",
        "      scale_fill_manual(values = c(\"gray50\", \"orangered2\")) +\n",
        "      geom_rug(aes(color = Survived), alpha = 0.5) +\n",
        "      scale_color_manual(values = c(\"gray50\", \"orangered2\")) +\n",
        "      theme_bw()\n",
        "p2 <- ggplot(data = datos, aes(x = Survived, y = Age, color = Survived)) +\n",
        "      geom_boxplot(outlier.shape = NA) +\n",
        "      geom_jitter(alpha = 0.3, width = 0.15) +\n",
        "      scale_color_manual(values = c(\"gray50\", \"orangered2\")) +\n",
        "      theme_bw()\n",
        "final_plot <- ggarrange(p1, p2, legend = \"top\")\n",
        "final_plot <- annotate_figure(final_plot, top = text_grob(\"Age\", size = 15))\n",
        "final_plot"
      ],
      "metadata": {
        "id": "PW-nFsjp9H6w"
      },
      "execution_count": null,
      "outputs": []
    },
    {
      "cell_type": "code",
      "source": [
        "# Estadísticos de la edad de los supervivientes y fallecidos\n",
        "datos %>% filter(!is.na(Age)) %>% group_by(Survived) %>%\n",
        "          summarise(media = mean(Age),\n",
        "                    mediana = median(Age),\n",
        "                    min = min(Age),\n",
        "                    max = max(Age))"
      ],
      "metadata": {
        "id": "rw1VXqym-BKh"
      },
      "execution_count": null,
      "outputs": []
    },
    {
      "cell_type": "code",
      "source": [
        "datos <- datos %>%\n",
        "         mutate(Age_grupo = case_when(Age <= 10  ~ \"niño\",\n",
        "                                      Age > 10 & Age <= 60  ~ \"adulto\",\n",
        "                                      Age > 60 ~ \"anciano\"))\n",
        "datos$Age_grupo <- as.factor(datos$Age_grupo)"
      ],
      "metadata": {
        "id": "9J4nH9_C-D9n"
      },
      "execution_count": null,
      "outputs": []
    },
    {
      "cell_type": "code",
      "source": [
        "p1 <- ggplot(data = datos, aes(x = Fare, fill = Survived)) +\n",
        "      geom_density(alpha = 0.5) +\n",
        "      scale_fill_manual(values = c(\"gray50\", \"orangered2\")) +\n",
        "      geom_rug(aes(color = Survived), alpha = 0.5) +\n",
        "      scale_color_manual(values = c(\"gray50\", \"orangered2\")) +\n",
        "      theme_bw()\n",
        "p2 <- ggplot(data = datos, aes(x = Survived, y = Fare, color = Survived)) +\n",
        "      geom_boxplot(outlier.shape = NA) +\n",
        "      geom_jitter(alpha = 0.3, width = 0.15) +\n",
        "      scale_color_manual(values = c(\"gray50\", \"orangered2\")) +\n",
        "      theme_bw()\n",
        "final_plot <- ggarrange(p1, p2, legend = \"top\")\n",
        "final_plot <- annotate_figure(final_plot, top = text_grob(\"Fare\", size = 15))\n",
        "final_plot"
      ],
      "metadata": {
        "id": "bAXjA1ke-LNf"
      },
      "execution_count": null,
      "outputs": []
    },
    {
      "cell_type": "code",
      "source": [
        "# Estadísticos del precio del billete de los supervivientes y fallecidos\n",
        "datos %>% filter(!is.na(Fare)) %>% group_by(Survived) %>%\n",
        "          summarise(media = mean(Fare),\n",
        "                    mediana = median(Fare),\n",
        "                    min = min(Fare),\n",
        "                    max = max(Fare))"
      ],
      "metadata": {
        "id": "y6nkBAAg-N6r"
      },
      "execution_count": null,
      "outputs": []
    },
    {
      "cell_type": "code",
      "source": [
        "p1 <- ggplot(data = datos, aes(x = log(Fare), fill = Survived)) +\n",
        "      geom_density(alpha = 0.5) +\n",
        "      scale_fill_manual(values = c(\"gray50\", \"orangered2\")) +\n",
        "      geom_rug(aes(color = Survived), alpha = 0.5) +\n",
        "      scale_color_manual(values = c(\"gray50\", \"orangered2\")) +\n",
        "      theme_bw()\n",
        "p2 <- ggplot(data = datos, aes(x = Survived, y = log(Fare), color = Survived)) +\n",
        "      geom_boxplot(outlier.shape = NA) +\n",
        "      geom_jitter(alpha = 0.3, width = 0.15) +\n",
        "      scale_color_manual(values = c(\"gray50\", \"orangered2\")) +\n",
        "      theme_bw()\n",
        "final_plot <- ggarrange(p1, p2, legend = \"top\")\n",
        "final_plot <- annotate_figure(final_plot, top = text_grob(\"Log(Fare)\", size =15))\n",
        "final_plot"
      ],
      "metadata": {
        "id": "9BlruUhG-l0M"
      },
      "execution_count": null,
      "outputs": []
    },
    {
      "cell_type": "markdown",
      "source": [
        "## Distribución de variables cualitativas"
      ],
      "metadata": {
        "id": "97yfgBmL-rMG"
      }
    },
    {
      "cell_type": "code",
      "source": [
        "ggplot(data = datos, aes(x = Pclass, y = ..count.., fill = Survived)) +\n",
        "  geom_bar() +\n",
        "  scale_fill_manual(values = c(\"gray50\", \"orangered2\")) +\n",
        "  labs(title = \"Pclass\") +\n",
        "  theme_bw() +\n",
        "  theme(legend.position = \"bottom\")"
      ],
      "metadata": {
        "id": "qyhWk2nS-pTI"
      },
      "execution_count": null,
      "outputs": []
    },
    {
      "cell_type": "code",
      "source": [
        "# Tabla de frecuencias relativas de supervivientes por clase\n",
        "prop.table(table(datos$Pclass, datos$Survived), margin = 1) %>% round(digits = 2)"
      ],
      "metadata": {
        "id": "nyFfoLIU-0vK"
      },
      "execution_count": null,
      "outputs": []
    },
    {
      "cell_type": "code",
      "source": [
        "ggplot(data = datos, aes(x = Sex, y = ..count.., fill = Survived)) +\n",
        "  geom_bar() +\n",
        "  labs(title = \"Sex\") +\n",
        "  scale_fill_manual(values = c(\"gray50\", \"orangered2\")) +\n",
        "  theme_bw() +\n",
        "  theme(legend.position = \"bottom\")"
      ],
      "metadata": {
        "id": "8yUFdwYh-4w2"
      },
      "execution_count": null,
      "outputs": []
    },
    {
      "cell_type": "code",
      "source": [
        "# Tabla de frecuencias relativas de supervivientes por sexo\n",
        "prop.table(table(datos$Sex, datos$Survived), margin = 1) %>% round(digits = 2)"
      ],
      "metadata": {
        "id": "cV3p1jAX-7D2"
      },
      "execution_count": null,
      "outputs": []
    },
    {
      "cell_type": "code",
      "source": [
        "ggplot(data = datos, aes(x = SibSp, y = ..count.., fill = Survived)) +\n",
        "  geom_bar() +\n",
        "  scale_fill_manual(values = c(\"gray50\", \"orangered2\")) +\n",
        "  labs(title = \"SibSp\") +\n",
        "  theme_bw() +\n",
        "  theme(legend.position = \"bottom\")"
      ],
      "metadata": {
        "id": "8Cl98FyV-9CV"
      },
      "execution_count": null,
      "outputs": []
    },
    {
      "cell_type": "code",
      "source": [
        "# Tabla de frecuencias relativas de supervivientes por número de familiares\n",
        "prop.table(table(datos$SibSp, datos$Survived), margin = 1) %>% round(digits = 2)"
      ],
      "metadata": {
        "id": "RjSmkExY-_1t"
      },
      "execution_count": null,
      "outputs": []
    },
    {
      "cell_type": "code",
      "source": [
        "ggplot(data = datos, aes(x = Parch, y = ..count.., fill = Survived)) +\n",
        "  geom_bar() +\n",
        "  scale_fill_manual(values = c(\"gray50\", \"orangered2\")) +\n",
        "  labs(title = \"Parch\") +\n",
        "  theme_bw() +\n",
        "  theme(legend.position = \"bottom\")"
      ],
      "metadata": {
        "id": "e3h1bFMo_B5k"
      },
      "execution_count": null,
      "outputs": []
    },
    {
      "cell_type": "code",
      "source": [
        "# Tabla de frecuencias relativas de supervivientes por Parch\n",
        "prop.table(table(datos$Parch, datos$Survived), margin = 1) %>% round(digits = 2)"
      ],
      "metadata": {
        "id": "nSJzzA62_C4C"
      },
      "execution_count": null,
      "outputs": []
    },
    {
      "cell_type": "code",
      "source": [
        "# Para pasar de factor a numeric primero se convierte a character\n",
        "datos$SibSp <- as.character(datos$SibSp)\n",
        "datos$SibSp <- as.numeric(datos$SibSp)\n",
        "datos$Parch <- as.character(datos$Parch)\n",
        "datos$Parch <- as.numeric(datos$Parch)"
      ],
      "metadata": {
        "id": "NY7barhj_G4V"
      },
      "execution_count": null,
      "outputs": []
    },
    {
      "cell_type": "code",
      "source": [
        "ggplot(data = datos, aes(x = Embarked, y = ..count.., fill = Survived)) +\n",
        "  geom_bar() +\n",
        "  scale_fill_manual(values = c(\"gray50\", \"orangered2\")) +\n",
        "  labs(title = \"Embarked\") +\n",
        "  theme_bw() +\n",
        "  theme(legend.position = \"bottom\")"
      ],
      "metadata": {
        "id": "Uh562TYp_LjW"
      },
      "execution_count": null,
      "outputs": []
    },
    {
      "cell_type": "code",
      "source": [
        "# Tabla de frecuencias relativas de supervivientes por puerto de embarque\n",
        "prop.table(table(datos$Embarked, datos$Survived), margin = 1) %>% round(digits = 2)"
      ],
      "metadata": {
        "id": "f85gKJVg_PNS"
      },
      "execution_count": null,
      "outputs": []
    },
    {
      "cell_type": "code",
      "source": [
        "ggplot(data = datos, aes(x = Age_grupo, y = ..count.., fill = Survived)) +\n",
        "  geom_bar() +\n",
        "  scale_fill_manual(values = c(\"gray50\", \"orangered2\")) +\n",
        "  labs(title = \"Age_grupo\") +\n",
        "  theme_bw() +\n",
        "  theme(legend.position = \"bottom\")"
      ],
      "metadata": {
        "id": "Xx2sT0pL_Q3R"
      },
      "execution_count": null,
      "outputs": []
    },
    {
      "cell_type": "code",
      "source": [
        "# Tabla de frecuencias relativas de supervivientes por grupo de edad\n",
        "prop.table(table(datos$Age_grupo, datos$Survived), margin = 1) %>% round(digits = 2)"
      ],
      "metadata": {
        "id": "pW45LAHD_R2Y"
      },
      "execution_count": null,
      "outputs": []
    },
    {
      "cell_type": "markdown",
      "source": [
        "## Importancia de las variables"
      ],
      "metadata": {
        "id": "ELl5XzzV_Vqx"
      }
    },
    {
      "cell_type": "markdown",
      "source": [
        "### Correlación entre variables continuas"
      ],
      "metadata": {
        "id": "C9fS_c5H_nOJ"
      }
    },
    {
      "cell_type": "code",
      "source": [
        "cor.test(x = datos$Age, y = datos$Fare, method = \"pearson\")"
      ],
      "metadata": {
        "id": "e50tCfOZ_Zpk"
      },
      "execution_count": null,
      "outputs": []
    },
    {
      "cell_type": "code",
      "source": [
        "ggplot(data = datos, aes(x = Age, y = log(Fare))) +\n",
        "  geom_point(color = \"gray30\") +\n",
        "  geom_smooth(color = \"firebrick\") +\n",
        "  theme_bw()"
      ],
      "metadata": {
        "id": "dzQmyjh6_yne"
      },
      "execution_count": null,
      "outputs": []
    },
    {
      "cell_type": "markdown",
      "source": [
        "\n",
        "### Contraste de proporciones"
      ],
      "metadata": {
        "id": "j88ddCP0_09I"
      }
    },
    {
      "cell_type": "code",
      "source": [
        "ggplot(data = datos, aes(x = Age_grupo, y = ..count.., fill = Survived)) +\n",
        "  geom_bar() +\n",
        "  scale_fill_manual(values = c(\"gray50\", \"orangered2\")) +\n",
        "  labs(title = \"Age_grupo\") +\n",
        "  theme_bw() +\n",
        "  theme(legend.position = \"bottom\")"
      ],
      "metadata": {
        "id": "P7UOH_pY_0Cc"
      },
      "execution_count": null,
      "outputs": []
    },
    {
      "cell_type": "code",
      "source": [
        "# Se excluyen las variables continuas y las cualitativas que no agrupan a los\n",
        "# pasajeros. También la variable Cabin por su alto % de valores NA.\n",
        "datos_cualitativos <- datos %>%\n",
        "                      select(-Age, -Fare, -Name, -Ticket, -Cabin, -PassengerId)\n",
        "\n",
        "datos_cualitativos_tidy <- datos_cualitativos %>%\n",
        "                           gather(key = \"variable\", value = \"grupo\",-Survived)\n",
        "\n",
        "# Se eliminan los valores NA para que no se interpreten como un grupo\n",
        "datos_cualitativos_tidy <- datos_cualitativos_tidy %>% filter(!is.na(grupo))\n",
        "\n",
        "# Se añade un identificador formado por el nombre de la variable y el grupo\n",
        "datos_cualitativos_tidy <- datos_cualitativos_tidy %>%\n",
        "                           mutate(variable_grupo = paste(variable, grupo, sep = \"_\"))"
      ],
      "metadata": {
        "id": "mdn8ly-3APYO"
      },
      "execution_count": null,
      "outputs": []
    },
    {
      "cell_type": "code",
      "source": [
        "# Función que calcula el test de proporciones para la columna \"Survived\" de un df\n",
        "test_proporcion <- function(df){\n",
        "  n_supervivientes <- sum(df$Survived == \"Si\")\n",
        "  n_fallecidos     <- sum(df$Survived == \"No\")\n",
        "  n_total <- n_supervivientes + n_fallecidos\n",
        "  test <- prop.test(x = n_supervivientes, n = n_total, p = 0.3838)\n",
        "  prop_supervivientes <- n_supervivientes / n_total\n",
        "  return(data.frame(p_value = test$p.value, prop_supervivientes))\n",
        "}\n",
        "\n",
        "# Se agrupan los datos por \"variable_grupo\" y se aplica a cada grupo la función\n",
        "# test_proporcion()\n",
        "analisis_prop <- datos_cualitativos_tidy %>%\n",
        "                 group_by(variable_grupo) %>%\n",
        "                 nest() %>%\n",
        "                 arrange(variable_grupo) %>%\n",
        "                 mutate(prop_test = map(.x = data, .f = test_proporcion)) %>%\n",
        "                 unnest(prop_test) %>%\n",
        "                 arrange(p_value) %>%\n",
        "                 select(variable_grupo,p_value, prop_supervivientes)\n",
        "analisis_prop"
      ],
      "metadata": {
        "id": "s2o8N3ljAQg8"
      },
      "execution_count": null,
      "outputs": []
    },
    {
      "cell_type": "code",
      "source": [
        "# Representación gráfica de la distribución de los 6 grupos con menor p-value\n",
        "top6_grupos <- analisis_prop %>% pull(variable_grupo) %>% head(6)\n",
        "\n",
        "# Se crea una función que, dados un dataframe y el nombre de un grupo, genere la\n",
        "# representación gráfica de supervivientes y no supervivientes.\n",
        "plot_grupo <- function(grupo, df, threshold_line = 0.3838){\n",
        "\n",
        "  p <- ggplot(data = df, aes(x = 1, y = ..count.., fill = Survived)) +\n",
        "            geom_bar() +\n",
        "            scale_fill_manual(values = c(\"gray50\", \"orangered2\")) +\n",
        "            # Se añade una línea horizontal en el nivel basal\n",
        "            geom_hline(yintercept = nrow(df) * threshold_line,\n",
        "                       linetype = \"dashed\") +\n",
        "            labs(title = grupo) +\n",
        "            theme_bw() +\n",
        "            theme(legend.position = \"bottom\",\n",
        "                  axis.text.x = element_blank(),\n",
        "                  axis.title.x = element_blank(),\n",
        "                  axis.ticks.x = element_blank())\n",
        "  return(p)\n",
        "}\n",
        "\n",
        "datos_graficos <- datos_cualitativos_tidy %>%\n",
        "                  filter(variable_grupo %in% top6_grupos) %>%\n",
        "                  group_by(variable_grupo) %>%\n",
        "                  nest() %>%\n",
        "                  arrange(variable_grupo)\n",
        "\n",
        "plots <- map2(datos_graficos$variable_grupo, .y = datos_graficos$data,\n",
        "              .f = plot_grupo)\n",
        "\n",
        "ggarrange(plotlist = plots, common.legend = TRUE)"
      ],
      "metadata": {
        "id": "arGBfpJRATvO"
      },
      "execution_count": null,
      "outputs": []
    },
    {
      "cell_type": "markdown",
      "source": [
        "\n",
        "\n",
        "### Random forest"
      ],
      "metadata": {
        "id": "W1Wh_BAwAYg3"
      }
    },
    {
      "cell_type": "code",
      "source": [
        "library(randomForest)\n",
        "datos_rf <- datos %>%\n",
        "            select(-PassengerId, -Name, -Ticket, -Cabin, -Age, -Age_grupo) %>%\n",
        "            na.omit()\n",
        "datos_rf <- map_if(.x = datos_rf, .p = is.character, .f = as.factor) %>%\n",
        "            as.data.frame()\n",
        "modelo_randforest <- randomForest(formula = Survived ~ . ,\n",
        "                                  data = na.omit(datos_rf),\n",
        "                                  mtry = 5,\n",
        "                                  importance = TRUE,\n",
        "                                  ntree = 1000)\n",
        "importancia <- as.data.frame(modelo_randforest$importance)\n",
        "importancia <- rownames_to_column(importancia,var = \"variable\")\n",
        "\n",
        "p1 <- ggplot(data = importancia, aes(x = reorder(variable, MeanDecreaseAccuracy),\n",
        "                               y = MeanDecreaseAccuracy,\n",
        "                               fill = MeanDecreaseAccuracy)) +\n",
        "      labs(x = \"variable\", title = \"Reducción de Accuracy\") +\n",
        "      geom_col() +\n",
        "      coord_flip() +\n",
        "      theme_bw() +\n",
        "      theme(legend.position = \"bottom\")\n",
        "\n",
        "p2 <- ggplot(data = importancia, aes(x = reorder(variable, MeanDecreaseGini),\n",
        "                               y = MeanDecreaseGini,\n",
        "                               fill = MeanDecreaseGini)) +\n",
        "      labs(x = \"variable\", title = \"Reducción de pureza (Gini)\") +\n",
        "      geom_col() +\n",
        "      coord_flip() +\n",
        "      theme_bw() +\n",
        "      theme(legend.position = \"bottom\")\n",
        "ggarrange(p1, p2)"
      ],
      "metadata": {
        "id": "sx2BdRN9AWs4"
      },
      "execution_count": null,
      "outputs": []
    },
    {
      "cell_type": "markdown",
      "source": [
        "# División de los datos en entrenamiento y test"
      ],
      "metadata": {
        "id": "Wm3iwUShc0lO"
      }
    },
    {
      "cell_type": "code",
      "source": [
        "set.seed(123)\n",
        "# Se crean los índices de las observaciones de entrenamiento\n",
        "train <- createDataPartition(y = datos$Survived, p = 0.8, list = FALSE, times = 1)\n",
        "datos_train <- datos[train, ]\n",
        "datos_test  <- datos[-train, ]"
      ],
      "metadata": {
        "id": "buffGjYVd-Ak"
      },
      "execution_count": null,
      "outputs": []
    },
    {
      "cell_type": "code",
      "source": [
        "prop.table(table(datos_train$Survived))"
      ],
      "metadata": {
        "id": "685rFXVgeClf"
      },
      "execution_count": null,
      "outputs": []
    },
    {
      "cell_type": "code",
      "source": [
        "prop.table(table(datos_test$Survived))"
      ],
      "metadata": {
        "id": "amm8EuDie1Yq"
      },
      "execution_count": null,
      "outputs": []
    },
    {
      "cell_type": "markdown",
      "source": [
        "# Preprocesado de los datos\n"
      ],
      "metadata": {
        "id": "sr5bzz8hffma"
      }
    },
    {
      "cell_type": "markdown",
      "source": [
        "## Imputación de valores ausentes\n"
      ],
      "metadata": {
        "id": "bSMbvHKMgJy2"
      }
    },
    {
      "cell_type": "code",
      "source": [
        "nrow(datos)"
      ],
      "metadata": {
        "id": "LfltwKlYe9-j"
      },
      "execution_count": null,
      "outputs": []
    },
    {
      "cell_type": "code",
      "source": [
        "nrow(na.omit(datos))"
      ],
      "metadata": {
        "id": "35pmB2SYgVFm"
      },
      "execution_count": null,
      "outputs": []
    },
    {
      "cell_type": "code",
      "source": [
        "datos_train <- datos_train %>%\n",
        "               mutate(Embarked = replace(Embarked, is.na(Embarked), \"C\"))\n",
        "datos_test <-  datos_test %>%\n",
        "               mutate(Embarked = replace(Embarked, is.na(Embarked), \"C\"))"
      ],
      "metadata": {
        "id": "kQeeAloYgYwQ"
      },
      "execution_count": null,
      "outputs": []
    },
    {
      "cell_type": "code",
      "source": [
        "library(recipes)\n",
        "# Se crea un objeto recipe() con la variable respuesta y los predictores.\n",
        "# Las variables *PassengerId*, *Name*, *Ticket* no parecen aportar información\n",
        "# relevante sobre la supervivencia de los pasajeros. Excluyendo todas estas\n",
        "# variables, se propone como modelo inicial el formado por los predictores:\n",
        "#  Pclass + Sex + SibSp + Parch + Fare + Embarked + Age_grupo.\n",
        "\n",
        "objeto_recipe <- recipe(formula = Survived ~ Pclass + Sex + SibSp + Parch +\n",
        "                                  Fare + Embarked + Age_grupo,\n",
        "                        data =  datos_train)\n",
        "objeto_recipe"
      ],
      "metadata": {
        "id": "DBhqWZVMgatQ"
      },
      "execution_count": null,
      "outputs": []
    },
    {
      "cell_type": "code",
      "source": [
        "objeto_recipe <- objeto_recipe %>% step_bagimpute(Age_grupo)\n",
        "objeto_recipe"
      ],
      "metadata": {
        "id": "pYLNUpaygcmM"
      },
      "execution_count": null,
      "outputs": []
    },
    {
      "cell_type": "markdown",
      "source": [
        "## Variables con varianza próxima a cero"
      ],
      "metadata": {
        "id": "4bW_WX3gge2g"
      }
    },
    {
      "cell_type": "code",
      "source": [
        "datos %>% select(Pclass, Sex, SibSp, Parch, Fare, Embarked, Age_grupo) %>%\n",
        "          nearZeroVar(saveMetrics = TRUE)"
      ],
      "metadata": {
        "id": "FcD5TERUgge3"
      },
      "execution_count": null,
      "outputs": []
    },
    {
      "cell_type": "code",
      "source": [
        "objeto_recipe <- objeto_recipe %>% step_nzv(all_predictors())"
      ],
      "metadata": {
        "id": "Rqxl2YxKhIPc"
      },
      "execution_count": null,
      "outputs": []
    },
    {
      "cell_type": "markdown",
      "source": [
        "## Estandarización y escalado"
      ],
      "metadata": {
        "id": "FWY0k9-WhKHj"
      }
    },
    {
      "cell_type": "code",
      "source": [
        "objeto_recipe <- objeto_recipe %>% step_center(all_numeric())\n",
        "objeto_recipe <- objeto_recipe %>% step_scale(all_numeric())"
      ],
      "metadata": {
        "id": "WFPXkFvZhMHs"
      },
      "execution_count": null,
      "outputs": []
    },
    {
      "cell_type": "markdown",
      "source": [
        "## Binarización de variables cualitativas"
      ],
      "metadata": {
        "id": "8sLmO_xQhczt"
      }
    },
    {
      "cell_type": "code",
      "source": [
        "objeto_recipe <- objeto_recipe %>% step_dummy(all_nominal(), -all_outcomes())"
      ],
      "metadata": {
        "id": "vEAWxZ7HhbmQ"
      },
      "execution_count": null,
      "outputs": []
    },
    {
      "cell_type": "code",
      "source": [
        "# Se entrena el objeto recipe\n",
        "trained_recipe <- prep(objeto_recipe, training = datos_train)\n",
        "trained_recipe"
      ],
      "metadata": {
        "id": "y1QtKe0WhkEw"
      },
      "execution_count": null,
      "outputs": []
    },
    {
      "cell_type": "code",
      "source": [
        "# Se aplican las transformaciones al conjunto de entrenamiento y de test\n",
        "datos_train_prep <- bake(trained_recipe, new_data = datos_train)\n",
        "datos_test_prep  <- bake(trained_recipe, new_data = datos_test)\n",
        "\n",
        "glimpse(datos_train_prep)"
      ],
      "metadata": {
        "id": "Q9KQ3JNaiGVl"
      },
      "execution_count": null,
      "outputs": []
    },
    {
      "cell_type": "markdown",
      "source": [
        "## Selección de predictores"
      ],
      "metadata": {
        "id": "Va4fOe5LiMkf"
      }
    },
    {
      "cell_type": "markdown",
      "source": [
        "### Métodos wrapper"
      ],
      "metadata": {
        "id": "riuhevGliRld"
      }
    },
    {
      "cell_type": "markdown",
      "source": [
        "#### Eliminación recursiva de variables"
      ],
      "metadata": {
        "id": "nr2XhT4Di9r3"
      }
    },
    {
      "cell_type": "code",
      "source": [
        "# ELIMINACIÓN RECURSIVA MEDIANTE RANDOM FOREST Y BOOTSTRAPPING\n",
        "# =============================================================================\n",
        "\n",
        "# Se paraleliza el proceso para que sea más rápido. El número de cores debe\n",
        "# seleccionarse en función del ordenador que se está empleando.\n",
        "library(doMC)\n",
        "registerDoMC(cores = 4)\n",
        "\n",
        "# Tamaño de los conjuntos de predictores analizados\n",
        "subsets <- c(3:11)\n",
        "\n",
        "# Número de resamples para el proceso de bootstrapping\n",
        "repeticiones <- 30\n",
        "\n",
        "# Se crea una semilla para cada repetición de validación. Esto solo es necesario si\n",
        "# se quiere asegurar la reproducibilidad de los resultados, ya que la validación\n",
        "# cruzada y el bootstrapping implican selección aleatoria.\n",
        "\n",
        "# El número de semillas necesarias depende del número total de repeticiones:\n",
        "# Se necesitan B+1 elementos donde B es el número total de particiones (CV) o\n",
        "# resampling (bootstrapping). Los primeros B elementos deben ser vectores formados\n",
        "# por M números enteros, donde M es el número de modelos ajustados, que en este caso\n",
        "# se corresponde con el número de tamaños. El último elemento solo necesita un único\n",
        "# número para ajustar el modelo final.\n",
        "set.seed(123)\n",
        "seeds <- vector(mode = \"list\", length = repeticiones + 1)\n",
        "for (i in 1:repeticiones) {\n",
        "  seeds[[i]] <- sample.int(1000, length(subsets))\n",
        "}\n",
        "seeds[[repeticiones + 1]] <- sample.int(1000, 1)\n",
        "\n",
        "# Se crea un control de entrenamiento donde se define el tipo de modelo empleado\n",
        "# para la selección de variables, en este caso random forest, la estrategia de\n",
        "# resampling, en este caso bootstrapping con 30 repeticiones, y las semillas para\n",
        "# cada repetición. Con el argumento returnResamp = \"all\" se especifica que se\n",
        "# almacene la información de todos los modelos generados en todas las repeticiones.\n",
        "ctrl_rfe <- rfeControl(functions = rfFuncs, method = \"boot\", number = repeticiones,\n",
        "                       returnResamp = \"all\", allowParallel = TRUE, verbose = FALSE,\n",
        "                       seeds = seeds)\n",
        "\n",
        "# Se ejecuta la eliminación recursiva de predictores\n",
        "set.seed(342)\n",
        "rf_rfe <- rfe(Survived ~ ., data = datos_train_prep,\n",
        "              sizes = subsets,\n",
        "              metric = \"Accuracy\",\n",
        "              # El accuracy es la proporción de clasificaciones correctas\n",
        "              rfeControl = ctrl_rfe,\n",
        "              ntree = 500)\n",
        "# Dentro de rfe() se pueden especificar argumentos para el modelo empleado, por\n",
        "# ejemplo, el hiperparámetro ntree=500."
      ],
      "metadata": {
        "id": "BRLB36m8irlm"
      },
      "execution_count": null,
      "outputs": []
    },
    {
      "cell_type": "code",
      "source": [
        "# Se muestra una tabla resumen con los resultados\n",
        "rf_rfe"
      ],
      "metadata": {
        "id": "88lb_RfUjwaB"
      },
      "execution_count": null,
      "outputs": []
    },
    {
      "cell_type": "code",
      "source": [
        "# El objeto rf_rfe almacena en optVariables las variables del mejor modelo.\n",
        "rf_rfe$optVariables"
      ],
      "metadata": {
        "id": "aftiKUd9j0TD"
      },
      "execution_count": null,
      "outputs": []
    },
    {
      "cell_type": "code",
      "source": [
        "# Valores de accuracy y kappa para cada tamaño de modelo en cada resample.\n",
        "rf_rfe$resample %>% select(1, 2, 3, 8) %>% head(8)"
      ],
      "metadata": {
        "id": "YDDd3LDlj4pI"
      },
      "execution_count": null,
      "outputs": []
    },
    {
      "cell_type": "code",
      "source": [
        "# Métricas promedio de cada tamaño\n",
        "rf_rfe$resample %>% group_by(Variables) %>%\n",
        "                    summarise(media_accuracy = mean(Accuracy),\n",
        "                              media_kappa = mean(Kappa)) %>%\n",
        "                    arrange(desc(media_accuracy))\n"
      ],
      "metadata": {
        "id": "eZaSqiPvj_Dg"
      },
      "execution_count": null,
      "outputs": []
    },
    {
      "cell_type": "code",
      "source": [
        "ggplot(data = rf_rfe$results, aes(x = Variables, y = Accuracy)) +\n",
        "  geom_line() +\n",
        "  scale_x_continuous(breaks  = unique(rf_rfe$results$Variables)) +\n",
        "  geom_point() +\n",
        "  geom_errorbar(aes(ymin = Accuracy - AccuracySD, ymax = Accuracy + AccuracySD),\n",
        "                width = 0.2) +\n",
        "  geom_point(data = rf_rfe$results %>% slice(which.max(Accuracy)),\n",
        "             color = \"red\") +\n",
        "  theme_bw()"
      ],
      "metadata": {
        "id": "1te5RPbOkBuH"
      },
      "execution_count": null,
      "outputs": []
    },
    {
      "cell_type": "code",
      "source": [
        "head(rf_rfe$variables, 10)"
      ],
      "metadata": {
        "id": "vMu3Uno3kLCd"
      },
      "execution_count": null,
      "outputs": []
    },
    {
      "cell_type": "code",
      "source": [
        "rf_rfe$variables %>% filter(Variables == 10) %>% group_by(var) %>%\n",
        "                     summarise(media_influencia = mean(Overall),\n",
        "                               sd_influencia = sd(Overall)) %>%\n",
        "                     arrange(desc(media_influencia))"
      ],
      "metadata": {
        "id": "rMR3oEyhkORU"
      },
      "execution_count": null,
      "outputs": []
    },
    {
      "cell_type": "markdown",
      "source": [
        "#### Algoritmo genético"
      ],
      "metadata": {
        "id": "o0BXcy1qm80R"
      }
    },
    {
      "cell_type": "code",
      "source": [
        "# Paralelización\n",
        "# =============================================================================\n",
        "library(doMC)\n",
        "registerDoMC(cores = 4)\n",
        "\n",
        "# Control de entrenamiento\n",
        "# =============================================================================\n",
        "ga_ctrl <- gafsControl(functions = rfGA,\n",
        "                       method = \"cv\",\n",
        "                       number = 5,\n",
        "                       allowParallel = TRUE,\n",
        "                       genParallel = TRUE,\n",
        "                       verbose = FALSE)\n",
        "\n",
        "# Selección de predictores\n",
        "# =============================================================================\n",
        "set.seed(10)\n",
        "rf_ga <- gafs(x = datos_train_prep %>% select(-Survived),\n",
        "              y = datos_train_prep$Survived,\n",
        "              iters = 10,\n",
        "              popSize = 10,\n",
        "              gafsControl = ga_ctrl,\n",
        "              ntree = 100)"
      ],
      "metadata": {
        "id": "3gRoyiVvnMdp"
      },
      "execution_count": null,
      "outputs": []
    },
    {
      "cell_type": "code",
      "source": [
        "rf_ga"
      ],
      "metadata": {
        "id": "ssd4D2r6nRO8"
      },
      "execution_count": null,
      "outputs": []
    },
    {
      "cell_type": "code",
      "source": [
        "rf_ga$optVariables"
      ],
      "metadata": {
        "id": "-I0hdKPJnbXC"
      },
      "execution_count": null,
      "outputs": []
    },
    {
      "cell_type": "code",
      "source": [
        "# Accuracy media en cada generación\n",
        "rf_ga$external %>% group_by(Iter) %>% summarize(accuracy_media = mean(Accuracy))"
      ],
      "metadata": {
        "id": "NTPp1BkoneGC"
      },
      "execution_count": null,
      "outputs": []
    },
    {
      "cell_type": "code",
      "source": [
        "crear_poblacion <- function(popSize, n_variables, n_max){\n",
        "  # Esta función crea una matriz binaria en la que el número de 1s por\n",
        "  # fila no supera un valor máximo.\n",
        "  # Argumentos:\n",
        "  #   popSize:     número total de individuos (número de filas de la matriz).\n",
        "  #   n_variables: longitud de los individuos (número de columnas de la matriz).\n",
        "  #   n_max:       número máximo de 1 que puede contener un individuo.\n",
        "\n",
        "  # Matriz donde almacenar los individuos generados.\n",
        "  poblacion <- matrix(data = NA, nrow = popSize, ncol = n_variables)\n",
        "\n",
        "  # Bucle para crear cada individuo.\n",
        "  for(i in 1:popSize){\n",
        "    # Se selecciona con (igual probabilidad ) el número de valores = 1 que puede\n",
        "    # tener el individuo.\n",
        "    numero_1s <- sample(x = 1:n_max, size = 1)\n",
        "\n",
        "    # Se crea un vector con todo ceros que representa el individuo.\n",
        "    individuo <- rep(0, times = n_variables)\n",
        "\n",
        "    # Se sustituyen (numero_1s) posiciones aleatorias por unos.\n",
        "    individuo[sample(x = 1:n_variables, size = numero_1s)] <- 1\n",
        "\n",
        "    # Se añade el nuevo individuo a la población.\n",
        "    poblacion[i,] <- individuo\n",
        "  }\n",
        "    return(poblacion)\n",
        "}"
      ],
      "metadata": {
        "id": "6V6IY9M0nhuj"
      },
      "execution_count": null,
      "outputs": []
    },
    {
      "cell_type": "code",
      "source": [
        "poblacion_inicial <- crear_poblacion(popSize = 10,\n",
        "                                     n_variables = ncol(datos_train_prep) - 1 ,\n",
        "                                     n_max = 4)\n",
        "poblacion_inicial"
      ],
      "metadata": {
        "id": "KArexJiQnpU4"
      },
      "execution_count": null,
      "outputs": []
    },
    {
      "cell_type": "code",
      "source": [
        "set.seed(10)\n",
        "rf_ga <- gafs(x = datos_train_prep %>% select(-Survived),\n",
        "              y = datos_train_prep$Survived,\n",
        "              iters = 10,\n",
        "              popSize = 10,\n",
        "              suggestions = poblacion_inicial,\n",
        "              gafsControl = ga_ctrl,\n",
        "              ntree = 100)\n",
        "rf_ga"
      ],
      "metadata": {
        "id": "hIzpcngTnp2J"
      },
      "execution_count": null,
      "outputs": []
    },
    {
      "cell_type": "markdown",
      "source": [
        "### Métodos de filtrado"
      ],
      "metadata": {
        "id": "2q3fvRmroJvm"
      }
    },
    {
      "cell_type": "code",
      "source": [
        "# FILTRADO DE PREDICTORES MEDIANTE ANOVA, RANDOM FOREST Y CV-REPETIDA\n",
        "# =============================================================================\n",
        "\n",
        "# Se paraleliza para que sea más rápido\n",
        "library(doMC)\n",
        "registerDoMC(cores = 4)\n",
        "\n",
        "# Se crea una semilla para cada partición y cada repetición: el vector debe\n",
        "# tener B+1 semillas donde B = particiones * repeticiones.\n",
        "particiones = 10\n",
        "repeticiones = 5\n",
        "set.seed(123)\n",
        "seeds <- sample.int(1000, particiones * repeticiones + 1)\n",
        "\n",
        "# Control del filtrado\n",
        "ctrl_filtrado <- sbfControl(functions = rfSBF, method = \"repeatedcv\",\n",
        "                            number = particiones, repeats = repeticiones,\n",
        "                            seeds = seeds, verbose = FALSE,\n",
        "                            saveDetails = TRUE, allowParallel = TRUE)\n",
        "set.seed(234)\n",
        "rf_sbf <- sbf(Survived ~ ., data = datos_train_prep,\n",
        "              sbfControl = ctrl_filtrado,\n",
        "              # argumentos para el modelo de evaluación\n",
        "              ntree = 500)"
      ],
      "metadata": {
        "id": "S6hPkKhvogm3"
      },
      "execution_count": null,
      "outputs": []
    },
    {
      "cell_type": "code",
      "source": [
        "rf_sbf"
      ],
      "metadata": {
        "id": "b5nSpoxAon7L"
      },
      "execution_count": null,
      "outputs": []
    },
    {
      "cell_type": "code",
      "source": [
        "rf_sbf$optVariables"
      ],
      "metadata": {
        "id": "qwvltSatouMI"
      },
      "execution_count": null,
      "outputs": []
    },
    {
      "cell_type": "code",
      "source": [
        "predictores_filtrados <- rf_sbf$optVariables"
      ],
      "metadata": {
        "id": "far9aHzHoy-Y"
      },
      "execution_count": null,
      "outputs": []
    },
    {
      "cell_type": "markdown",
      "source": [
        "## Creación de un modelo predictivo"
      ],
      "metadata": {
        "id": "cEvf5fwHs-zJ"
      }
    },
    {
      "cell_type": "markdown",
      "source": [
        "### Entrenamiento del modelo"
      ],
      "metadata": {
        "id": "Izrw-tztRqdu"
      }
    },
    {
      "cell_type": "code",
      "source": [
        "# Predictores: Survived, SibSp, Parch, Fare, Pclass_X2, Pclass_X3, Sex_male, Embarked_Q,\n",
        "#              Embarked_S, Age_grupo_anciano, Age_grupo_niño\n",
        "modelo_svmlineal <- train(Survived ~ ., method = \"svmLinear\", data = datos_train_prep)"
      ],
      "metadata": {
        "id": "hCfeHvJQVEFk"
      },
      "execution_count": null,
      "outputs": []
    },
    {
      "cell_type": "code",
      "source": [
        "modelo_svmlineal$finalModel"
      ],
      "metadata": {
        "id": "VTTf9LxvVFwg"
      },
      "execution_count": null,
      "outputs": []
    },
    {
      "cell_type": "markdown",
      "source": [
        "### Evaluación del modelo mediante resampling"
      ],
      "metadata": {
        "id": "fhLAp_I0Rtts"
      }
    },
    {
      "cell_type": "code",
      "source": [
        "# PARALELIZACIÓN DE PROCESO\n",
        "#===============================================================================\n",
        "# Se paraleliza para que sea más rápido. El número de cores activados depende del\n",
        "# las características del ordenador donde se ejecute el código.\n",
        "library(doMC)\n",
        "registerDoMC(cores = 4)\n",
        "\n",
        "# NÚMERO DE REPETICIONES Y SEMILLAS PARA CADA REPETICIÓN\n",
        "#===============================================================================\n",
        "# Es este caso se recurre a validación cruzada repetida como método de validación.\n",
        "# Número de particiones y repeticiones\n",
        "particiones  <- 10\n",
        "repeticiones <- 5\n",
        "\n",
        "# Las semillas solo son necesarias si se quiere asegurar la reproducibilidad de\n",
        "# los resultados, ya que la validación cruzada y el bootstrapping implican selección\n",
        "# aleatoria. Las semillas se almacenan en una lista con B+1 elementos donde B depende\n",
        "# del método de validación empleado:\n",
        "#\n",
        "#   \"cv\": B es el número total de particiones\n",
        "#   \"repeatedcv\": B es el número de particiones por el número de repeticiones.\n",
        "#   \"boot\": B es el número de resamples.\n",
        "#   \"LOGOCV\":   B es el número de repeticiones.\n",
        "#\n",
        "# Los primeros B elementos deben ser vectores formados por M números enteros,\n",
        "# donde M es el número de modelos ajustados en cada partición o repetición,\n",
        "# es decir, el total de hiperparámetros comparados. El último elemento (B+1) solo\n",
        "# necesita un único número para ajustar el modelo final.\n",
        "\n",
        "set.seed(123)\n",
        "seeds <- vector(mode = \"list\", length = (particiones * repeticiones) + 1)\n",
        "for (i in 1:(particiones * repeticiones)) {\n",
        "  # Cada elemento de la lista, excepto el último tiene que tener tantas semillas\n",
        "  # como hiperparámetros analizados. En este caso, se emplea el valor por\n",
        "  # defecto C = 1, por lo que cada elemento de seeds está formada por un\n",
        "  # único valor.\n",
        "  seeds[[i]] <- sample.int(1000, 1)\n",
        "}\n",
        "# La última semilla se emplea para ajustar el modelo final con todas las observaciones.\n",
        "seeds[[(particiones * repeticiones) + 1]] <- sample.int(1000, 1)\n",
        "\n",
        "# DEFINICIÓN DEL ENTRENAMIENTO\n",
        "#===============================================================================\n",
        "control_train <- trainControl(method = \"repeatedcv\", number = particiones,\n",
        "                              repeats = repeticiones, seeds = seeds,\n",
        "                              returnResamp = \"all\", verboseIter = FALSE,\n",
        "                              allowParallel = TRUE)\n",
        "\n",
        "# AJUSTE DEL MODELO\n",
        "# ==============================================================================\n",
        "set.seed(342)\n",
        "modelo_svmlineal <- train(Survived ~ ., data = datos_train_prep,\n",
        "                          method = \"svmLinear\",\n",
        "                          metric = \"Accuracy\",\n",
        "                          trControl = control_train)\n",
        "modelo_svmlineal"
      ],
      "metadata": {
        "id": "RiMYOOUus-NJ"
      },
      "execution_count": null,
      "outputs": []
    },
    {
      "cell_type": "code",
      "source": [
        "# Valores de validación (Accuracy y Kappa) obtenidos en cada partición y repetición.\n",
        "modelo_svmlineal$resample %>% head(10)"
      ],
      "metadata": {
        "id": "ykViCFDDVLVt"
      },
      "execution_count": null,
      "outputs": []
    },
    {
      "cell_type": "code",
      "source": [
        "summary(modelo_svmlineal$resample$Accuracy)"
      ],
      "metadata": {
        "id": "KDhcdRjwVNJD"
      },
      "execution_count": null,
      "outputs": []
    },
    {
      "cell_type": "code",
      "source": [
        "p1 <- ggplot(data = modelo_svmlineal$resample, aes(x = Accuracy)) +\n",
        "      geom_density(alpha = 0.5, fill = \"gray50\") +\n",
        "      geom_vline(xintercept = mean(modelo_svmlineal$resample$Accuracy),\n",
        "                 linetype = \"dashed\") +\n",
        "      theme_bw()\n",
        "p2 <- ggplot(data = modelo_svmlineal$resample, aes(x = 1, y = Accuracy)) +\n",
        "      geom_boxplot(outlier.shape = NA, alpha = 0.5, fill = \"gray50\") +\n",
        "      geom_jitter(width = 0.05) +\n",
        "      labs(x = \"\") +\n",
        "      theme_bw() +\n",
        "      theme(axis.text.x = element_blank(), axis.ticks.x = element_blank())\n",
        "\n",
        "final_plot <- ggarrange(p1, p2)\n",
        "final_plot <- annotate_figure(\n",
        "                final_plot,\n",
        "                top = text_grob(\"Accuracy obtenido en la validación\", size = 15))\n",
        "final_plot"
      ],
      "metadata": {
        "id": "_Zp2heLe06mk"
      },
      "execution_count": null,
      "outputs": []
    },
    {
      "cell_type": "markdown",
      "source": [
        "### Optimización de hiperparámetros (parameter tuning)\n"
      ],
      "metadata": {
        "id": "o7B4IxuB19ZX"
      }
    },
    {
      "cell_type": "code",
      "source": [
        "# PARALELIZACIÓN DE PROCESO\n",
        "#===============================================================================\n",
        "library(doMC)\n",
        "registerDoMC(cores = 4)\n",
        "\n",
        "# HIPERPARÁMETROS, NÚMERO DE REPETICIONES Y SEMILLAS PARA CADA REPETICIÓN\n",
        "#===============================================================================\n",
        "particiones  <- 10\n",
        "repeticiones <- 5\n",
        "\n",
        "hiperparametros <- data.frame(C = c(0.001, 0.01, 0.1, 0.5, 1, 10))\n",
        "\n",
        "set.seed(123)\n",
        "seeds <- vector(mode = \"list\", length = (particiones * repeticiones) + 1)\n",
        "for (i in 1:(particiones * repeticiones)) {\n",
        "  seeds[[i]] <- sample.int(1000, nrow(hiperparametros))\n",
        "}\n",
        "seeds[[(particiones * repeticiones) + 1]] <- sample.int(1000, 1)\n",
        "\n",
        "# DEFINICIÓN DEL ENTRENAMIENTO\n",
        "#===============================================================================\n",
        "control_train <- trainControl(method = \"repeatedcv\", number = particiones,\n",
        "                              repeats = repeticiones, seeds = seeds,\n",
        "                              returnResamp = \"all\", verboseIter = FALSE,\n",
        "                              allowParallel = TRUE)\n",
        "\n",
        "# AJUSTE DEL MODELO\n",
        "# ==============================================================================\n",
        "set.seed(342)\n",
        "modelo_svmlineal <- train(Survived ~ ., data = datos_train_prep,\n",
        "                          method = \"svmLinear\",\n",
        "                          tuneGrid = hiperparametros,\n",
        "                          metric = \"Accuracy\",\n",
        "                          trControl = control_train)\n",
        "modelo_svmlineal"
      ],
      "metadata": {
        "id": "u35MpEpz2C7L"
      },
      "execution_count": null,
      "outputs": []
    },
    {
      "cell_type": "code",
      "source": [
        "modelo_svmlineal$resample %>% head()"
      ],
      "metadata": {
        "id": "ZjNN0rUP3NPm"
      },
      "execution_count": null,
      "outputs": []
    },
    {
      "cell_type": "code",
      "source": [
        "ggplot(data = modelo_svmlineal$resample,\n",
        "       aes(x = as.factor(C), y = Accuracy, color = as.factor(C))) +\n",
        "  geom_boxplot(outlier.shape = NA, alpha = 0.6) +\n",
        "  geom_jitter(width = 0.2, alpha = 0.6) +\n",
        "  # Línea horizontal en el accuracy basal\n",
        "  geom_hline(yintercept = 0.62, linetype = \"dashed\") +\n",
        "  labs(x = \"C\") +\n",
        "  theme_bw() + theme(legend.position = \"none\")"
      ],
      "metadata": {
        "id": "cUPFIgJn3PUR"
      },
      "execution_count": null,
      "outputs": []
    },
    {
      "cell_type": "code",
      "source": [
        "ggplot(modelo_svmlineal, highlight = TRUE) +\n",
        "  labs(title = \"Evolución del accuracy del modelo en función de C\") +\n",
        "  theme_bw()"
      ],
      "metadata": {
        "id": "jH7Q2FnW5kdl"
      },
      "execution_count": null,
      "outputs": []
    },
    {
      "cell_type": "markdown",
      "source": [
        "#### Búsqueda de hiperparámetros"
      ],
      "metadata": {
        "id": "2_sx7NxS6cOB"
      }
    },
    {
      "cell_type": "markdown",
      "source": [
        "*Random search*"
      ],
      "metadata": {
        "id": "B2ORZWR2hejG"
      }
    },
    {
      "cell_type": "code",
      "source": [
        "# PARALELIZACIÓN DE PROCESO\n",
        "#===============================================================================\n",
        "library(doMC)\n",
        "registerDoMC(cores = 4)\n",
        "\n",
        "# HIPERPARÁMETROS, NÚMERO DE REPETICIONES Y SEMILLAS PARA CADA REPETICIÓN\n",
        "#===============================================================================\n",
        "particiones  <- 10\n",
        "repeticiones <- 5\n",
        "\n",
        "# Hiperparámetros aleatorios\n",
        "set.seed(123)\n",
        "hiperparametros <- data.frame(C = runif(n = 5, min = 0.001, max = 20))\n",
        "\n",
        "set.seed(123)\n",
        "seeds <- vector(mode = \"list\", length = (particiones * repeticiones) + 1)\n",
        "for (i in 1:(particiones * repeticiones)) {\n",
        "  seeds[[i]] <- sample.int(1000, nrow(hiperparametros))\n",
        "}\n",
        "seeds[[(particiones * repeticiones) + 1]] <- sample.int(1000, 1)\n",
        "\n",
        "# DEFINICIÓN DEL ENTRENAMIENTO\n",
        "#===============================================================================\n",
        "control_train <- trainControl(method = \"repeatedcv\", number = particiones,\n",
        "                              repeats = repeticiones, seeds = seeds,\n",
        "                              returnResamp = \"all\", verboseIter = FALSE,\n",
        "                              allowParallel = TRUE)\n",
        "\n",
        "# AJUSTE DEL MODELO\n",
        "# ==============================================================================\n",
        "set.seed(342)\n",
        "modelo_svmlineal_random <- train(Survived ~ ., data = datos_train_prep,\n",
        "                               method = \"svmLinear\",\n",
        "                               tuneGrid = hiperparametros,\n",
        "                               metric = \"Accuracy\",\n",
        "                               trControl = control_train)"
      ],
      "metadata": {
        "id": "vmh327_6eUXt"
      },
      "execution_count": null,
      "outputs": []
    },
    {
      "cell_type": "code",
      "source": [
        "modelo_svmlineal_random"
      ],
      "metadata": {
        "id": "1FyhdHTkhBCj"
      },
      "execution_count": null,
      "outputs": []
    },
    {
      "cell_type": "markdown",
      "source": [
        "*Adaptive Resampling*\n",
        "\n"
      ],
      "metadata": {
        "id": "gENdSYqjiGkl"
      }
    },
    {
      "cell_type": "code",
      "source": [
        "# PARALELIZACIÓN DE PROCESO\n",
        "#===============================================================================\n",
        "library(doMC)\n",
        "registerDoMC(cores = 4)\n",
        "\n",
        "# HIPERPARÁMETROS, NÚMERO DE REPETICIONES Y SEMILLAS PARA CADA REPETICIÓN\n",
        "#===============================================================================\n",
        "particiones  <- 10\n",
        "repeticiones <- 5\n",
        "\n",
        "# Número de hiperparámetros aleatorios\n",
        "n_hiperparametros <- 10\n",
        "\n",
        "set.seed(123)\n",
        "seeds <- vector(mode = \"list\", length = (particiones * repeticiones) + 1)\n",
        "for (i in 1:(particiones * repeticiones)) {\n",
        "  seeds[[i]] <- sample.int(1000, n_hiperparametros)\n",
        "}\n",
        "seeds[[(particiones * repeticiones) + 1]] <- sample.int(1000, 1)\n",
        "\n",
        "# DEFINICIÓN DEL ENTRENAMIENTO\n",
        "#===============================================================================\n",
        "control_train <- trainControl(method = \"adaptive_cv\", number = particiones,\n",
        "                              repeats = repeticiones,\n",
        "                              adaptive = list(min = 5, alpha = 0.05,\n",
        "                                             method = \"gls\", complete = TRUE),\n",
        "                              returnResamp = \"all\", verboseIter = FALSE,\n",
        "                              allowParallel = TRUE, search = \"random\")\n",
        "\n",
        "# AJUSTE DEL MODELO\n",
        "# ==============================================================================\n",
        "set.seed(342)\n",
        "modelo_svmlineal_adaptative <- train(Survived ~ ., data = datos_train_prep,\n",
        "                                 method = \"svmLinear\", trControl = control_train,\n",
        "                                 tuneLength = 5)"
      ],
      "metadata": {
        "id": "fFJ8KaF1hDIA"
      },
      "execution_count": null,
      "outputs": []
    },
    {
      "cell_type": "code",
      "source": [
        "modelo_svmlineal_adaptative"
      ],
      "metadata": {
        "id": "tW4Ton7eiQEX"
      },
      "execution_count": null,
      "outputs": []
    },
    {
      "cell_type": "markdown",
      "source": [
        "### Predicción"
      ],
      "metadata": {
        "id": "iH_nkBikihRg"
      }
    },
    {
      "cell_type": "code",
      "source": [
        "predicciones_raw <- predict(modelo_svmlineal, newdata = datos_test_prep,\n",
        "                            type = \"raw\")\n",
        "predicciones_raw"
      ],
      "metadata": {
        "id": "SKEWX24Mi5RB"
      },
      "execution_count": null,
      "outputs": []
    },
    {
      "cell_type": "code",
      "source": [
        "# El algoritmo svmLinear no calcula de forma nativa probabilidades, para obtenerlas\n",
        "# se reajusta el modelo indicando `classProbs = TRUE`.\n",
        "particiones  <- 10\n",
        "repeticiones <- 5\n",
        "hiperparametros <- expand.grid(C = c(1))\n",
        "\n",
        "set.seed(123)\n",
        "seeds <- vector(mode = \"list\", length = (particiones * repeticiones) + 1)\n",
        "for (i in 1:(particiones * repeticiones)) {\n",
        "  seeds[[i]] <- sample.int(1000, nrow(hiperparametros))\n",
        "}\n",
        "seeds[[(particiones * repeticiones) + 1]] <- sample.int(1000, 1)\n",
        "\n",
        "control_train <- trainControl(method = \"repeatedcv\", number = particiones,\n",
        "                              repeats = repeticiones, seeds = seeds,\n",
        "                              returnResamp = \"all\", verboseIter = FALSE,\n",
        "                              classProbs = TRUE, allowParallel = TRUE)\n",
        "\n",
        "set.seed(342)\n",
        "modelo_svmlineal <- train(Survived ~ ., data = datos_train_prep,\n",
        "                          method = \"svmLinear\",\n",
        "                          tuneGrid = hiperparametros,\n",
        "                          metric = \"Accuracy\",\n",
        "                          trControl = control_train)\n",
        "\n",
        "predicciones_prob <- predict(modelo_svmlineal, newdata = datos_test_prep,\n",
        "                             type = \"prob\")\n",
        "predicciones_prob %>% head()"
      ],
      "metadata": {
        "id": "x14Ze_qQi60T"
      },
      "execution_count": null,
      "outputs": []
    },
    {
      "cell_type": "code",
      "source": [
        "predicciones <- extractPrediction(\n",
        "                  models = list(svm = modelo_svmlineal),\n",
        "                  testX = datos_test_prep %>% select(-Survived),\n",
        "                  testY = datos_test_prep$Survived\n",
        "                  )\n",
        "predicciones %>% head()"
      ],
      "metadata": {
        "id": "2TjoQ2e5i-ON"
      },
      "execution_count": null,
      "outputs": []
    },
    {
      "cell_type": "markdown",
      "source": [
        "### Error de test"
      ],
      "metadata": {
        "id": "JPZ6eahRjDDs"
      }
    },
    {
      "cell_type": "code",
      "source": [
        "confusionMatrix(data = predicciones_raw, reference = datos_test_prep$Survived,\n",
        "                positive = \"Si\")"
      ],
      "metadata": {
        "id": "kuCZwQDLjLzS"
      },
      "execution_count": null,
      "outputs": []
    },
    {
      "cell_type": "code",
      "source": [
        "# Error de test\n",
        "error_test <- mean(predicciones_raw != datos_test_prep$Survived)\n",
        "paste(\"El error de test del modelo:\", round(error_test*100, 2), \"%\")"
      ],
      "metadata": {
        "id": "FgLqgfl0jvqA"
      },
      "execution_count": null,
      "outputs": []
    },
    {
      "cell_type": "markdown",
      "source": [
        "## Modelos"
      ],
      "metadata": {
        "id": "_FF4BG7qnJiq"
      }
    },
    {
      "cell_type": "markdown",
      "source": [
        "### K-Nearest Neighbor (kNN)"
      ],
      "metadata": {
        "id": "c53qVTthoG-z"
      }
    },
    {
      "cell_type": "code",
      "source": [
        "# PARALELIZACIÓN DE PROCESO\n",
        "#===============================================================================\n",
        "library(doMC)\n",
        "registerDoMC(cores = 4)\n",
        "\n",
        "# HIPERPARÁMETROS, NÚMERO DE REPETICIONES Y SEMILLAS PARA CADA REPETICIÓN\n",
        "#===============================================================================\n",
        "particiones  <- 10\n",
        "repeticiones <- 5\n",
        "\n",
        "# Hiperparámetros\n",
        "hiperparametros <- data.frame(k = c(1, 2, 5, 10, 15, 20, 30, 50))\n",
        "\n",
        "set.seed(123)\n",
        "seeds <- vector(mode = \"list\", length = (particiones * repeticiones) + 1)\n",
        "for (i in 1:(particiones * repeticiones)) {\n",
        "  seeds[[i]] <- sample.int(1000, nrow(hiperparametros))\n",
        "}\n",
        "seeds[[(particiones * repeticiones) + 1]] <- sample.int(1000, 1)\n",
        "\n",
        "# DEFINICIÓN DEL ENTRENAMIENTO\n",
        "#===============================================================================\n",
        "control_train <- trainControl(method = \"repeatedcv\", number = particiones,\n",
        "                              repeats = repeticiones, seeds = seeds,\n",
        "                              returnResamp = \"final\", verboseIter = FALSE,\n",
        "                              allowParallel = TRUE)\n",
        "\n",
        "# AJUSTE DEL MODELO\n",
        "# ==============================================================================\n",
        "set.seed(342)\n",
        "modelo_knn <- train(Survived ~ ., data = datos_train_prep,\n",
        "                    method = \"knn\",\n",
        "                    tuneGrid = hiperparametros,\n",
        "                    metric = \"Accuracy\",\n",
        "                    trControl = control_train)\n",
        "modelo_knn"
      ],
      "metadata": {
        "id": "5ACQO302nPJK"
      },
      "execution_count": null,
      "outputs": []
    },
    {
      "cell_type": "code",
      "source": [
        "# REPRESENTACIÓN GRÁFICA\n",
        "# ==============================================================================\n",
        "ggplot(modelo_knn, highlight = TRUE) +\n",
        "  scale_x_continuous(breaks = hiperparametros$k) +\n",
        "  labs(title = \"Evolución del accuracy del modelo KNN\", x = \"K\") +\n",
        "  theme_bw()"
      ],
      "metadata": {
        "id": "6VL2ZOnan4ZE"
      },
      "execution_count": null,
      "outputs": []
    },
    {
      "cell_type": "markdown",
      "source": [
        "### Naive Bayes"
      ],
      "metadata": {
        "id": "3tVfXb-YoxQ9"
      }
    },
    {
      "cell_type": "code",
      "source": [
        "# PARALELIZACIÓN DE PROCESO\n",
        "#===============================================================================\n",
        "library(doMC)\n",
        "registerDoMC(cores = 4)\n",
        "\n",
        "# HIPERPARÁMETROS, NÚMERO DE REPETICIONES Y SEMILLAS PARA CADA REPETICIÓN\n",
        "#===============================================================================\n",
        "particiones  <- 10\n",
        "repeticiones <- 5\n",
        "\n",
        "# Hiperparámetros\n",
        "hiperparametros <- data.frame(usekernel = FALSE, fL = 0 , adjust = 0)\n",
        "\n",
        "set.seed(123)\n",
        "seeds <- vector(mode = \"list\", length = (particiones * repeticiones) + 1)\n",
        "for (i in 1:(particiones * repeticiones)) {\n",
        "  seeds[[i]] <- sample.int(1000, nrow(hiperparametros))\n",
        "}\n",
        "seeds[[(particiones * repeticiones) + 1]] <- sample.int(1000, 1)\n",
        "\n",
        "# DEFINICIÓN DEL ENTRENAMIENTO\n",
        "#===============================================================================\n",
        "control_train <- trainControl(method = \"repeatedcv\", number = particiones,\n",
        "                              repeats = repeticiones, seeds = seeds,\n",
        "                              returnResamp = \"final\", verboseIter = FALSE,\n",
        "                              allowParallel = TRUE)\n",
        "\n",
        "# AJUSTE DEL MODELO\n",
        "# ==============================================================================\n",
        "set.seed(342)\n",
        "modelo_nb <- train(Survived ~ ., data = datos_train_prep,\n",
        "                   method = \"nb\",\n",
        "                   tuneGrid = hiperparametros,\n",
        "                   metric = \"Accuracy\",\n",
        "                   trControl = control_train)\n",
        "modelo_nb"
      ],
      "metadata": {
        "id": "qarAUNyBo2r5"
      },
      "execution_count": null,
      "outputs": []
    },
    {
      "cell_type": "markdown",
      "source": [
        "### Regresión logística\n"
      ],
      "metadata": {
        "id": "72PFVzfupSr-"
      }
    },
    {
      "cell_type": "code",
      "source": [
        "# PARALELIZACIÓN DE PROCESO\n",
        "#===============================================================================\n",
        "library(doMC)\n",
        "registerDoMC(cores = 4)\n",
        "\n",
        "# HIPERPARÁMETROS, NÚMERO DE REPETICIONES Y SEMILLAS PARA CADA REPETICIÓN\n",
        "#===============================================================================\n",
        "particiones  <- 10\n",
        "repeticiones <- 5\n",
        "\n",
        "# Hiperparámetros\n",
        "hiperparametros <- data.frame(parameter = \"none\")\n",
        "\n",
        "set.seed(123)\n",
        "seeds <- vector(mode = \"list\", length = (particiones * repeticiones) + 1)\n",
        "for (i in 1:(particiones * repeticiones)) {\n",
        "  seeds[[i]] <- sample.int(1000, nrow(hiperparametros))\n",
        "}\n",
        "seeds[[(particiones * repeticiones) + 1]] <- sample.int(1000, 1)\n",
        "\n",
        "# DEFINICIÓN DEL ENTRENAMIENTO\n",
        "#===============================================================================\n",
        "control_train <- trainControl(method = \"repeatedcv\", number = particiones,\n",
        "                              repeats = repeticiones, seeds = seeds,\n",
        "                              returnResamp = \"final\", verboseIter = FALSE,\n",
        "                              allowParallel = TRUE)\n",
        "\n",
        "# AJUSTE DEL MODELO\n",
        "# ==============================================================================\n",
        "set.seed(342)\n",
        "modelo_logistic <- train(Survived ~ ., data = datos_train_prep,\n",
        "                         method = \"glm\",\n",
        "                         tuneGrid = hiperparametros,\n",
        "                         metric = \"Accuracy\",\n",
        "                         trControl = control_train,\n",
        "                         family = \"binomial\")\n",
        "modelo_logistic"
      ],
      "metadata": {
        "id": "9_EdrzdqpYnX"
      },
      "execution_count": null,
      "outputs": []
    },
    {
      "cell_type": "code",
      "source": [
        "summary(modelo_logistic$finalModel)"
      ],
      "metadata": {
        "id": "Rx-s0tDXppO7"
      },
      "execution_count": null,
      "outputs": []
    },
    {
      "cell_type": "markdown",
      "source": [
        "### LDA"
      ],
      "metadata": {
        "id": "aJfsFH_rpu4w"
      }
    },
    {
      "cell_type": "code",
      "source": [
        "# PARALELIZACIÓN DE PROCESO\n",
        "#===============================================================================\n",
        "library(doMC)\n",
        "registerDoMC(cores = 4)\n",
        "\n",
        "# HIPERPARÁMETROS, NÚMERO DE REPETICIONES Y SEMILLAS PARA CADA REPETICIÓN\n",
        "#===============================================================================\n",
        "particiones  <- 10\n",
        "repeticiones <- 5\n",
        "\n",
        "# Hiperparámetros\n",
        "hiperparametros <- data.frame(parameter = \"none\")\n",
        "\n",
        "set.seed(123)\n",
        "seeds <- vector(mode = \"list\", length = (particiones * repeticiones) + 1)\n",
        "for (i in 1:(particiones * repeticiones)) {\n",
        "  seeds[[i]] <- sample.int(1000, nrow(hiperparametros))\n",
        "}\n",
        "seeds[[(particiones * repeticiones) + 1]] <- sample.int(1000, 1)\n",
        "\n",
        "# DEFINICIÓN DEL ENTRENAMIENTO\n",
        "#===============================================================================\n",
        "control_train <- trainControl(method = \"repeatedcv\", number = particiones,\n",
        "                              repeats = repeticiones, seeds = seeds,\n",
        "                              returnResamp = \"final\", verboseIter = FALSE,\n",
        "                              allowParallel = TRUE)\n",
        "\n",
        "# AJUSTE DEL MODELO\n",
        "# ==============================================================================\n",
        "set.seed(342)\n",
        "modelo_lda <- train(Survived ~ ., data = datos_train_prep,\n",
        "                    method = \"lda\",\n",
        "                    tuneGrid = hiperparametros,\n",
        "                    metric = \"Accuracy\",\n",
        "                    trControl = control_train)\n",
        "modelo_lda"
      ],
      "metadata": {
        "id": "WRsOolT-pzHZ"
      },
      "execution_count": null,
      "outputs": []
    },
    {
      "cell_type": "code",
      "source": [
        "modelo_lda$finalModel"
      ],
      "metadata": {
        "id": "FClGp3mhp3iZ"
      },
      "execution_count": null,
      "outputs": []
    },
    {
      "cell_type": "markdown",
      "source": [
        "### Árbol de clasificación simple"
      ],
      "metadata": {
        "id": "ThGnT5lnp6_t"
      }
    },
    {
      "cell_type": "code",
      "source": [
        "# PARALELIZACIÓN DE PROCESO\n",
        "#===============================================================================\n",
        "library(doMC)\n",
        "registerDoMC(cores = 4)\n",
        "\n",
        "# HIPERPARÁMETROS, NÚMERO DE REPETICIONES Y SEMILLAS PARA CADA REPETICIÓN\n",
        "#===============================================================================\n",
        "particiones  <- 10\n",
        "repeticiones <- 5\n",
        "\n",
        "# Hiperparámetros\n",
        "hiperparametros <- data.frame(parameter = \"none\")\n",
        "\n",
        "set.seed(123)\n",
        "seeds <- vector(mode = \"list\", length = (particiones * repeticiones) + 1)\n",
        "for (i in 1:(particiones * repeticiones)) {\n",
        "  seeds[[i]] <- sample.int(1000, nrow(hiperparametros))\n",
        "}\n",
        "seeds[[(particiones * repeticiones) + 1]] <- sample.int(1000, 1)\n",
        "\n",
        "# DEFINICIÓN DEL ENTRENAMIENTO\n",
        "#===============================================================================\n",
        "control_train <- trainControl(method = \"repeatedcv\", number = particiones,\n",
        "                              repeats = repeticiones, seeds = seeds,\n",
        "                              returnResamp = \"final\", verboseIter = FALSE,\n",
        "                              allowParallel = TRUE)\n",
        "\n",
        "# AJUSTE DEL MODELO\n",
        "# ==============================================================================\n",
        "set.seed(342)\n",
        "modelo_C50Tree <- train(Survived ~ ., data = datos_train_prep,\n",
        "                    method = \"C5.0Tree\",\n",
        "                    tuneGrid = hiperparametros,\n",
        "                    metric = \"Accuracy\",\n",
        "                    trControl = control_train)\n",
        "modelo_C50Tree"
      ],
      "metadata": {
        "id": "S3qfYSJ0p-7r"
      },
      "execution_count": null,
      "outputs": []
    },
    {
      "cell_type": "code",
      "source": [
        "summary(modelo_C50Tree$finalModel)"
      ],
      "metadata": {
        "id": "F0B2RTZ0qSPr"
      },
      "execution_count": null,
      "outputs": []
    },
    {
      "cell_type": "markdown",
      "source": [
        "### RandomForest"
      ],
      "metadata": {
        "id": "Egn_JQjBqWRQ"
      }
    },
    {
      "cell_type": "code",
      "source": [
        "# PARALELIZACIÓN DE PROCESO\n",
        "#===============================================================================\n",
        "library(doMC)\n",
        "registerDoMC(cores = 4)\n",
        "\n",
        "# HIPERPARÁMETROS, NÚMERO DE REPETICIONES Y SEMILLAS PARA CADA REPETICIÓN\n",
        "#===============================================================================\n",
        "particiones  <- 10\n",
        "repeticiones <- 5\n",
        "\n",
        "# Hiperparámetros\n",
        "hiperparametros <- expand.grid(mtry = c(3, 4, 5, 7),\n",
        "                               min.node.size = c(2, 3, 4, 5, 10, 15, 20, 30),\n",
        "                               splitrule = \"gini\")\n",
        "\n",
        "set.seed(123)\n",
        "seeds <- vector(mode = \"list\", length = (particiones * repeticiones) + 1)\n",
        "for (i in 1:(particiones * repeticiones)) {\n",
        "  seeds[[i]] <- sample.int(1000, nrow(hiperparametros))\n",
        "}\n",
        "seeds[[(particiones * repeticiones) + 1]] <- sample.int(1000, 1)\n",
        "\n",
        "# DEFINICIÓN DEL ENTRENAMIENTO\n",
        "#===============================================================================\n",
        "control_train <- trainControl(method = \"repeatedcv\", number = particiones,\n",
        "                              repeats = repeticiones, seeds = seeds,\n",
        "                              returnResamp = \"final\", verboseIter = FALSE,\n",
        "                              allowParallel = TRUE)\n",
        "\n",
        "# AJUSTE DEL MODELO\n",
        "# ==============================================================================\n",
        "set.seed(342)\n",
        "modelo_rf <- train(Survived ~ ., data = datos_train_prep,\n",
        "                   method = \"ranger\",\n",
        "                   tuneGrid = hiperparametros,\n",
        "                   metric = \"Accuracy\",\n",
        "                   trControl = control_train,\n",
        "                   # Número de árboles ajustados\n",
        "                   num.trees = 500)\n",
        "modelo_rf"
      ],
      "metadata": {
        "id": "sHm0xZJSqZd0"
      },
      "execution_count": null,
      "outputs": []
    },
    {
      "cell_type": "code",
      "source": [
        "modelo_rf$finalModel"
      ],
      "metadata": {
        "id": "hFk4kQeLqge2"
      },
      "execution_count": null,
      "outputs": []
    },
    {
      "cell_type": "code",
      "source": [
        "# REPRESENTACIÓN GRÁFICA\n",
        "# ==============================================================================\n",
        "ggplot(modelo_rf, highlight = TRUE) +\n",
        "  scale_x_continuous(breaks = 1:30) +\n",
        "  labs(title = \"Evolución del accuracy del modelo Random Forest\") +\n",
        "  guides(color = guide_legend(title = \"mtry\"),\n",
        "         shape = guide_legend(title = \"mtry\")) +\n",
        "  theme_bw()"
      ],
      "metadata": {
        "id": "x2jcGFOpqjnT"
      },
      "execution_count": null,
      "outputs": []
    },
    {
      "cell_type": "markdown",
      "source": [
        "### Gradient Boosting"
      ],
      "metadata": {
        "id": "aSOL_Y7AqnvI"
      }
    },
    {
      "cell_type": "code",
      "source": [
        "# PARALELIZACIÓN DE PROCESO\n",
        "#===============================================================================\n",
        "library(doMC)\n",
        "registerDoMC(cores = 4)\n",
        "\n",
        "# HIPERPARÁMETROS, NÚMERO DE REPETICIONES Y SEMILLAS PARA CADA REPETICIÓN\n",
        "#===============================================================================\n",
        "particiones  <- 10\n",
        "repeticiones <- 5\n",
        "\n",
        "# Hiperparámetros\n",
        "hiperparametros <- expand.grid(interaction.depth = c(1, 2),\n",
        "                               n.trees = c(500, 1000, 2000),\n",
        "                               shrinkage = c(0.001, 0.01, 0.1),\n",
        "                               n.minobsinnode = c(2, 5, 15))\n",
        "\n",
        "set.seed(123)\n",
        "seeds <- vector(mode = \"list\", length = (particiones * repeticiones) + 1)\n",
        "for (i in 1:(particiones * repeticiones)) {\n",
        "  seeds[[i]] <- sample.int(1000, nrow(hiperparametros))\n",
        "}\n",
        "seeds[[(particiones * repeticiones) + 1]] <- sample.int(1000, 1)\n",
        "\n",
        "# DEFINICIÓN DEL ENTRENAMIENTO\n",
        "#===============================================================================\n",
        "control_train <- trainControl(method = \"repeatedcv\", number = particiones,\n",
        "                              repeats = repeticiones, seeds = seeds,\n",
        "                              returnResamp = \"final\", verboseIter = FALSE,\n",
        "                              allowParallel = TRUE)\n",
        "\n",
        "# AJUSTE DEL MODELO\n",
        "# ==============================================================================\n",
        "set.seed(342)\n",
        "modelo_boost <- train(Survived ~ ., data = datos_train_prep,\n",
        "                   method = \"gbm\",\n",
        "                   tuneGrid = hiperparametros,\n",
        "                   metric = \"Accuracy\",\n",
        "                   trControl = control_train,\n",
        "                   # Número de árboles ajustados\n",
        "                   distribution = \"adaboost\",\n",
        "                   verbose = FALSE)\n",
        "modelo_boost"
      ],
      "metadata": {
        "id": "HNelT_3Kq3CN"
      },
      "execution_count": null,
      "outputs": []
    },
    {
      "cell_type": "code",
      "source": [
        "# REPRESENTACIÓN GRÁFICA\n",
        "# ==============================================================================\n",
        "ggplot(modelo_boost, highlight = TRUE) +\n",
        "  labs(title = \"Evolución del accuracy del modelo Gradient Boosting\") +\n",
        "    guides(color = guide_legend(title = \"shrinkage\"),\n",
        "           shape = guide_legend(title = \"shrinkage\")) +\n",
        "  theme_bw() +\n",
        "  theme(legend.position = \"bottom\")"
      ],
      "metadata": {
        "id": "-szOzdD4q4xs"
      },
      "execution_count": null,
      "outputs": []
    },
    {
      "cell_type": "markdown",
      "source": [
        "### SVM"
      ],
      "metadata": {
        "id": "qD0gvDu5q9Iu"
      }
    },
    {
      "cell_type": "code",
      "source": [
        "# PARALELIZACIÓN DE PROCESO\n",
        "#===============================================================================\n",
        "library(doMC)\n",
        "registerDoMC(cores = 4)\n",
        "\n",
        "# HIPERPARÁMETROS, NÚMERO DE REPETICIONES Y SEMILLAS PARA CADA REPETICIÓN\n",
        "#===============================================================================\n",
        "particiones  <- 10\n",
        "repeticiones <- 5\n",
        "\n",
        "# Hiperparámetros\n",
        "hiperparametros <- expand.grid(sigma = c(0.001, 0.01, 0.1, 0.5, 1),\n",
        "                               C = c(1 , 20, 50, 100, 200, 500, 700))\n",
        "\n",
        "set.seed(123)\n",
        "seeds <- vector(mode = \"list\", length = (particiones * repeticiones) + 1)\n",
        "for (i in 1:(particiones * repeticiones)) {\n",
        "  seeds[[i]] <- sample.int(1000, nrow(hiperparametros))\n",
        "}\n",
        "seeds[[(particiones * repeticiones) + 1]] <- sample.int(1000, 1)\n",
        "\n",
        "# DEFINICIÓN DEL ENTRENAMIENTO\n",
        "#===============================================================================\n",
        "control_train <- trainControl(method = \"repeatedcv\", number = particiones,\n",
        "                              repeats = repeticiones, seeds = seeds,\n",
        "                              returnResamp = \"final\", verboseIter = FALSE,\n",
        "                              allowParallel = TRUE)\n",
        "\n",
        "# AJUSTE DEL MODELO\n",
        "# ==============================================================================\n",
        "set.seed(342)\n",
        "modelo_svmrad <- train(Survived ~ ., data = datos_train_prep,\n",
        "                   method = \"svmRadial\",\n",
        "                   tuneGrid = hiperparametros,\n",
        "                   metric = \"Accuracy\",\n",
        "                   trControl = control_train)\n",
        "modelo_svmrad"
      ],
      "metadata": {
        "id": "qYvsK4e9rDGE"
      },
      "execution_count": null,
      "outputs": []
    },
    {
      "cell_type": "code",
      "source": [
        "modelo_svmrad$finalModel"
      ],
      "metadata": {
        "id": "RZbOih9erH0p"
      },
      "execution_count": null,
      "outputs": []
    },
    {
      "cell_type": "code",
      "source": [
        "# REPRESENTACIÓN GRÁFICA\n",
        "# ==============================================================================\n",
        "ggplot(modelo_svmrad, highlight = TRUE) +\n",
        "  labs(title = \"Evolución del accuracy del modelo SVM Radial\") +\n",
        "  theme_bw()"
      ],
      "metadata": {
        "id": "FNBAl6JHrJai"
      },
      "execution_count": null,
      "outputs": []
    },
    {
      "cell_type": "markdown",
      "source": [
        "### Redes neuronales (NNET)"
      ],
      "metadata": {
        "id": "i8Mq7V9orM3J"
      }
    },
    {
      "cell_type": "code",
      "source": [
        "# PARALELIZACIÓN DE PROCESO\n",
        "#===============================================================================\n",
        "library(doMC)\n",
        "registerDoMC(cores = 4)\n",
        "\n",
        "# HIPERPARÁMETROS, NÚMERO DE REPETICIONES Y SEMILLAS PARA CADA REPETICIÓN\n",
        "#===============================================================================\n",
        "particiones  <- 10\n",
        "repeticiones <- 5\n",
        "\n",
        "# Hiperparámetros\n",
        "hiperparametros <- expand.grid(size = c(10, 20, 50, 80, 100, 120),\n",
        "                               decay = c(0.0001, 0.1, 0.5))\n",
        "\n",
        "set.seed(123)\n",
        "seeds <- vector(mode = \"list\", length = (particiones * repeticiones) + 1)\n",
        "for (i in 1:(particiones * repeticiones)) {\n",
        "  seeds[[i]] <- sample.int(1000, nrow(hiperparametros))\n",
        "}\n",
        "seeds[[(particiones * repeticiones) + 1]] <- sample.int(1000, 1)\n",
        "\n",
        "# DEFINICIÓN DEL ENTRENAMIENTO\n",
        "#===============================================================================\n",
        "control_train <- trainControl(method = \"repeatedcv\", number = particiones,\n",
        "                              repeats = repeticiones, seeds = seeds,\n",
        "                              returnResamp = \"final\", verboseIter = FALSE,\n",
        "                              allowParallel = TRUE)\n",
        "\n",
        "# AJUSTE DEL MODELO\n",
        "# ==============================================================================\n",
        "set.seed(342)\n",
        "modelo_nnet <- train(Survived ~ ., data = datos_train_prep,\n",
        "                   method = \"nnet\",\n",
        "                   tuneGrid = hiperparametros,\n",
        "                   metric = \"Accuracy\",\n",
        "                   trControl = control_train,\n",
        "                   # Rango de inicialización de los pesos\n",
        "                   rang = c(-0.7, 0.7),\n",
        "                   # Número máximo de pesos\n",
        "                   # se aumenta para poder incluir más meuronas\n",
        "                   MaxNWts = 2000,\n",
        "                   # Para que no se muestre cada iteración por pantalla\n",
        "                   trace = FALSE)\n",
        "modelo_nnet"
      ],
      "metadata": {
        "id": "EPStnAGVrR2f"
      },
      "execution_count": null,
      "outputs": []
    },
    {
      "cell_type": "code",
      "source": [
        "# REPRESENTACIÓN GRÁFICA\n",
        "# ==============================================================================\n",
        "ggplot(modelo_nnet, highlight = TRUE) +\n",
        "  labs(title = \"Evolución del accuracy del modelo NNET\") +\n",
        "  theme_bw()"
      ],
      "metadata": {
        "id": "oUhHsITCrTPt"
      },
      "execution_count": null,
      "outputs": []
    }
  ]
}
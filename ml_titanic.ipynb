{
  "nbformat": 4,
  "nbformat_minor": 0,
  "metadata": {
    "colab": {
      "provenance": [],
      "authorship_tag": "ABX9TyNS3x01aq0syyjHea4efy4Z",
      "include_colab_link": true
    },
    "kernelspec": {
      "name": "ir",
      "display_name": "R"
    },
    "language_info": {
      "name": "R"
    }
  },
  "cells": [
    {
      "cell_type": "markdown",
      "metadata": {
        "id": "view-in-github",
        "colab_type": "text"
      },
      "source": [
        "<a href=\"https://colab.research.google.com/github/RodrigoCharalla/proyecto-titanic/blob/main/ml_titanic.ipynb\" target=\"_parent\"><img src=\"https://colab.research.google.com/assets/colab-badge.svg\" alt=\"Open In Colab\"/></a>"
      ]
    },
    {
      "cell_type": "code",
      "execution_count": 2,
      "metadata": {
        "colab": {
          "base_uri": "https://localhost:8080/"
        },
        "id": "2ws15M1bY4xq",
        "outputId": "d69fbf0d-5479-4317-c45c-907041a171e6",
        "collapsed": true
      },
      "outputs": [
        {
          "output_type": "stream",
          "name": "stderr",
          "text": [
            "Installing package into ‘/usr/local/lib/R/site-library’\n",
            "(as ‘lib’ is unspecified)\n",
            "\n",
            "also installing the dependencies ‘listenv’, ‘parallelly’, ‘future’, ‘globals’, ‘shape’, ‘future.apply’, ‘numDeriv’, ‘progressr’, ‘SQUAREM’, ‘diagram’, ‘lava’, ‘prodlim’, ‘proxy’, ‘iterators’, ‘Rcpp’, ‘clock’, ‘gower’, ‘hardhat’, ‘ipred’, ‘timeDate’, ‘e1071’, ‘foreach’, ‘ModelMetrics’, ‘plyr’, ‘pROC’, ‘recipes’, ‘reshape2’\n",
            "\n",
            "\n"
          ]
        }
      ],
      "source": [
        "# Instalación de los paquetes que unifica caret. Esta instalación puede tardar.\n",
        "# Solo es necesario ejecutarla si no se dispone de los paquetes.\n",
        "install.packages(\"caret\")"
      ]
    },
    {
      "cell_type": "code",
      "source": [
        "library(caret)"
      ],
      "metadata": {
        "id": "qSpEdN9-ZHdY"
      },
      "execution_count": null,
      "outputs": []
    },
    {
      "cell_type": "markdown",
      "source": [
        "#Dataset Titanic"
      ],
      "metadata": {
        "id": "fINOKlfZcLEb"
      }
    },
    {
      "cell_type": "code",
      "source": [
        "library(tidyverse)\n",
        "library(titanic)\n",
        "datos <- titanic_train"
      ],
      "metadata": {
        "id": "qMOm2iYEh4KW",
        "colab": {
          "base_uri": "https://localhost:8080/",
          "height": 297
        },
        "outputId": "7fa17886-a0fd-40e5-b391-ed880a903dd6"
      },
      "execution_count": 4,
      "outputs": [
        {
          "output_type": "stream",
          "name": "stderr",
          "text": [
            "── \u001b[1mAttaching core tidyverse packages\u001b[22m ──────────────────────── tidyverse 2.0.0 ──\n",
            "\u001b[32m✔\u001b[39m \u001b[34mdplyr    \u001b[39m 1.1.4     \u001b[32m✔\u001b[39m \u001b[34mreadr    \u001b[39m 2.1.5\n",
            "\u001b[32m✔\u001b[39m \u001b[34mforcats  \u001b[39m 1.0.0     \u001b[32m✔\u001b[39m \u001b[34mstringr  \u001b[39m 1.5.1\n",
            "\u001b[32m✔\u001b[39m \u001b[34mlubridate\u001b[39m 1.9.3     \u001b[32m✔\u001b[39m \u001b[34mtibble   \u001b[39m 3.2.1\n",
            "\u001b[32m✔\u001b[39m \u001b[34mpurrr    \u001b[39m 1.0.2     \u001b[32m✔\u001b[39m \u001b[34mtidyr    \u001b[39m 1.3.1\n",
            "── \u001b[1mConflicts\u001b[22m ────────────────────────────────────────── tidyverse_conflicts() ──\n",
            "\u001b[31m✖\u001b[39m \u001b[34mpurrr\u001b[39m::\u001b[32m%||%()\u001b[39m   masks \u001b[34mbase\u001b[39m::%||%()\n",
            "\u001b[31m✖\u001b[39m \u001b[34mdplyr\u001b[39m::\u001b[32mfilter()\u001b[39m masks \u001b[34mstats\u001b[39m::filter()\n",
            "\u001b[31m✖\u001b[39m \u001b[34mdplyr\u001b[39m::\u001b[32mlag()\u001b[39m    masks \u001b[34mstats\u001b[39m::lag()\n",
            "\u001b[31m✖\u001b[39m \u001b[34mpurrr\u001b[39m::\u001b[32mlift()\u001b[39m   masks \u001b[34mcaret\u001b[39m::lift()\n",
            "\u001b[36mℹ\u001b[39m Use the conflicted package (\u001b[3m\u001b[34m<http://conflicted.r-lib.org/>\u001b[39m\u001b[23m) to force all conflicts to become errors\n"
          ]
        },
        {
          "output_type": "error",
          "ename": "ERROR",
          "evalue": "Error in library(titanic): there is no package called ‘titanic’\n",
          "traceback": [
            "Error in library(titanic): there is no package called ‘titanic’\nTraceback:\n",
            "1. library(titanic)"
          ]
        }
      ]
    },
    {
      "cell_type": "markdown",
      "source": [
        "#Análisis exploratorio de los datos\n"
      ],
      "metadata": {
        "id": "XxHuC4salGzh"
      }
    },
    {
      "cell_type": "markdown",
      "source": [
        "\n",
        "\n",
        "* **PassengerId:** identificador único del pasajero.\n",
        "\n",
        "* **Survived:** si el pasajero sobrevivió al naufragio, codificada como 0 (no) y 1 (si). Esta es la variable respuesta que interesa predecir.\n",
        "\n",
        "* **Pclass:** clase a la que pertenecía el pasajero: 1, 2 o 3.\n",
        "\n",
        "* **Name:** nombre del pasajero.\n",
        "\n",
        "* **Sex:** sexo del pasajero.\n",
        "\n",
        "* **Age:** edad del pasajero.\n",
        "\n",
        "* **SibSp:** número de hermanos, hermanas, hermanastros o hermanastras en el barco.\n",
        "\n",
        "* **Parch:** número de padres e hijos en el barco.\n",
        "\n",
        "* **Ticket:** identificador del billete.\n",
        "\n",
        "* **Fare:** precio pagado por el billete.\n",
        "\n",
        "* **Cabin:** identificador del camarote asignado al pasajero.\n",
        "\n",
        "* **Embarked:** puerto en el que embarcó el pasajero."
      ],
      "metadata": {
        "id": "LGnYqgixoscC"
      }
    },
    {
      "cell_type": "markdown",
      "source": [
        "# Tipo de variables\n"
      ],
      "metadata": {
        "id": "CdLQ8U9_FxTN"
      }
    },
    {
      "cell_type": "code",
      "source": [
        "# Resumen del set de datos\n",
        "glimpse(datos)"
      ],
      "metadata": {
        "id": "jJ0EnHVIGd3O",
        "outputId": "471e9f27-31a5-4371-bcf8-52aa1c9cff2e",
        "colab": {
          "base_uri": "https://localhost:8080/",
          "height": 72
        }
      },
      "execution_count": 1,
      "outputs": [
        {
          "output_type": "error",
          "ename": "ERROR",
          "evalue": "Error in glimpse(datos): could not find function \"glimpse\"\n",
          "traceback": [
            "Error in glimpse(datos): could not find function \"glimpse\"\nTraceback:\n"
          ]
        }
      ]
    }
  ]
}
{
  "nbformat": 4,
  "nbformat_minor": 0,
  "metadata": {
    "colab": {
      "provenance": [],
      "gpuType": "T4",
      "authorship_tag": "ABX9TyPesCckKDU8P2iDZAL12f4S",
      "include_colab_link": true
    },
    "kernelspec": {
      "name": "ir",
      "display_name": "R"
    },
    "language_info": {
      "name": "R"
    },
    "accelerator": "GPU"
  },
  "cells": [
    {
      "cell_type": "markdown",
      "metadata": {
        "id": "view-in-github",
        "colab_type": "text"
      },
      "source": [
        "<a href=\"https://colab.research.google.com/github/RodrigoCharalla/proyecto-titanic/blob/main/ml_titanic.ipynb\" target=\"_parent\"><img src=\"https://colab.research.google.com/assets/colab-badge.svg\" alt=\"Open In Colab\"/></a>"
      ]
    },
    {
      "cell_type": "code",
      "execution_count": null,
      "metadata": {
        "colab": {
          "base_uri": "https://localhost:8080/"
        },
        "id": "2ws15M1bY4xq",
        "outputId": "7e7300bf-14f4-4662-963b-cb25ac32fa44",
        "collapsed": true
      },
      "outputs": [
        {
          "output_type": "stream",
          "name": "stderr",
          "text": [
            "Installing package into ‘/usr/local/lib/R/site-library’\n",
            "(as ‘lib’ is unspecified)\n",
            "\n",
            "also installing the dependencies ‘listenv’, ‘parallelly’, ‘future’, ‘globals’, ‘shape’, ‘future.apply’, ‘numDeriv’, ‘progressr’, ‘SQUAREM’, ‘diagram’, ‘lava’, ‘prodlim’, ‘proxy’, ‘iterators’, ‘Rcpp’, ‘clock’, ‘gower’, ‘hardhat’, ‘ipred’, ‘timeDate’, ‘e1071’, ‘foreach’, ‘ModelMetrics’, ‘plyr’, ‘pROC’, ‘recipes’, ‘reshape2’\n",
            "\n",
            "\n"
          ]
        }
      ],
      "source": [
        "# Instalación de los paquetes que unifica caret. Esta instalación puede tardar.\n",
        "# Solo es necesario ejecutarla si no se dispone de los paquetes.\n",
        "install.packages(\"caret\")"
      ]
    },
    {
      "cell_type": "code",
      "source": [
        "library(caret)\n"
      ],
      "metadata": {
        "colab": {
          "base_uri": "https://localhost:8080/"
        },
        "id": "qSpEdN9-ZHdY",
        "outputId": "0b4338d9-0e99-479f-8559-88ae642df7a6",
        "collapsed": true
      },
      "execution_count": null,
      "outputs": [
        {
          "output_type": "stream",
          "name": "stderr",
          "text": [
            "Loading required package: ggplot2\n",
            "\n",
            "Loading required package: lattice\n",
            "\n"
          ]
        }
      ]
    },
    {
      "cell_type": "markdown",
      "source": [
        "#Dataset Titanic"
      ],
      "metadata": {
        "id": "fINOKlfZcLEb"
      }
    },
    {
      "cell_type": "code",
      "source": [
        "library(tidyverse)\n",
        "library(titanic)\n",
        "datos <- titanic_train"
      ],
      "metadata": {
        "id": "qMOm2iYEh4KW"
      },
      "execution_count": null,
      "outputs": []
    },
    {
      "cell_type": "markdown",
      "source": [
        "#Análisis exploratorio de los datos\n"
      ],
      "metadata": {
        "id": "XxHuC4salGzh"
      }
    },
    {
      "cell_type": "markdown",
      "source": [
        "\n",
        "\n",
        "* **PassengerId:** identificador único del pasajero.\n",
        "\n",
        "* **Survived:** si el pasajero sobrevivió al naufragio, codificada como 0 (no) y 1 (si). Esta es la variable respuesta que interesa predecir.\n",
        "\n",
        "* **Pclass:** clase a la que pertenecía el pasajero: 1, 2 o 3.\n",
        "\n",
        "* **Name:** nombre del pasajero.\n",
        "\n",
        "* **Sex:** sexo del pasajero.\n",
        "\n",
        "* **Age:** edad del pasajero.\n",
        "\n",
        "* **SibSp:** número de hermanos, hermanas, hermanastros o hermanastras en el barco.\n",
        "\n",
        "* **Parch:** número de padres e hijos en el barco.\n",
        "\n",
        "* **Ticket:** identificador del billete.\n",
        "\n",
        "* **Fare:** precio pagado por el billete.\n",
        "\n",
        "* **Cabin:** identificador del camarote asignado al pasajero.\n",
        "\n",
        "* **Embarked:** puerto en el que embarcó el pasajero."
      ],
      "metadata": {
        "id": "LGnYqgixoscC"
      }
    }
  ]
}